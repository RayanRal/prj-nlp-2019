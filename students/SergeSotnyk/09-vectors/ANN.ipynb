{
 "cells": [
  {
   "cell_type": "code",
   "execution_count": 1,
   "metadata": {},
   "outputs": [],
   "source": [
    "from utils_1551 import Corpus, load_train_and_test, text2tokens\n",
    "\n",
    "from bpemb import BPEmb\n",
    "from uk_stopwords import STOP_WORDS\n",
    "from typing import List, Dict\n",
    "import numpy as np\n",
    "import random"
   ]
  },
  {
   "cell_type": "code",
   "execution_count": 2,
   "metadata": {},
   "outputs": [],
   "source": [
    "train, test = load_train_and_test()"
   ]
  },
  {
   "cell_type": "code",
   "execution_count": 3,
   "metadata": {},
   "outputs": [],
   "source": [
    "dim = 300\n",
    "bpemb_ua = BPEmb(lang=\"uk\", dim=dim)"
   ]
  },
  {
   "cell_type": "code",
   "execution_count": 4,
   "metadata": {},
   "outputs": [
    {
     "name": "stdout",
     "output_type": "stream",
     "text": [
      "(3, 300)\n",
      "['▁що', 'сь', '▁там']\n"
     ]
    }
   ],
   "source": [
    "print(bpemb_ua.embed('щось там').shape)\n",
    "print(bpemb_ua.encode('щось там'))"
   ]
  },
  {
   "cell_type": "code",
   "execution_count": 5,
   "metadata": {},
   "outputs": [
    {
     "name": "stdout",
     "output_type": "stream",
     "text": [
      "['Ваша', 'відповідь', 'Повідомляємо', 'що', 'відповідно', 'до', 'п', '5', '7', 'Державного', 'стандарту', 'України', '4123', '2006', 'Пристрій', 'примусового', 'зниження', 'швидкості', 'дорожньо', 'транспортної', 'техніки', 'на', 'вулицях', 'і', 'дорогах', 'Загальні', 'технічні', 'вимоги', 'заборонено', 'встановлювати', 'пристрої', 'примусового', 'зниження', 'швидкості', 'руху', 'транспортних', 'засобів', 'на', 'магістральних', 'вулицях', 'а', 'просп', 'Григоренка', 'має', 'категорію', 'магістральної', 'вулиці', 'районного', 'значення']\n"
     ]
    }
   ],
   "source": [
    "s = \"Ваша відповідь:  Повідомляємо, що відповідно до п. 5.7 Державного стандарту України 4123-2006 «Пристрій примусового зниження швидкості дорожньо-транспортної техніки на вулицях і дорогах. Загальні технічні вимоги» заборонено встановлювати пристрої примусового зниження швидкості руху транспортних засобів на магістральних вулицях, а просп. Григоренка має категорію магістральної вулиці районного значення.\"\n",
    "print(text2tokens(s))"
   ]
  },
  {
   "cell_type": "code",
   "execution_count": 6,
   "metadata": {},
   "outputs": [
    {
     "name": "stdout",
     "output_type": "stream",
     "text": [
      "(300,)\n"
     ]
    }
   ],
   "source": [
    "def text2vec(text: str):\n",
    "    res = np.zeros(dim)\n",
    "    words = text2tokens(text.lower())\n",
    "    for w in words:\n",
    "        if w in STOP_WORDS:\n",
    "            continue\n",
    "        for v in bpemb_ua.embed(w):\n",
    "            res += v\n",
    "    res /= max(np.linalg.norm(res), 1e-6)\n",
    "    return res\n",
    "\n",
    "print(text2vec(s).shape)"
   ]
  },
  {
   "cell_type": "code",
   "execution_count": 7,
   "metadata": {},
   "outputs": [],
   "source": [
    "def corpus2xy(corpus: Corpus)->(np.array, np.array):\n",
    "    x, y = [], []\n",
    "    for name, messages in corpus.items():\n",
    "        for id_, text in messages:\n",
    "            vec = text2vec(text)\n",
    "            x.append(vec)\n",
    "            y.append(name)\n",
    "    return np.array(x), np.array(y)\n",
    "\n",
    "def extract_labels(corpus: Corpus)->Dict[str, int]:\n",
    "    res = {name:i for i, name in enumerate(corpus.keys())}\n",
    "    return res\n",
    "\n",
    "labels_dict = extract_labels(train)\n",
    "def labels_to_ind(y: np.array)->np.array:\n",
    "    return np.array([labels_dict[name] for name in y])\n",
    "\n",
    "def shuffle_xy(x: np.array, y:np.array)->(np.array, np.array):\n",
    "    assert len(x) == len(y)\n",
    "    p = np.random.permutation(len(x))\n",
    "    return x[p], y[p]"
   ]
  },
  {
   "cell_type": "code",
   "execution_count": 8,
   "metadata": {},
   "outputs": [
    {
     "name": "stdout",
     "output_type": "stream",
     "text": [
      "['Інші-Подяки' 'Інші-Подяки' 'Інші-Подяки']\n"
     ]
    }
   ],
   "source": [
    "x_train, y_train = corpus2xy(train)\n",
    "\n",
    "#print(x_train[:3])\n",
    "print(y_train[:3])"
   ]
  },
  {
   "cell_type": "code",
   "execution_count": 9,
   "metadata": {},
   "outputs": [
    {
     "name": "stdout",
     "output_type": "stream",
     "text": [
      "['Відсутність-ГВП'\n",
      " 'Перевірка-наявності-дозволів-на-виконання-будівельних-робіт'\n",
      " 'Відсутність-освітлення-на-опорних-стовпах-за-відсутності-несправності-лампочок']\n"
     ]
    }
   ],
   "source": [
    "x_train, y_train = shuffle_xy(x_train, y_train)\n",
    "#print(x_train[:3])\n",
    "print(y_train[:3])"
   ]
  },
  {
   "cell_type": "code",
   "execution_count": 10,
   "metadata": {},
   "outputs": [],
   "source": [
    "y_train_idx = labels_to_ind(y_train)"
   ]
  },
  {
   "cell_type": "code",
   "execution_count": 11,
   "metadata": {},
   "outputs": [
    {
     "name": "stdout",
     "output_type": "stream",
     "text": [
      "(48120, 300) float64\n",
      "(48120,) int32\n"
     ]
    }
   ],
   "source": [
    "print(x_train.shape, x_train.dtype)\n",
    "print(y_train_idx.shape, y_train_idx.dtype)"
   ]
  },
  {
   "cell_type": "code",
   "execution_count": 12,
   "metadata": {},
   "outputs": [],
   "source": [
    "x_test, y_test = corpus2xy(test)\n",
    "y_test_idx = labels_to_ind(y_test)"
   ]
  },
  {
   "cell_type": "code",
   "execution_count": 18,
   "metadata": {},
   "outputs": [
    {
     "name": "stdout",
     "output_type": "stream",
     "text": [
      "(16147, 300) float64\n",
      "(16147,) int32\n"
     ]
    }
   ],
   "source": [
    "print(x_test.shape, x_test.dtype)\n",
    "print(y_test_idx.shape, y_test_idx.dtype)"
   ]
  },
  {
   "cell_type": "code",
   "execution_count": 13,
   "metadata": {},
   "outputs": [],
   "source": [
    "from tensorflow.keras import layers, models\n",
    "from tensorflow.keras.utils import to_categorical"
   ]
  },
  {
   "cell_type": "code",
   "execution_count": 19,
   "metadata": {},
   "outputs": [],
   "source": [
    "one_hot_train_labels = to_categorical(y_train_idx) \n",
    "one_hot_test_labels = to_categorical(y_test_idx)\n",
    "\n",
    "x_val = x_train[:8000]\n",
    "partial_x_train = x_train[8000:]\n",
    "y_val = one_hot_train_labels[:8000]\n",
    "partial_y_train = one_hot_train_labels[8000:]"
   ]
  },
  {
   "cell_type": "code",
   "execution_count": 17,
   "metadata": {},
   "outputs": [],
   "source": [
    "model = models.Sequential()\n",
    "model.add(layers.Dense(64, activation='relu', input_shape=(dim,)))\n",
    "model.add(layers.Dense(64, activation='relu'))\n",
    "model.add(layers.Dense(len(labels_dict), activation='softmax'))\n",
    "model.compile(optimizer='rmsprop',\n",
    "              loss='categorical_crossentropy',\n",
    "              metrics=['accuracy'])"
   ]
  },
  {
   "cell_type": "code",
   "execution_count": 23,
   "metadata": {},
   "outputs": [
    {
     "name": "stdout",
     "output_type": "stream",
     "text": [
      "Train on 40120 samples, validate on 8000 samples\n",
      "Epoch 1/100\n",
      "40120/40120 [==============================] - ETA: 0s - loss: 1.6833 - acc: 0.574 - ETA: 0s - loss: 1.7803 - acc: 0.523 - ETA: 0s - loss: 1.7991 - acc: 0.521 - ETA: 0s - loss: 1.8030 - acc: 0.518 - ETA: 0s - loss: 1.8134 - acc: 0.518 - ETA: 0s - loss: 1.8300 - acc: 0.515 - ETA: 0s - loss: 1.8302 - acc: 0.515 - ETA: 0s - loss: 1.8353 - acc: 0.515 - ETA: 0s - loss: 1.8413 - acc: 0.513 - ETA: 0s - loss: 1.8381 - acc: 0.513 - ETA: 0s - loss: 1.8377 - acc: 0.514 - ETA: 0s - loss: 1.8362 - acc: 0.515 - ETA: 0s - loss: 1.8360 - acc: 0.515 - ETA: 0s - loss: 1.8361 - acc: 0.516 - ETA: 0s - loss: 1.8363 - acc: 0.516 - ETA: 0s - loss: 1.8388 - acc: 0.516 - 1s 23us/sample - loss: 1.8381 - acc: 0.5159 - val_loss: 1.9650 - val_acc: 0.4920\n",
      "Epoch 2/100\n",
      "40120/40120 [==============================] - ETA: 1s - loss: 1.8063 - acc: 0.515 - ETA: 0s - loss: 1.8344 - acc: 0.519 - ETA: 0s - loss: 1.8371 - acc: 0.516 - ETA: 0s - loss: 1.8410 - acc: 0.519 - ETA: 0s - loss: 1.8380 - acc: 0.516 - ETA: 0s - loss: 1.8423 - acc: 0.514 - ETA: 0s - loss: 1.8417 - acc: 0.515 - ETA: 0s - loss: 1.8401 - acc: 0.515 - ETA: 0s - loss: 1.8300 - acc: 0.517 - ETA: 0s - loss: 1.8273 - acc: 0.517 - ETA: 0s - loss: 1.8215 - acc: 0.517 - ETA: 0s - loss: 1.8201 - acc: 0.518 - ETA: 0s - loss: 1.8239 - acc: 0.517 - ETA: 0s - loss: 1.8229 - acc: 0.518 - ETA: 0s - loss: 1.8208 - acc: 0.519 - ETA: 0s - loss: 1.8179 - acc: 0.518 - 1s 23us/sample - loss: 1.8182 - acc: 0.5185 - val_loss: 1.9535 - val_acc: 0.4927\n",
      "Epoch 3/100\n",
      "40120/40120 [==============================] - ETA: 1s - loss: 1.9174 - acc: 0.492 - ETA: 0s - loss: 1.7857 - acc: 0.525 - ETA: 0s - loss: 1.7816 - acc: 0.530 - ETA: 0s - loss: 1.8038 - acc: 0.524 - ETA: 0s - loss: 1.8030 - acc: 0.521 - ETA: 0s - loss: 1.7937 - acc: 0.523 - ETA: 0s - loss: 1.7902 - acc: 0.525 - ETA: 0s - loss: 1.7974 - acc: 0.523 - ETA: 0s - loss: 1.8004 - acc: 0.522 - ETA: 0s - loss: 1.7982 - acc: 0.522 - ETA: 0s - loss: 1.7965 - acc: 0.521 - ETA: 0s - loss: 1.7941 - acc: 0.522 - ETA: 0s - loss: 1.7992 - acc: 0.521 - ETA: 0s - loss: 1.8013 - acc: 0.521 - ETA: 0s - loss: 1.8025 - acc: 0.522 - ETA: 0s - loss: 1.7972 - acc: 0.523 - 1s 23us/sample - loss: 1.8003 - acc: 0.5227 - val_loss: 1.9442 - val_acc: 0.4964\n",
      "Epoch 4/100\n",
      "40120/40120 [==============================] - ETA: 1s - loss: 1.8398 - acc: 0.550 - ETA: 0s - loss: 1.8076 - acc: 0.535 - ETA: 0s - loss: 1.7927 - acc: 0.528 - ETA: 0s - loss: 1.7855 - acc: 0.528 - ETA: 0s - loss: 1.7820 - acc: 0.530 - ETA: 0s - loss: 1.7882 - acc: 0.530 - ETA: 0s - loss: 1.7817 - acc: 0.529 - ETA: 0s - loss: 1.7803 - acc: 0.530 - ETA: 0s - loss: 1.7776 - acc: 0.528 - ETA: 0s - loss: 1.7794 - acc: 0.527 - ETA: 0s - loss: 1.7798 - acc: 0.526 - ETA: 0s - loss: 1.7824 - acc: 0.525 - ETA: 0s - loss: 1.7818 - acc: 0.526 - ETA: 0s - loss: 1.7797 - acc: 0.527 - ETA: 0s - loss: 1.7811 - acc: 0.527 - ETA: 0s - loss: 1.7830 - acc: 0.526 - ETA: 0s - loss: 1.7828 - acc: 0.526 - 1s 24us/sample - loss: 1.7837 - acc: 0.5263 - val_loss: 1.9320 - val_acc: 0.4981\n",
      "Epoch 5/100\n",
      "40120/40120 [==============================] - ETA: 1s - loss: 1.7312 - acc: 0.503 - ETA: 0s - loss: 1.7191 - acc: 0.528 - ETA: 0s - loss: 1.7782 - acc: 0.526 - ETA: 0s - loss: 1.7800 - acc: 0.526 - ETA: 0s - loss: 1.7712 - acc: 0.530 - ETA: 0s - loss: 1.7730 - acc: 0.529 - ETA: 0s - loss: 1.7631 - acc: 0.534 - ETA: 0s - loss: 1.7675 - acc: 0.532 - ETA: 0s - loss: 1.7727 - acc: 0.531 - ETA: 0s - loss: 1.7687 - acc: 0.532 - ETA: 0s - loss: 1.7722 - acc: 0.529 - ETA: 0s - loss: 1.7706 - acc: 0.529 - ETA: 0s - loss: 1.7669 - acc: 0.530 - ETA: 0s - loss: 1.7661 - acc: 0.530 - ETA: 0s - loss: 1.7648 - acc: 0.530 - ETA: 0s - loss: 1.7650 - acc: 0.530 - ETA: 0s - loss: 1.7636 - acc: 0.530 - 1s 24us/sample - loss: 1.7667 - acc: 0.5303 - val_loss: 1.9169 - val_acc: 0.4997\n",
      "Epoch 6/100\n",
      "40120/40120 [==============================] - ETA: 1s - loss: 1.6630 - acc: 0.539 - ETA: 0s - loss: 1.7219 - acc: 0.537 - ETA: 0s - loss: 1.7507 - acc: 0.530 - ETA: 0s - loss: 1.7518 - acc: 0.532 - ETA: 0s - loss: 1.7299 - acc: 0.537 - ETA: 0s - loss: 1.7429 - acc: 0.534 - ETA: 0s - loss: 1.7394 - acc: 0.535 - ETA: 0s - loss: 1.7411 - acc: 0.537 - ETA: 0s - loss: 1.7453 - acc: 0.536 - ETA: 0s - loss: 1.7462 - acc: 0.536 - ETA: 0s - loss: 1.7536 - acc: 0.534 - ETA: 0s - loss: 1.7560 - acc: 0.533 - ETA: 0s - loss: 1.7555 - acc: 0.532 - ETA: 0s - loss: 1.7533 - acc: 0.533 - ETA: 0s - loss: 1.7504 - acc: 0.534 - ETA: 0s - loss: 1.7512 - acc: 0.534 - ETA: 0s - loss: 1.7517 - acc: 0.533 - 1s 24us/sample - loss: 1.7507 - acc: 0.5350 - val_loss: 1.9070 - val_acc: 0.5069\n",
      "Epoch 7/100\n",
      "40120/40120 [==============================] - ETA: 1s - loss: 1.6336 - acc: 0.574 - ETA: 0s - loss: 1.7048 - acc: 0.537 - ETA: 0s - loss: 1.7394 - acc: 0.535 - ETA: 0s - loss: 1.7377 - acc: 0.532 - ETA: 0s - loss: 1.7257 - acc: 0.536 - ETA: 0s - loss: 1.7264 - acc: 0.535 - ETA: 0s - loss: 1.7288 - acc: 0.536 - ETA: 0s - loss: 1.7220 - acc: 0.536 - ETA: 0s - loss: 1.7304 - acc: 0.537 - ETA: 0s - loss: 1.7308 - acc: 0.537 - ETA: 0s - loss: 1.7342 - acc: 0.536 - ETA: 0s - loss: 1.7311 - acc: 0.537 - ETA: 0s - loss: 1.7288 - acc: 0.538 - ETA: 0s - loss: 1.7323 - acc: 0.537 - ETA: 0s - loss: 1.7314 - acc: 0.538 - ETA: 0s - loss: 1.7336 - acc: 0.538 - ETA: 0s - loss: 1.7359 - acc: 0.537 - 1s 24us/sample - loss: 1.7359 - acc: 0.5370 - val_loss: 1.9021 - val_acc: 0.5045\n",
      "Epoch 8/100\n",
      "40120/40120 [==============================] - ETA: 1s - loss: 1.6705 - acc: 0.543 - ETA: 1s - loss: 1.7164 - acc: 0.532 - ETA: 0s - loss: 1.7672 - acc: 0.522 - ETA: 0s - loss: 1.7575 - acc: 0.524 - ETA: 0s - loss: 1.7417 - acc: 0.530 - ETA: 0s - loss: 1.7342 - acc: 0.533 - ETA: 0s - loss: 1.7439 - acc: 0.531 - ETA: 0s - loss: 1.7409 - acc: 0.533 - ETA: 0s - loss: 1.7422 - acc: 0.532 - ETA: 0s - loss: 1.7389 - acc: 0.532 - ETA: 0s - loss: 1.7375 - acc: 0.532 - ETA: 0s - loss: 1.7362 - acc: 0.532 - ETA: 0s - loss: 1.7314 - acc: 0.533 - ETA: 0s - loss: 1.7298 - acc: 0.535 - ETA: 0s - loss: 1.7267 - acc: 0.536 - ETA: 0s - loss: 1.7237 - acc: 0.538 - ETA: 0s - loss: 1.7240 - acc: 0.538 - 1s 24us/sample - loss: 1.7221 - acc: 0.5388 - val_loss: 1.8809 - val_acc: 0.5107\n",
      "Epoch 9/100\n",
      "40120/40120 [==============================] - ETA: 1s - loss: 1.7545 - acc: 0.519 - ETA: 0s - loss: 1.7381 - acc: 0.538 - ETA: 0s - loss: 1.7273 - acc: 0.540 - ETA: 0s - loss: 1.7189 - acc: 0.542 - ETA: 0s - loss: 1.7209 - acc: 0.542 - ETA: 0s - loss: 1.7235 - acc: 0.541 - ETA: 0s - loss: 1.7264 - acc: 0.538 - ETA: 0s - loss: 1.7342 - acc: 0.537 - ETA: 0s - loss: 1.7269 - acc: 0.537 - ETA: 0s - loss: 1.7192 - acc: 0.540 - ETA: 0s - loss: 1.7171 - acc: 0.541 - ETA: 0s - loss: 1.7122 - acc: 0.543 - ETA: 0s - loss: 1.7096 - acc: 0.543 - ETA: 0s - loss: 1.7084 - acc: 0.543 - ETA: 0s - loss: 1.7114 - acc: 0.542 - ETA: 0s - loss: 1.7145 - acc: 0.542 - ETA: 0s - loss: 1.7083 - acc: 0.542 - ETA: 0s - loss: 1.7073 - acc: 0.543 - 1s 25us/sample - loss: 1.7072 - acc: 0.5432 - val_loss: 1.8844 - val_acc: 0.5104\n",
      "Epoch 10/100\n",
      "40120/40120 [==============================] - ETA: 1s - loss: 1.7274 - acc: 0.531 - ETA: 0s - loss: 1.7391 - acc: 0.536 - ETA: 0s - loss: 1.7099 - acc: 0.546 - ETA: 0s - loss: 1.7076 - acc: 0.544 - ETA: 0s - loss: 1.6950 - acc: 0.548 - ETA: 0s - loss: 1.6894 - acc: 0.551 - ETA: 0s - loss: 1.6928 - acc: 0.550 - ETA: 0s - loss: 1.6882 - acc: 0.549 - ETA: 0s - loss: 1.6815 - acc: 0.549 - ETA: 0s - loss: 1.6919 - acc: 0.546 - ETA: 0s - loss: 1.6952 - acc: 0.546 - ETA: 0s - loss: 1.6928 - acc: 0.546 - ETA: 0s - loss: 1.6962 - acc: 0.545 - ETA: 0s - loss: 1.6970 - acc: 0.545 - ETA: 0s - loss: 1.6939 - acc: 0.545 - ETA: 0s - loss: 1.6947 - acc: 0.546 - ETA: 0s - loss: 1.6912 - acc: 0.546 - ETA: 0s - loss: 1.6951 - acc: 0.545 - 1s 26us/sample - loss: 1.6936 - acc: 0.5463 - val_loss: 1.8764 - val_acc: 0.5074\n",
      "Epoch 11/100\n"
     ]
    },
    {
     "name": "stdout",
     "output_type": "stream",
     "text": [
      "40120/40120 [==============================] - ETA: 1s - loss: 1.8028 - acc: 0.527 - ETA: 0s - loss: 1.7431 - acc: 0.524 - ETA: 0s - loss: 1.6850 - acc: 0.539 - ETA: 0s - loss: 1.7004 - acc: 0.538 - ETA: 0s - loss: 1.6868 - acc: 0.542 - ETA: 0s - loss: 1.6949 - acc: 0.542 - ETA: 0s - loss: 1.6922 - acc: 0.541 - ETA: 0s - loss: 1.6904 - acc: 0.542 - ETA: 0s - loss: 1.6906 - acc: 0.543 - ETA: 0s - loss: 1.6870 - acc: 0.545 - ETA: 0s - loss: 1.6850 - acc: 0.546 - ETA: 0s - loss: 1.6834 - acc: 0.546 - ETA: 0s - loss: 1.6811 - acc: 0.547 - ETA: 0s - loss: 1.6805 - acc: 0.548 - ETA: 0s - loss: 1.6805 - acc: 0.549 - ETA: 0s - loss: 1.6795 - acc: 0.549 - ETA: 0s - loss: 1.6787 - acc: 0.550 - ETA: 0s - loss: 1.6794 - acc: 0.549 - 1s 26us/sample - loss: 1.6802 - acc: 0.5498 - val_loss: 1.8644 - val_acc: 0.5104\n",
      "Epoch 12/100\n",
      "40120/40120 [==============================] - ETA: 1s - loss: 1.5795 - acc: 0.613 - ETA: 0s - loss: 1.6326 - acc: 0.551 - ETA: 0s - loss: 1.6278 - acc: 0.560 - ETA: 0s - loss: 1.6465 - acc: 0.557 - ETA: 0s - loss: 1.6501 - acc: 0.558 - ETA: 0s - loss: 1.6476 - acc: 0.556 - ETA: 0s - loss: 1.6638 - acc: 0.553 - ETA: 0s - loss: 1.6596 - acc: 0.556 - ETA: 0s - loss: 1.6592 - acc: 0.556 - ETA: 0s - loss: 1.6566 - acc: 0.556 - ETA: 0s - loss: 1.6614 - acc: 0.555 - ETA: 0s - loss: 1.6647 - acc: 0.554 - ETA: 0s - loss: 1.6652 - acc: 0.554 - ETA: 0s - loss: 1.6640 - acc: 0.554 - ETA: 0s - loss: 1.6641 - acc: 0.554 - ETA: 0s - loss: 1.6691 - acc: 0.553 - 1s 23us/sample - loss: 1.6684 - acc: 0.5535 - val_loss: 1.8556 - val_acc: 0.5156\n",
      "Epoch 13/100\n",
      "40120/40120 [==============================] - ETA: 1s - loss: 1.6478 - acc: 0.593 - ETA: 0s - loss: 1.6712 - acc: 0.550 - ETA: 0s - loss: 1.6278 - acc: 0.554 - ETA: 0s - loss: 1.6405 - acc: 0.556 - ETA: 0s - loss: 1.6313 - acc: 0.561 - ETA: 0s - loss: 1.6346 - acc: 0.561 - ETA: 0s - loss: 1.6459 - acc: 0.558 - ETA: 0s - loss: 1.6544 - acc: 0.558 - ETA: 0s - loss: 1.6616 - acc: 0.555 - ETA: 0s - loss: 1.6613 - acc: 0.555 - ETA: 0s - loss: 1.6611 - acc: 0.555 - ETA: 0s - loss: 1.6580 - acc: 0.555 - ETA: 0s - loss: 1.6655 - acc: 0.553 - ETA: 0s - loss: 1.6609 - acc: 0.554 - ETA: 0s - loss: 1.6570 - acc: 0.554 - ETA: 0s - loss: 1.6600 - acc: 0.554 - ETA: 0s - loss: 1.6547 - acc: 0.556 - 1s 24us/sample - loss: 1.6562 - acc: 0.5556 - val_loss: 1.8482 - val_acc: 0.5178\n",
      "Epoch 14/100\n",
      "40120/40120 [==============================] - ETA: 1s - loss: 1.5293 - acc: 0.589 - ETA: 0s - loss: 1.5986 - acc: 0.571 - ETA: 0s - loss: 1.6185 - acc: 0.567 - ETA: 0s - loss: 1.6201 - acc: 0.565 - ETA: 0s - loss: 1.6186 - acc: 0.566 - ETA: 0s - loss: 1.6237 - acc: 0.564 - ETA: 0s - loss: 1.6245 - acc: 0.563 - ETA: 0s - loss: 1.6282 - acc: 0.564 - ETA: 0s - loss: 1.6314 - acc: 0.563 - ETA: 0s - loss: 1.6355 - acc: 0.561 - ETA: 0s - loss: 1.6341 - acc: 0.562 - ETA: 0s - loss: 1.6323 - acc: 0.562 - ETA: 0s - loss: 1.6346 - acc: 0.560 - ETA: 0s - loss: 1.6361 - acc: 0.559 - ETA: 0s - loss: 1.6380 - acc: 0.558 - ETA: 0s - loss: 1.6371 - acc: 0.558 - ETA: 0s - loss: 1.6442 - acc: 0.557 - 1s 24us/sample - loss: 1.6441 - acc: 0.5572 - val_loss: 1.8521 - val_acc: 0.5142\n",
      "Epoch 15/100\n",
      "40120/40120 [==============================] - ETA: 1s - loss: 1.7547 - acc: 0.582 - ETA: 0s - loss: 1.6451 - acc: 0.561 - ETA: 0s - loss: 1.6285 - acc: 0.565 - ETA: 0s - loss: 1.6168 - acc: 0.567 - ETA: 0s - loss: 1.6215 - acc: 0.566 - ETA: 0s - loss: 1.6208 - acc: 0.567 - ETA: 0s - loss: 1.6209 - acc: 0.566 - ETA: 0s - loss: 1.6267 - acc: 0.565 - ETA: 0s - loss: 1.6265 - acc: 0.563 - ETA: 0s - loss: 1.6293 - acc: 0.561 - ETA: 0s - loss: 1.6285 - acc: 0.561 - ETA: 0s - loss: 1.6298 - acc: 0.561 - ETA: 0s - loss: 1.6347 - acc: 0.560 - ETA: 0s - loss: 1.6370 - acc: 0.559 - ETA: 0s - loss: 1.6366 - acc: 0.559 - ETA: 0s - loss: 1.6351 - acc: 0.559 - ETA: 0s - loss: 1.6341 - acc: 0.559 - 1s 23us/sample - loss: 1.6336 - acc: 0.5600 - val_loss: 1.8378 - val_acc: 0.5215\n",
      "Epoch 16/100\n",
      "40120/40120 [==============================] - ETA: 1s - loss: 1.5200 - acc: 0.578 - ETA: 0s - loss: 1.6043 - acc: 0.571 - ETA: 0s - loss: 1.6232 - acc: 0.565 - ETA: 0s - loss: 1.6197 - acc: 0.565 - ETA: 0s - loss: 1.6181 - acc: 0.567 - ETA: 0s - loss: 1.6221 - acc: 0.566 - ETA: 0s - loss: 1.6270 - acc: 0.564 - ETA: 0s - loss: 1.6269 - acc: 0.564 - ETA: 0s - loss: 1.6228 - acc: 0.564 - ETA: 0s - loss: 1.6191 - acc: 0.564 - ETA: 0s - loss: 1.6148 - acc: 0.564 - ETA: 0s - loss: 1.6154 - acc: 0.563 - ETA: 0s - loss: 1.6168 - acc: 0.563 - ETA: 0s - loss: 1.6183 - acc: 0.562 - ETA: 0s - loss: 1.6204 - acc: 0.561 - ETA: 0s - loss: 1.6209 - acc: 0.561 - 1s 23us/sample - loss: 1.6213 - acc: 0.5615 - val_loss: 1.8314 - val_acc: 0.5180\n",
      "Epoch 17/100\n",
      "40120/40120 [==============================] - ETA: 1s - loss: 1.5288 - acc: 0.605 - ETA: 0s - loss: 1.6073 - acc: 0.573 - ETA: 0s - loss: 1.6200 - acc: 0.564 - ETA: 0s - loss: 1.6268 - acc: 0.561 - ETA: 0s - loss: 1.6214 - acc: 0.562 - ETA: 0s - loss: 1.6121 - acc: 0.566 - ETA: 0s - loss: 1.6163 - acc: 0.565 - ETA: 0s - loss: 1.6098 - acc: 0.565 - ETA: 0s - loss: 1.6037 - acc: 0.567 - ETA: 0s - loss: 1.6080 - acc: 0.566 - ETA: 0s - loss: 1.6067 - acc: 0.565 - ETA: 0s - loss: 1.6050 - acc: 0.566 - ETA: 0s - loss: 1.6007 - acc: 0.567 - ETA: 0s - loss: 1.6030 - acc: 0.567 - ETA: 0s - loss: 1.6056 - acc: 0.565 - ETA: 0s - loss: 1.6129 - acc: 0.564 - ETA: 0s - loss: 1.6122 - acc: 0.564 - 1s 24us/sample - loss: 1.6121 - acc: 0.5641 - val_loss: 1.8242 - val_acc: 0.5225\n",
      "Epoch 18/100\n",
      "40120/40120 [==============================] - ETA: 1s - loss: 1.6096 - acc: 0.550 - ETA: 0s - loss: 1.5730 - acc: 0.573 - ETA: 0s - loss: 1.6074 - acc: 0.568 - ETA: 0s - loss: 1.6073 - acc: 0.566 - ETA: 0s - loss: 1.5976 - acc: 0.568 - ETA: 0s - loss: 1.6058 - acc: 0.566 - ETA: 0s - loss: 1.6016 - acc: 0.567 - ETA: 0s - loss: 1.6022 - acc: 0.566 - ETA: 0s - loss: 1.6044 - acc: 0.564 - ETA: 0s - loss: 1.6000 - acc: 0.565 - ETA: 0s - loss: 1.6002 - acc: 0.565 - ETA: 0s - loss: 1.6014 - acc: 0.566 - ETA: 0s - loss: 1.6028 - acc: 0.566 - ETA: 0s - loss: 1.5988 - acc: 0.566 - ETA: 0s - loss: 1.6027 - acc: 0.565 - ETA: 0s - loss: 1.6018 - acc: 0.566 - ETA: 0s - loss: 1.6021 - acc: 0.566 - 1s 24us/sample - loss: 1.6023 - acc: 0.5665 - val_loss: 1.8246 - val_acc: 0.5205\n",
      "Epoch 19/100\n",
      "40120/40120 [==============================] - ETA: 1s - loss: 1.6275 - acc: 0.593 - ETA: 0s - loss: 1.5871 - acc: 0.573 - ETA: 0s - loss: 1.6137 - acc: 0.566 - ETA: 0s - loss: 1.5823 - acc: 0.573 - ETA: 0s - loss: 1.5755 - acc: 0.576 - ETA: 0s - loss: 1.5806 - acc: 0.573 - ETA: 0s - loss: 1.5738 - acc: 0.573 - ETA: 0s - loss: 1.5838 - acc: 0.570 - ETA: 0s - loss: 1.5789 - acc: 0.571 - ETA: 0s - loss: 1.5808 - acc: 0.571 - ETA: 0s - loss: 1.5838 - acc: 0.569 - ETA: 0s - loss: 1.5874 - acc: 0.568 - ETA: 0s - loss: 1.5886 - acc: 0.568 - ETA: 0s - loss: 1.5851 - acc: 0.569 - ETA: 0s - loss: 1.5859 - acc: 0.569 - ETA: 0s - loss: 1.5886 - acc: 0.569 - 1s 23us/sample - loss: 1.5909 - acc: 0.5688 - val_loss: 1.8202 - val_acc: 0.5207\n",
      "Epoch 20/100\n",
      "40120/40120 [==============================] - ETA: 1s - loss: 1.4598 - acc: 0.597 - ETA: 0s - loss: 1.5349 - acc: 0.571 - ETA: 0s - loss: 1.5539 - acc: 0.568 - ETA: 0s - loss: 1.5731 - acc: 0.568 - ETA: 0s - loss: 1.5734 - acc: 0.568 - ETA: 0s - loss: 1.5757 - acc: 0.572 - ETA: 0s - loss: 1.5801 - acc: 0.569 - ETA: 0s - loss: 1.5771 - acc: 0.570 - ETA: 0s - loss: 1.5819 - acc: 0.569 - ETA: 0s - loss: 1.5798 - acc: 0.569 - ETA: 0s - loss: 1.5819 - acc: 0.570 - ETA: 0s - loss: 1.5830 - acc: 0.569 - ETA: 0s - loss: 1.5784 - acc: 0.571 - ETA: 0s - loss: 1.5832 - acc: 0.570 - ETA: 0s - loss: 1.5812 - acc: 0.571 - ETA: 0s - loss: 1.5820 - acc: 0.571 - ETA: 0s - loss: 1.5801 - acc: 0.571 - ETA: 0s - loss: 1.5813 - acc: 0.571 - 1s 26us/sample - loss: 1.5823 - acc: 0.5708 - val_loss: 1.8182 - val_acc: 0.5236\n",
      "Epoch 21/100\n"
     ]
    },
    {
     "name": "stdout",
     "output_type": "stream",
     "text": [
      "40120/40120 [==============================] - ETA: 1s - loss: 1.7012 - acc: 0.550 - ETA: 1s - loss: 1.5798 - acc: 0.568 - ETA: 0s - loss: 1.5435 - acc: 0.576 - ETA: 0s - loss: 1.5416 - acc: 0.580 - ETA: 0s - loss: 1.5495 - acc: 0.579 - ETA: 0s - loss: 1.5537 - acc: 0.579 - ETA: 0s - loss: 1.5467 - acc: 0.578 - ETA: 0s - loss: 1.5474 - acc: 0.580 - ETA: 0s - loss: 1.5515 - acc: 0.577 - ETA: 0s - loss: 1.5454 - acc: 0.579 - ETA: 0s - loss: 1.5496 - acc: 0.579 - ETA: 0s - loss: 1.5529 - acc: 0.578 - ETA: 0s - loss: 1.5567 - acc: 0.576 - ETA: 0s - loss: 1.5556 - acc: 0.576 - ETA: 0s - loss: 1.5602 - acc: 0.575 - ETA: 0s - loss: 1.5629 - acc: 0.574 - ETA: 0s - loss: 1.5677 - acc: 0.573 - ETA: 0s - loss: 1.5702 - acc: 0.572 - ETA: 0s - loss: 1.5713 - acc: 0.572 - ETA: 0s - loss: 1.5715 - acc: 0.572 - 1s 28us/sample - loss: 1.5721 - acc: 0.5722 - val_loss: 1.8114 - val_acc: 0.5222\n",
      "Epoch 22/100\n",
      "40120/40120 [==============================] - ETA: 1s - loss: 1.5598 - acc: 0.617 - ETA: 1s - loss: 1.5211 - acc: 0.589 - ETA: 0s - loss: 1.5521 - acc: 0.582 - ETA: 0s - loss: 1.5595 - acc: 0.575 - ETA: 0s - loss: 1.5498 - acc: 0.578 - ETA: 0s - loss: 1.5601 - acc: 0.577 - ETA: 0s - loss: 1.5621 - acc: 0.577 - ETA: 0s - loss: 1.5697 - acc: 0.575 - ETA: 0s - loss: 1.5703 - acc: 0.575 - ETA: 0s - loss: 1.5711 - acc: 0.576 - ETA: 0s - loss: 1.5698 - acc: 0.577 - ETA: 0s - loss: 1.5701 - acc: 0.576 - ETA: 0s - loss: 1.5673 - acc: 0.576 - ETA: 0s - loss: 1.5697 - acc: 0.575 - ETA: 0s - loss: 1.5669 - acc: 0.576 - ETA: 0s - loss: 1.5670 - acc: 0.576 - ETA: 0s - loss: 1.5667 - acc: 0.575 - ETA: 0s - loss: 1.5657 - acc: 0.576 - ETA: 0s - loss: 1.5654 - acc: 0.576 - 1s 28us/sample - loss: 1.5640 - acc: 0.5764 - val_loss: 1.7999 - val_acc: 0.5250\n",
      "Epoch 23/100\n",
      "40120/40120 [==============================] - ETA: 1s - loss: 1.4940 - acc: 0.562 - ETA: 1s - loss: 1.5674 - acc: 0.570 - ETA: 0s - loss: 1.5521 - acc: 0.578 - ETA: 0s - loss: 1.5600 - acc: 0.572 - ETA: 0s - loss: 1.5533 - acc: 0.575 - ETA: 0s - loss: 1.5549 - acc: 0.573 - ETA: 0s - loss: 1.5481 - acc: 0.576 - ETA: 0s - loss: 1.5369 - acc: 0.578 - ETA: 0s - loss: 1.5352 - acc: 0.579 - ETA: 0s - loss: 1.5388 - acc: 0.579 - ETA: 0s - loss: 1.5435 - acc: 0.579 - ETA: 0s - loss: 1.5442 - acc: 0.579 - ETA: 0s - loss: 1.5496 - acc: 0.577 - ETA: 0s - loss: 1.5515 - acc: 0.578 - ETA: 0s - loss: 1.5520 - acc: 0.577 - ETA: 0s - loss: 1.5517 - acc: 0.578 - ETA: 0s - loss: 1.5493 - acc: 0.579 - ETA: 0s - loss: 1.5486 - acc: 0.579 - ETA: 0s - loss: 1.5530 - acc: 0.577 - ETA: 0s - loss: 1.5548 - acc: 0.577 - 1s 28us/sample - loss: 1.5545 - acc: 0.5777 - val_loss: 1.8018 - val_acc: 0.5246\n",
      "Epoch 24/100\n",
      "40120/40120 [==============================] - ETA: 1s - loss: 1.5425 - acc: 0.582 - ETA: 0s - loss: 1.5522 - acc: 0.580 - ETA: 0s - loss: 1.5116 - acc: 0.583 - ETA: 0s - loss: 1.5070 - acc: 0.586 - ETA: 0s - loss: 1.5293 - acc: 0.580 - ETA: 0s - loss: 1.5433 - acc: 0.576 - ETA: 0s - loss: 1.5478 - acc: 0.576 - ETA: 0s - loss: 1.5500 - acc: 0.575 - ETA: 0s - loss: 1.5472 - acc: 0.574 - ETA: 0s - loss: 1.5463 - acc: 0.575 - ETA: 0s - loss: 1.5533 - acc: 0.576 - ETA: 0s - loss: 1.5546 - acc: 0.576 - ETA: 0s - loss: 1.5494 - acc: 0.577 - ETA: 0s - loss: 1.5485 - acc: 0.577 - ETA: 0s - loss: 1.5456 - acc: 0.578 - ETA: 0s - loss: 1.5467 - acc: 0.577 - ETA: 0s - loss: 1.5515 - acc: 0.577 - ETA: 0s - loss: 1.5486 - acc: 0.577 - ETA: 0s - loss: 1.5470 - acc: 0.577 - ETA: 0s - loss: 1.5468 - acc: 0.577 - 1s 28us/sample - loss: 1.5459 - acc: 0.5781 - val_loss: 1.7966 - val_acc: 0.5280\n",
      "Epoch 25/100\n",
      "40120/40120 [==============================] - ETA: 1s - loss: 1.3721 - acc: 0.636 - ETA: 1s - loss: 1.5696 - acc: 0.564 - ETA: 0s - loss: 1.5450 - acc: 0.574 - ETA: 0s - loss: 1.5328 - acc: 0.579 - ETA: 0s - loss: 1.5168 - acc: 0.580 - ETA: 0s - loss: 1.5372 - acc: 0.581 - ETA: 0s - loss: 1.5407 - acc: 0.579 - ETA: 0s - loss: 1.5383 - acc: 0.579 - ETA: 0s - loss: 1.5374 - acc: 0.581 - ETA: 0s - loss: 1.5425 - acc: 0.579 - ETA: 0s - loss: 1.5439 - acc: 0.580 - ETA: 0s - loss: 1.5408 - acc: 0.581 - ETA: 0s - loss: 1.5383 - acc: 0.580 - ETA: 0s - loss: 1.5412 - acc: 0.580 - ETA: 0s - loss: 1.5380 - acc: 0.581 - ETA: 0s - loss: 1.5375 - acc: 0.581 - ETA: 0s - loss: 1.5379 - acc: 0.581 - ETA: 0s - loss: 1.5376 - acc: 0.581 - ETA: 0s - loss: 1.5386 - acc: 0.580 - ETA: 0s - loss: 1.5390 - acc: 0.580 - 1s 29us/sample - loss: 1.5387 - acc: 0.5802 - val_loss: 1.7952 - val_acc: 0.5282\n",
      "Epoch 26/100\n",
      "40120/40120 [==============================] - ETA: 1s - loss: 1.5507 - acc: 0.546 - ETA: 0s - loss: 1.5673 - acc: 0.569 - ETA: 0s - loss: 1.5457 - acc: 0.575 - ETA: 0s - loss: 1.5431 - acc: 0.575 - ETA: 0s - loss: 1.5505 - acc: 0.576 - ETA: 0s - loss: 1.5343 - acc: 0.579 - ETA: 0s - loss: 1.5364 - acc: 0.580 - ETA: 0s - loss: 1.5353 - acc: 0.581 - ETA: 0s - loss: 1.5294 - acc: 0.582 - ETA: 0s - loss: 1.5261 - acc: 0.583 - ETA: 0s - loss: 1.5248 - acc: 0.584 - ETA: 0s - loss: 1.5242 - acc: 0.584 - ETA: 0s - loss: 1.5232 - acc: 0.584 - ETA: 0s - loss: 1.5209 - acc: 0.584 - ETA: 0s - loss: 1.5249 - acc: 0.582 - ETA: 0s - loss: 1.5254 - acc: 0.582 - ETA: 0s - loss: 1.5250 - acc: 0.582 - ETA: 0s - loss: 1.5257 - acc: 0.582 - ETA: 0s - loss: 1.5284 - acc: 0.581 - ETA: 0s - loss: 1.5299 - acc: 0.581 - 1s 29us/sample - loss: 1.5299 - acc: 0.5816 - val_loss: 1.7874 - val_acc: 0.5295\n",
      "Epoch 27/100\n",
      "40120/40120 [==============================] - ETA: 1s - loss: 1.5097 - acc: 0.601 - ETA: 1s - loss: 1.4988 - acc: 0.590 - ETA: 0s - loss: 1.5128 - acc: 0.582 - ETA: 0s - loss: 1.5188 - acc: 0.579 - ETA: 0s - loss: 1.5111 - acc: 0.585 - ETA: 0s - loss: 1.5381 - acc: 0.580 - ETA: 0s - loss: 1.5315 - acc: 0.581 - ETA: 0s - loss: 1.5310 - acc: 0.583 - ETA: 0s - loss: 1.5241 - acc: 0.585 - ETA: 0s - loss: 1.5259 - acc: 0.584 - ETA: 0s - loss: 1.5198 - acc: 0.585 - ETA: 0s - loss: 1.5131 - acc: 0.586 - ETA: 0s - loss: 1.5166 - acc: 0.585 - ETA: 0s - loss: 1.5180 - acc: 0.586 - ETA: 0s - loss: 1.5193 - acc: 0.585 - ETA: 0s - loss: 1.5180 - acc: 0.585 - ETA: 0s - loss: 1.5184 - acc: 0.585 - ETA: 0s - loss: 1.5201 - acc: 0.584 - ETA: 0s - loss: 1.5214 - acc: 0.583 - ETA: 0s - loss: 1.5228 - acc: 0.583 - 1s 29us/sample - loss: 1.5220 - acc: 0.5841 - val_loss: 1.7862 - val_acc: 0.5321\n",
      "Epoch 28/100\n",
      "40120/40120 [==============================] - ETA: 1s - loss: 1.5453 - acc: 0.585 - ETA: 1s - loss: 1.4588 - acc: 0.587 - ETA: 1s - loss: 1.4678 - acc: 0.595 - ETA: 0s - loss: 1.4743 - acc: 0.592 - ETA: 0s - loss: 1.4960 - acc: 0.586 - ETA: 0s - loss: 1.4878 - acc: 0.589 - ETA: 0s - loss: 1.4950 - acc: 0.587 - ETA: 0s - loss: 1.4987 - acc: 0.587 - ETA: 0s - loss: 1.5028 - acc: 0.589 - ETA: 0s - loss: 1.5080 - acc: 0.588 - ETA: 0s - loss: 1.5052 - acc: 0.587 - ETA: 0s - loss: 1.5042 - acc: 0.587 - ETA: 0s - loss: 1.5055 - acc: 0.586 - ETA: 0s - loss: 1.5019 - acc: 0.588 - ETA: 0s - loss: 1.5035 - acc: 0.588 - ETA: 0s - loss: 1.5075 - acc: 0.587 - ETA: 0s - loss: 1.5086 - acc: 0.586 - ETA: 0s - loss: 1.5081 - acc: 0.586 - ETA: 0s - loss: 1.5091 - acc: 0.586 - ETA: 0s - loss: 1.5121 - acc: 0.585 - 1s 29us/sample - loss: 1.5141 - acc: 0.5856 - val_loss: 1.7831 - val_acc: 0.5311\n",
      "Epoch 29/100\n",
      "40120/40120 [==============================] - ETA: 1s - loss: 1.5312 - acc: 0.554 - ETA: 0s - loss: 1.5327 - acc: 0.572 - ETA: 0s - loss: 1.5002 - acc: 0.585 - ETA: 0s - loss: 1.4924 - acc: 0.586 - ETA: 0s - loss: 1.5245 - acc: 0.582 - ETA: 0s - loss: 1.5106 - acc: 0.585 - ETA: 0s - loss: 1.5110 - acc: 0.584 - ETA: 0s - loss: 1.5061 - acc: 0.585 - ETA: 0s - loss: 1.5068 - acc: 0.584 - ETA: 0s - loss: 1.5114 - acc: 0.584 - ETA: 0s - loss: 1.5143 - acc: 0.584 - ETA: 0s - loss: 1.5178 - acc: 0.584 - ETA: 0s - loss: 1.5153 - acc: 0.583 - ETA: 0s - loss: 1.5132 - acc: 0.584 - ETA: 0s - loss: 1.5099 - acc: 0.585 - ETA: 0s - loss: 1.5084 - acc: 0.586 - ETA: 0s - loss: 1.5086 - acc: 0.586 - ETA: 0s - loss: 1.5097 - acc: 0.586 - ETA: 0s - loss: 1.5074 - acc: 0.587 - ETA: 0s - loss: 1.5068 - acc: 0.587 - 1s 29us/sample - loss: 1.5069 - acc: 0.5877 - val_loss: 1.7880 - val_acc: 0.5261\n",
      "Epoch 30/100\n"
     ]
    },
    {
     "name": "stdout",
     "output_type": "stream",
     "text": [
      "40120/40120 [==============================] - ETA: 1s - loss: 1.3372 - acc: 0.597 - ETA: 0s - loss: 1.4984 - acc: 0.582 - ETA: 0s - loss: 1.4788 - acc: 0.591 - ETA: 0s - loss: 1.4583 - acc: 0.598 - ETA: 0s - loss: 1.4744 - acc: 0.594 - ETA: 0s - loss: 1.4772 - acc: 0.595 - ETA: 0s - loss: 1.4792 - acc: 0.594 - ETA: 0s - loss: 1.4825 - acc: 0.594 - ETA: 0s - loss: 1.4923 - acc: 0.591 - ETA: 0s - loss: 1.4938 - acc: 0.592 - ETA: 0s - loss: 1.4967 - acc: 0.592 - ETA: 0s - loss: 1.4952 - acc: 0.591 - ETA: 0s - loss: 1.4915 - acc: 0.592 - ETA: 0s - loss: 1.4895 - acc: 0.592 - ETA: 0s - loss: 1.4942 - acc: 0.591 - ETA: 0s - loss: 1.4962 - acc: 0.590 - ETA: 0s - loss: 1.4986 - acc: 0.589 - ETA: 0s - loss: 1.4973 - acc: 0.590 - ETA: 0s - loss: 1.4979 - acc: 0.590 - 1s 27us/sample - loss: 1.4982 - acc: 0.5897 - val_loss: 1.7817 - val_acc: 0.5304\n",
      "Epoch 31/100\n",
      "40120/40120 [==============================] - ETA: 1s - loss: 1.5122 - acc: 0.574 - ETA: 1s - loss: 1.4965 - acc: 0.585 - ETA: 0s - loss: 1.5103 - acc: 0.584 - ETA: 0s - loss: 1.5009 - acc: 0.589 - ETA: 0s - loss: 1.5143 - acc: 0.587 - ETA: 0s - loss: 1.5094 - acc: 0.586 - ETA: 0s - loss: 1.5116 - acc: 0.586 - ETA: 0s - loss: 1.4955 - acc: 0.588 - ETA: 0s - loss: 1.4896 - acc: 0.589 - ETA: 0s - loss: 1.4923 - acc: 0.587 - ETA: 0s - loss: 1.4871 - acc: 0.591 - ETA: 0s - loss: 1.4908 - acc: 0.590 - ETA: 0s - loss: 1.4864 - acc: 0.591 - ETA: 0s - loss: 1.4888 - acc: 0.590 - ETA: 0s - loss: 1.4904 - acc: 0.589 - ETA: 0s - loss: 1.4893 - acc: 0.590 - ETA: 0s - loss: 1.4917 - acc: 0.590 - ETA: 0s - loss: 1.4933 - acc: 0.589 - ETA: 0s - loss: 1.4930 - acc: 0.590 - 1s 27us/sample - loss: 1.4920 - acc: 0.5897 - val_loss: 1.7811 - val_acc: 0.5297\n",
      "Epoch 32/100\n",
      "40120/40120 [==============================] - ETA: 1s - loss: 1.5995 - acc: 0.589 - ETA: 0s - loss: 1.5152 - acc: 0.581 - ETA: 0s - loss: 1.4959 - acc: 0.586 - ETA: 0s - loss: 1.4997 - acc: 0.582 - ETA: 0s - loss: 1.4937 - acc: 0.587 - ETA: 0s - loss: 1.4981 - acc: 0.589 - ETA: 0s - loss: 1.4978 - acc: 0.590 - ETA: 0s - loss: 1.4899 - acc: 0.593 - ETA: 0s - loss: 1.4831 - acc: 0.594 - ETA: 0s - loss: 1.4789 - acc: 0.596 - ETA: 0s - loss: 1.4818 - acc: 0.595 - ETA: 0s - loss: 1.4815 - acc: 0.595 - ETA: 0s - loss: 1.4813 - acc: 0.595 - ETA: 0s - loss: 1.4832 - acc: 0.594 - ETA: 0s - loss: 1.4829 - acc: 0.593 - ETA: 0s - loss: 1.4865 - acc: 0.592 - ETA: 0s - loss: 1.4842 - acc: 0.593 - ETA: 0s - loss: 1.4847 - acc: 0.593 - ETA: 0s - loss: 1.4870 - acc: 0.593 - 1s 27us/sample - loss: 1.4854 - acc: 0.5935 - val_loss: 1.7747 - val_acc: 0.5285\n",
      "Epoch 33/100\n",
      "40120/40120 [==============================] - ETA: 1s - loss: 1.2634 - acc: 0.617 - ETA: 0s - loss: 1.4443 - acc: 0.595 - ETA: 0s - loss: 1.4714 - acc: 0.585 - ETA: 0s - loss: 1.4591 - acc: 0.592 - ETA: 0s - loss: 1.4751 - acc: 0.592 - ETA: 0s - loss: 1.4756 - acc: 0.592 - ETA: 0s - loss: 1.4823 - acc: 0.590 - ETA: 0s - loss: 1.4909 - acc: 0.589 - ETA: 0s - loss: 1.4918 - acc: 0.589 - ETA: 0s - loss: 1.4925 - acc: 0.588 - ETA: 0s - loss: 1.4886 - acc: 0.589 - ETA: 0s - loss: 1.4793 - acc: 0.590 - ETA: 0s - loss: 1.4793 - acc: 0.591 - ETA: 0s - loss: 1.4789 - acc: 0.592 - ETA: 0s - loss: 1.4816 - acc: 0.592 - ETA: 0s - loss: 1.4764 - acc: 0.594 - ETA: 0s - loss: 1.4757 - acc: 0.594 - ETA: 0s - loss: 1.4759 - acc: 0.593 - ETA: 0s - loss: 1.4775 - acc: 0.594 - 1s 27us/sample - loss: 1.4780 - acc: 0.5940 - val_loss: 1.7821 - val_acc: 0.5300\n",
      "Epoch 34/100\n",
      "40120/40120 [==============================] - ETA: 1s - loss: 1.4552 - acc: 0.589 - ETA: 1s - loss: 1.4407 - acc: 0.610 - ETA: 0s - loss: 1.4640 - acc: 0.600 - ETA: 0s - loss: 1.4497 - acc: 0.604 - ETA: 0s - loss: 1.4564 - acc: 0.601 - ETA: 0s - loss: 1.4645 - acc: 0.596 - ETA: 0s - loss: 1.4529 - acc: 0.598 - ETA: 0s - loss: 1.4615 - acc: 0.596 - ETA: 0s - loss: 1.4691 - acc: 0.596 - ETA: 0s - loss: 1.4664 - acc: 0.597 - ETA: 0s - loss: 1.4661 - acc: 0.597 - ETA: 0s - loss: 1.4668 - acc: 0.596 - ETA: 0s - loss: 1.4686 - acc: 0.597 - ETA: 0s - loss: 1.4700 - acc: 0.597 - ETA: 0s - loss: 1.4712 - acc: 0.597 - ETA: 0s - loss: 1.4734 - acc: 0.595 - ETA: 0s - loss: 1.4732 - acc: 0.596 - ETA: 0s - loss: 1.4719 - acc: 0.596 - ETA: 0s - loss: 1.4744 - acc: 0.595 - 1s 28us/sample - loss: 1.4706 - acc: 0.5961 - val_loss: 1.7758 - val_acc: 0.5341\n",
      "Epoch 35/100\n",
      "40120/40120 [==============================] - ETA: 1s - loss: 1.4169 - acc: 0.613 - ETA: 0s - loss: 1.4140 - acc: 0.598 - ETA: 0s - loss: 1.4136 - acc: 0.609 - ETA: 0s - loss: 1.4171 - acc: 0.605 - ETA: 0s - loss: 1.4264 - acc: 0.602 - ETA: 0s - loss: 1.4293 - acc: 0.603 - ETA: 0s - loss: 1.4399 - acc: 0.600 - ETA: 0s - loss: 1.4355 - acc: 0.601 - ETA: 0s - loss: 1.4343 - acc: 0.602 - ETA: 0s - loss: 1.4474 - acc: 0.599 - ETA: 0s - loss: 1.4568 - acc: 0.597 - ETA: 0s - loss: 1.4611 - acc: 0.596 - ETA: 0s - loss: 1.4625 - acc: 0.597 - ETA: 0s - loss: 1.4600 - acc: 0.597 - ETA: 0s - loss: 1.4591 - acc: 0.598 - ETA: 0s - loss: 1.4609 - acc: 0.598 - ETA: 0s - loss: 1.4606 - acc: 0.597 - ETA: 0s - loss: 1.4603 - acc: 0.597 - ETA: 0s - loss: 1.4608 - acc: 0.597 - ETA: 0s - loss: 1.4660 - acc: 0.596 - 1s 29us/sample - loss: 1.4657 - acc: 0.5968 - val_loss: 1.7651 - val_acc: 0.5339\n",
      "Epoch 36/100\n",
      "40120/40120 [==============================] - ETA: 1s - loss: 1.4196 - acc: 0.609 - ETA: 1s - loss: 1.4110 - acc: 0.615 - ETA: 0s - loss: 1.4401 - acc: 0.605 - ETA: 0s - loss: 1.4636 - acc: 0.592 - ETA: 0s - loss: 1.4585 - acc: 0.594 - ETA: 0s - loss: 1.4583 - acc: 0.594 - ETA: 0s - loss: 1.4620 - acc: 0.593 - ETA: 0s - loss: 1.4556 - acc: 0.594 - ETA: 0s - loss: 1.4568 - acc: 0.596 - ETA: 0s - loss: 1.4478 - acc: 0.597 - ETA: 0s - loss: 1.4494 - acc: 0.598 - ETA: 0s - loss: 1.4516 - acc: 0.598 - ETA: 0s - loss: 1.4587 - acc: 0.596 - ETA: 0s - loss: 1.4603 - acc: 0.596 - ETA: 0s - loss: 1.4641 - acc: 0.595 - ETA: 0s - loss: 1.4617 - acc: 0.596 - ETA: 0s - loss: 1.4582 - acc: 0.597 - ETA: 0s - loss: 1.4567 - acc: 0.597 - ETA: 0s - loss: 1.4565 - acc: 0.598 - 1s 28us/sample - loss: 1.4592 - acc: 0.5971 - val_loss: 1.7748 - val_acc: 0.5370\n",
      "Epoch 37/100\n",
      "40120/40120 [==============================] - ETA: 1s - loss: 1.4869 - acc: 0.593 - ETA: 0s - loss: 1.4350 - acc: 0.601 - ETA: 0s - loss: 1.4133 - acc: 0.612 - ETA: 0s - loss: 1.4268 - acc: 0.610 - ETA: 0s - loss: 1.4400 - acc: 0.603 - ETA: 0s - loss: 1.4507 - acc: 0.605 - ETA: 0s - loss: 1.4515 - acc: 0.603 - ETA: 0s - loss: 1.4512 - acc: 0.602 - ETA: 0s - loss: 1.4535 - acc: 0.601 - ETA: 0s - loss: 1.4515 - acc: 0.600 - ETA: 0s - loss: 1.4513 - acc: 0.600 - ETA: 0s - loss: 1.4538 - acc: 0.598 - ETA: 0s - loss: 1.4541 - acc: 0.598 - ETA: 0s - loss: 1.4508 - acc: 0.599 - ETA: 0s - loss: 1.4529 - acc: 0.599 - ETA: 0s - loss: 1.4510 - acc: 0.599 - ETA: 0s - loss: 1.4539 - acc: 0.598 - ETA: 0s - loss: 1.4528 - acc: 0.599 - ETA: 0s - loss: 1.4516 - acc: 0.599 - ETA: 0s - loss: 1.4522 - acc: 0.599 - 1s 28us/sample - loss: 1.4521 - acc: 0.5992 - val_loss: 1.7769 - val_acc: 0.5354\n",
      "Epoch 38/100\n",
      "40120/40120 [==============================] - ETA: 1s - loss: 1.3163 - acc: 0.578 - ETA: 0s - loss: 1.3731 - acc: 0.618 - ETA: 0s - loss: 1.4049 - acc: 0.613 - ETA: 0s - loss: 1.4120 - acc: 0.612 - ETA: 0s - loss: 1.4083 - acc: 0.611 - ETA: 0s - loss: 1.4016 - acc: 0.611 - ETA: 0s - loss: 1.4193 - acc: 0.606 - ETA: 0s - loss: 1.4224 - acc: 0.606 - ETA: 0s - loss: 1.4259 - acc: 0.606 - ETA: 0s - loss: 1.4227 - acc: 0.608 - ETA: 0s - loss: 1.4275 - acc: 0.608 - ETA: 0s - loss: 1.4279 - acc: 0.607 - ETA: 0s - loss: 1.4278 - acc: 0.608 - ETA: 0s - loss: 1.4306 - acc: 0.606 - ETA: 0s - loss: 1.4350 - acc: 0.605 - ETA: 0s - loss: 1.4392 - acc: 0.604 - ETA: 0s - loss: 1.4384 - acc: 0.604 - ETA: 0s - loss: 1.4444 - acc: 0.602 - ETA: 0s - loss: 1.4443 - acc: 0.601 - ETA: 0s - loss: 1.4463 - acc: 0.601 - 1s 28us/sample - loss: 1.4457 - acc: 0.6010 - val_loss: 1.7674 - val_acc: 0.5344\n",
      "Epoch 39/100\n"
     ]
    },
    {
     "name": "stdout",
     "output_type": "stream",
     "text": [
      "40120/40120 [==============================] - ETA: 1s - loss: 1.4483 - acc: 0.585 - ETA: 0s - loss: 1.3852 - acc: 0.615 - ETA: 0s - loss: 1.4360 - acc: 0.596 - ETA: 0s - loss: 1.4452 - acc: 0.596 - ETA: 0s - loss: 1.4291 - acc: 0.602 - ETA: 0s - loss: 1.4270 - acc: 0.602 - ETA: 0s - loss: 1.4305 - acc: 0.603 - ETA: 0s - loss: 1.4347 - acc: 0.604 - ETA: 0s - loss: 1.4317 - acc: 0.605 - ETA: 0s - loss: 1.4328 - acc: 0.604 - ETA: 0s - loss: 1.4424 - acc: 0.603 - ETA: 0s - loss: 1.4357 - acc: 0.604 - ETA: 0s - loss: 1.4376 - acc: 0.604 - ETA: 0s - loss: 1.4386 - acc: 0.605 - ETA: 0s - loss: 1.4370 - acc: 0.604 - ETA: 0s - loss: 1.4372 - acc: 0.603 - ETA: 0s - loss: 1.4374 - acc: 0.603 - ETA: 0s - loss: 1.4378 - acc: 0.604 - ETA: 0s - loss: 1.4416 - acc: 0.602 - 1s 28us/sample - loss: 1.4402 - acc: 0.6028 - val_loss: 1.7751 - val_acc: 0.5364\n",
      "Epoch 40/100\n",
      "40120/40120 [==============================] - ETA: 1s - loss: 1.5956 - acc: 0.605 - ETA: 0s - loss: 1.4491 - acc: 0.599 - ETA: 0s - loss: 1.4167 - acc: 0.606 - ETA: 0s - loss: 1.4127 - acc: 0.608 - ETA: 0s - loss: 1.4313 - acc: 0.604 - ETA: 0s - loss: 1.4386 - acc: 0.602 - ETA: 0s - loss: 1.4385 - acc: 0.600 - ETA: 0s - loss: 1.4367 - acc: 0.603 - ETA: 0s - loss: 1.4359 - acc: 0.602 - ETA: 0s - loss: 1.4316 - acc: 0.604 - ETA: 0s - loss: 1.4335 - acc: 0.602 - ETA: 0s - loss: 1.4431 - acc: 0.600 - ETA: 0s - loss: 1.4392 - acc: 0.601 - ETA: 0s - loss: 1.4413 - acc: 0.600 - ETA: 0s - loss: 1.4402 - acc: 0.600 - ETA: 0s - loss: 1.4396 - acc: 0.600 - ETA: 0s - loss: 1.4356 - acc: 0.602 - ETA: 0s - loss: 1.4369 - acc: 0.603 - ETA: 0s - loss: 1.4371 - acc: 0.602 - 1s 27us/sample - loss: 1.4350 - acc: 0.6029 - val_loss: 1.7607 - val_acc: 0.5414\n",
      "Epoch 41/100\n",
      "40120/40120 [==============================] - ETA: 1s - loss: 1.3793 - acc: 0.601 - ETA: 0s - loss: 1.3912 - acc: 0.625 - ETA: 0s - loss: 1.4030 - acc: 0.621 - ETA: 0s - loss: 1.4194 - acc: 0.613 - ETA: 0s - loss: 1.4290 - acc: 0.609 - ETA: 0s - loss: 1.4259 - acc: 0.609 - ETA: 0s - loss: 1.4287 - acc: 0.606 - ETA: 0s - loss: 1.4458 - acc: 0.600 - ETA: 0s - loss: 1.4380 - acc: 0.603 - ETA: 0s - loss: 1.4292 - acc: 0.604 - ETA: 0s - loss: 1.4236 - acc: 0.605 - ETA: 0s - loss: 1.4212 - acc: 0.605 - ETA: 0s - loss: 1.4224 - acc: 0.605 - ETA: 0s - loss: 1.4225 - acc: 0.605 - ETA: 0s - loss: 1.4241 - acc: 0.605 - ETA: 0s - loss: 1.4221 - acc: 0.606 - ETA: 0s - loss: 1.4232 - acc: 0.605 - ETA: 0s - loss: 1.4271 - acc: 0.605 - ETA: 0s - loss: 1.4278 - acc: 0.604 - 1s 27us/sample - loss: 1.4282 - acc: 0.6045 - val_loss: 1.7548 - val_acc: 0.5401\n",
      "Epoch 42/100\n",
      "40120/40120 [==============================] - ETA: 1s - loss: 1.5671 - acc: 0.589 - ETA: 0s - loss: 1.3870 - acc: 0.621 - ETA: 0s - loss: 1.4018 - acc: 0.617 - ETA: 0s - loss: 1.4058 - acc: 0.612 - ETA: 0s - loss: 1.4051 - acc: 0.609 - ETA: 0s - loss: 1.4174 - acc: 0.608 - ETA: 0s - loss: 1.4223 - acc: 0.607 - ETA: 0s - loss: 1.4209 - acc: 0.606 - ETA: 0s - loss: 1.4212 - acc: 0.607 - ETA: 0s - loss: 1.4249 - acc: 0.605 - ETA: 0s - loss: 1.4270 - acc: 0.604 - ETA: 0s - loss: 1.4265 - acc: 0.605 - ETA: 0s - loss: 1.4260 - acc: 0.605 - ETA: 0s - loss: 1.4289 - acc: 0.605 - ETA: 0s - loss: 1.4273 - acc: 0.605 - ETA: 0s - loss: 1.4244 - acc: 0.606 - ETA: 0s - loss: 1.4254 - acc: 0.606 - ETA: 0s - loss: 1.4244 - acc: 0.607 - ETA: 0s - loss: 1.4206 - acc: 0.607 - 1s 27us/sample - loss: 1.4212 - acc: 0.6070 - val_loss: 1.7587 - val_acc: 0.5379\n",
      "Epoch 43/100\n",
      "40120/40120 [==============================] - ETA: 1s - loss: 1.5314 - acc: 0.578 - ETA: 0s - loss: 1.3685 - acc: 0.612 - ETA: 0s - loss: 1.3591 - acc: 0.614 - ETA: 0s - loss: 1.3828 - acc: 0.611 - ETA: 0s - loss: 1.3846 - acc: 0.612 - ETA: 0s - loss: 1.3887 - acc: 0.614 - ETA: 0s - loss: 1.3926 - acc: 0.614 - ETA: 0s - loss: 1.3990 - acc: 0.613 - ETA: 0s - loss: 1.3990 - acc: 0.612 - ETA: 0s - loss: 1.4024 - acc: 0.611 - ETA: 0s - loss: 1.4072 - acc: 0.610 - ETA: 0s - loss: 1.4101 - acc: 0.608 - ETA: 0s - loss: 1.4107 - acc: 0.608 - ETA: 0s - loss: 1.4132 - acc: 0.608 - ETA: 0s - loss: 1.4177 - acc: 0.607 - ETA: 0s - loss: 1.4147 - acc: 0.608 - ETA: 0s - loss: 1.4172 - acc: 0.607 - ETA: 0s - loss: 1.4183 - acc: 0.606 - ETA: 0s - loss: 1.4157 - acc: 0.607 - 1s 28us/sample - loss: 1.4162 - acc: 0.6073 - val_loss: 1.7624 - val_acc: 0.5415\n",
      "Epoch 44/100\n",
      "40120/40120 [==============================] - ETA: 1s - loss: 1.3269 - acc: 0.632 - ETA: 1s - loss: 1.3955 - acc: 0.606 - ETA: 0s - loss: 1.3870 - acc: 0.610 - ETA: 0s - loss: 1.3840 - acc: 0.611 - ETA: 0s - loss: 1.3842 - acc: 0.614 - ETA: 0s - loss: 1.3914 - acc: 0.614 - ETA: 0s - loss: 1.3967 - acc: 0.612 - ETA: 0s - loss: 1.4020 - acc: 0.611 - ETA: 0s - loss: 1.4097 - acc: 0.610 - ETA: 0s - loss: 1.4140 - acc: 0.610 - ETA: 0s - loss: 1.4146 - acc: 0.610 - ETA: 0s - loss: 1.4141 - acc: 0.610 - ETA: 0s - loss: 1.4153 - acc: 0.609 - ETA: 0s - loss: 1.4160 - acc: 0.609 - ETA: 0s - loss: 1.4167 - acc: 0.609 - ETA: 0s - loss: 1.4153 - acc: 0.609 - ETA: 0s - loss: 1.4132 - acc: 0.609 - ETA: 0s - loss: 1.4106 - acc: 0.609 - ETA: 0s - loss: 1.4108 - acc: 0.609 - 1s 27us/sample - loss: 1.4107 - acc: 0.6102 - val_loss: 1.7790 - val_acc: 0.5370\n",
      "Epoch 45/100\n",
      "40120/40120 [==============================] - ETA: 1s - loss: 1.4023 - acc: 0.628 - ETA: 0s - loss: 1.4064 - acc: 0.605 - ETA: 0s - loss: 1.4054 - acc: 0.605 - ETA: 0s - loss: 1.4347 - acc: 0.603 - ETA: 0s - loss: 1.4153 - acc: 0.605 - ETA: 0s - loss: 1.4193 - acc: 0.605 - ETA: 0s - loss: 1.4134 - acc: 0.606 - ETA: 0s - loss: 1.4140 - acc: 0.606 - ETA: 0s - loss: 1.4186 - acc: 0.606 - ETA: 0s - loss: 1.4119 - acc: 0.608 - ETA: 0s - loss: 1.4176 - acc: 0.606 - ETA: 0s - loss: 1.4231 - acc: 0.604 - ETA: 0s - loss: 1.4258 - acc: 0.603 - ETA: 0s - loss: 1.4207 - acc: 0.605 - ETA: 0s - loss: 1.4142 - acc: 0.607 - ETA: 0s - loss: 1.4132 - acc: 0.607 - ETA: 0s - loss: 1.4101 - acc: 0.608 - ETA: 0s - loss: 1.4085 - acc: 0.609 - ETA: 0s - loss: 1.4066 - acc: 0.609 - 1s 28us/sample - loss: 1.4058 - acc: 0.6097 - val_loss: 1.7598 - val_acc: 0.5391\n",
      "Epoch 46/100\n",
      "40120/40120 [==============================] - ETA: 1s - loss: 1.3230 - acc: 0.656 - ETA: 1s - loss: 1.4158 - acc: 0.630 - ETA: 0s - loss: 1.3869 - acc: 0.627 - ETA: 0s - loss: 1.4055 - acc: 0.618 - ETA: 0s - loss: 1.4183 - acc: 0.610 - ETA: 0s - loss: 1.4075 - acc: 0.610 - ETA: 0s - loss: 1.4044 - acc: 0.612 - ETA: 0s - loss: 1.4059 - acc: 0.612 - ETA: 0s - loss: 1.4126 - acc: 0.611 - ETA: 0s - loss: 1.4101 - acc: 0.612 - ETA: 0s - loss: 1.4110 - acc: 0.612 - ETA: 0s - loss: 1.4107 - acc: 0.613 - ETA: 0s - loss: 1.4078 - acc: 0.613 - ETA: 0s - loss: 1.4061 - acc: 0.613 - ETA: 0s - loss: 1.4031 - acc: 0.614 - ETA: 0s - loss: 1.3994 - acc: 0.615 - ETA: 0s - loss: 1.4017 - acc: 0.614 - ETA: 0s - loss: 1.4011 - acc: 0.613 - ETA: 0s - loss: 1.3998 - acc: 0.613 - 1s 28us/sample - loss: 1.3994 - acc: 0.6135 - val_loss: 1.7566 - val_acc: 0.5419\n",
      "Epoch 47/100\n",
      "40120/40120 [==============================] - ETA: 1s - loss: 1.4367 - acc: 0.617 - ETA: 1s - loss: 1.4155 - acc: 0.609 - ETA: 0s - loss: 1.3915 - acc: 0.614 - ETA: 0s - loss: 1.3862 - acc: 0.618 - ETA: 0s - loss: 1.3753 - acc: 0.620 - ETA: 0s - loss: 1.3685 - acc: 0.619 - ETA: 0s - loss: 1.3681 - acc: 0.618 - ETA: 0s - loss: 1.3794 - acc: 0.616 - ETA: 0s - loss: 1.3822 - acc: 0.616 - ETA: 0s - loss: 1.3849 - acc: 0.615 - ETA: 0s - loss: 1.3839 - acc: 0.615 - ETA: 0s - loss: 1.3936 - acc: 0.612 - ETA: 0s - loss: 1.3934 - acc: 0.611 - ETA: 0s - loss: 1.3969 - acc: 0.610 - ETA: 0s - loss: 1.3977 - acc: 0.611 - ETA: 0s - loss: 1.3935 - acc: 0.611 - ETA: 0s - loss: 1.3928 - acc: 0.612 - ETA: 0s - loss: 1.3940 - acc: 0.612 - ETA: 0s - loss: 1.3919 - acc: 0.612 - ETA: 0s - loss: 1.3950 - acc: 0.611 - 1s 29us/sample - loss: 1.3949 - acc: 0.6123 - val_loss: 1.7542 - val_acc: 0.5403\n",
      "Epoch 48/100\n"
     ]
    },
    {
     "name": "stdout",
     "output_type": "stream",
     "text": [
      "40120/40120 [==============================] - ETA: 1s - loss: 1.4931 - acc: 0.613 - ETA: 0s - loss: 1.3238 - acc: 0.632 - ETA: 0s - loss: 1.3465 - acc: 0.629 - ETA: 0s - loss: 1.3755 - acc: 0.621 - ETA: 0s - loss: 1.3802 - acc: 0.620 - ETA: 0s - loss: 1.3796 - acc: 0.619 - ETA: 0s - loss: 1.3690 - acc: 0.621 - ETA: 0s - loss: 1.3766 - acc: 0.619 - ETA: 0s - loss: 1.3762 - acc: 0.618 - ETA: 0s - loss: 1.3806 - acc: 0.617 - ETA: 0s - loss: 1.3844 - acc: 0.616 - ETA: 0s - loss: 1.3830 - acc: 0.616 - ETA: 0s - loss: 1.3802 - acc: 0.616 - ETA: 0s - loss: 1.3909 - acc: 0.614 - ETA: 0s - loss: 1.3923 - acc: 0.613 - ETA: 0s - loss: 1.3901 - acc: 0.613 - ETA: 0s - loss: 1.3904 - acc: 0.614 - ETA: 0s - loss: 1.3913 - acc: 0.614 - ETA: 0s - loss: 1.3898 - acc: 0.614 - ETA: 0s - loss: 1.3903 - acc: 0.614 - 1s 29us/sample - loss: 1.3889 - acc: 0.6150 - val_loss: 1.7558 - val_acc: 0.5411\n",
      "Epoch 49/100\n",
      "40120/40120 [==============================] - ETA: 1s - loss: 1.5826 - acc: 0.585 - ETA: 1s - loss: 1.3671 - acc: 0.629 - ETA: 0s - loss: 1.3999 - acc: 0.615 - ETA: 0s - loss: 1.3868 - acc: 0.617 - ETA: 0s - loss: 1.3858 - acc: 0.615 - ETA: 0s - loss: 1.3733 - acc: 0.617 - ETA: 0s - loss: 1.3731 - acc: 0.617 - ETA: 0s - loss: 1.3725 - acc: 0.616 - ETA: 0s - loss: 1.3753 - acc: 0.617 - ETA: 0s - loss: 1.3729 - acc: 0.617 - ETA: 0s - loss: 1.3769 - acc: 0.616 - ETA: 0s - loss: 1.3811 - acc: 0.616 - ETA: 0s - loss: 1.3786 - acc: 0.616 - ETA: 0s - loss: 1.3768 - acc: 0.617 - ETA: 0s - loss: 1.3817 - acc: 0.617 - ETA: 0s - loss: 1.3808 - acc: 0.617 - ETA: 0s - loss: 1.3780 - acc: 0.617 - ETA: 0s - loss: 1.3786 - acc: 0.616 - ETA: 0s - loss: 1.3824 - acc: 0.616 - ETA: 0s - loss: 1.3845 - acc: 0.615 - 1s 29us/sample - loss: 1.3847 - acc: 0.6149 - val_loss: 1.7544 - val_acc: 0.5414\n",
      "Epoch 50/100\n",
      "40120/40120 [==============================] - ETA: 1s - loss: 1.2854 - acc: 0.644 - ETA: 0s - loss: 1.3518 - acc: 0.618 - ETA: 0s - loss: 1.3651 - acc: 0.613 - ETA: 0s - loss: 1.3744 - acc: 0.615 - ETA: 0s - loss: 1.3757 - acc: 0.615 - ETA: 0s - loss: 1.3748 - acc: 0.615 - ETA: 0s - loss: 1.3831 - acc: 0.613 - ETA: 0s - loss: 1.3874 - acc: 0.614 - ETA: 0s - loss: 1.3846 - acc: 0.615 - ETA: 0s - loss: 1.3876 - acc: 0.614 - ETA: 0s - loss: 1.3905 - acc: 0.614 - ETA: 0s - loss: 1.3909 - acc: 0.614 - ETA: 0s - loss: 1.3894 - acc: 0.614 - ETA: 0s - loss: 1.3917 - acc: 0.614 - ETA: 0s - loss: 1.3918 - acc: 0.613 - ETA: 0s - loss: 1.3883 - acc: 0.614 - ETA: 0s - loss: 1.3874 - acc: 0.615 - ETA: 0s - loss: 1.3818 - acc: 0.615 - ETA: 0s - loss: 1.3817 - acc: 0.615 - ETA: 0s - loss: 1.3791 - acc: 0.615 - 1s 28us/sample - loss: 1.3792 - acc: 0.6157 - val_loss: 1.7636 - val_acc: 0.5404\n",
      "Epoch 51/100\n",
      "40120/40120 [==============================] - ETA: 1s - loss: 1.3864 - acc: 0.625 - ETA: 1s - loss: 1.3512 - acc: 0.617 - ETA: 1s - loss: 1.3375 - acc: 0.624 - ETA: 0s - loss: 1.3466 - acc: 0.616 - ETA: 0s - loss: 1.3386 - acc: 0.618 - ETA: 0s - loss: 1.3466 - acc: 0.617 - ETA: 0s - loss: 1.3521 - acc: 0.615 - ETA: 0s - loss: 1.3467 - acc: 0.619 - ETA: 0s - loss: 1.3574 - acc: 0.617 - ETA: 0s - loss: 1.3636 - acc: 0.616 - ETA: 0s - loss: 1.3677 - acc: 0.616 - ETA: 0s - loss: 1.3697 - acc: 0.617 - ETA: 0s - loss: 1.3764 - acc: 0.616 - ETA: 0s - loss: 1.3795 - acc: 0.615 - ETA: 0s - loss: 1.3743 - acc: 0.617 - ETA: 0s - loss: 1.3726 - acc: 0.617 - ETA: 0s - loss: 1.3738 - acc: 0.616 - ETA: 0s - loss: 1.3767 - acc: 0.616 - ETA: 0s - loss: 1.3748 - acc: 0.616 - 1s 27us/sample - loss: 1.3745 - acc: 0.6171 - val_loss: 1.7556 - val_acc: 0.5441\n",
      "Epoch 52/100\n",
      "40120/40120 [==============================] - ETA: 1s - loss: 1.3993 - acc: 0.593 - ETA: 0s - loss: 1.3432 - acc: 0.622 - ETA: 0s - loss: 1.3889 - acc: 0.611 - ETA: 0s - loss: 1.3825 - acc: 0.614 - ETA: 0s - loss: 1.3789 - acc: 0.615 - ETA: 0s - loss: 1.3780 - acc: 0.615 - ETA: 0s - loss: 1.3779 - acc: 0.615 - ETA: 0s - loss: 1.3736 - acc: 0.616 - ETA: 0s - loss: 1.3662 - acc: 0.618 - ETA: 0s - loss: 1.3620 - acc: 0.620 - ETA: 0s - loss: 1.3614 - acc: 0.621 - ETA: 0s - loss: 1.3600 - acc: 0.621 - ETA: 0s - loss: 1.3617 - acc: 0.620 - ETA: 0s - loss: 1.3607 - acc: 0.621 - ETA: 0s - loss: 1.3645 - acc: 0.620 - ETA: 0s - loss: 1.3675 - acc: 0.620 - ETA: 0s - loss: 1.3670 - acc: 0.620 - ETA: 0s - loss: 1.3714 - acc: 0.620 - ETA: 0s - loss: 1.3709 - acc: 0.619 - 1s 28us/sample - loss: 1.3692 - acc: 0.6194 - val_loss: 1.7543 - val_acc: 0.5444\n",
      "Epoch 53/100\n",
      "40120/40120 [==============================] - ETA: 1s - loss: 1.5474 - acc: 0.554 - ETA: 0s - loss: 1.4301 - acc: 0.606 - ETA: 0s - loss: 1.3801 - acc: 0.617 - ETA: 0s - loss: 1.3745 - acc: 0.619 - ETA: 0s - loss: 1.3804 - acc: 0.618 - ETA: 0s - loss: 1.3752 - acc: 0.620 - ETA: 0s - loss: 1.3770 - acc: 0.618 - ETA: 0s - loss: 1.3758 - acc: 0.617 - ETA: 0s - loss: 1.3761 - acc: 0.618 - ETA: 0s - loss: 1.3746 - acc: 0.617 - ETA: 0s - loss: 1.3735 - acc: 0.618 - ETA: 0s - loss: 1.3732 - acc: 0.617 - ETA: 0s - loss: 1.3708 - acc: 0.617 - ETA: 0s - loss: 1.3689 - acc: 0.619 - ETA: 0s - loss: 1.3692 - acc: 0.618 - ETA: 0s - loss: 1.3676 - acc: 0.619 - ETA: 0s - loss: 1.3667 - acc: 0.619 - ETA: 0s - loss: 1.3650 - acc: 0.619 - ETA: 0s - loss: 1.3641 - acc: 0.620 - ETA: 0s - loss: 1.3632 - acc: 0.620 - 1s 28us/sample - loss: 1.3642 - acc: 0.6207 - val_loss: 1.7620 - val_acc: 0.5415\n",
      "Epoch 54/100\n",
      "40120/40120 [==============================] - ETA: 1s - loss: 1.1908 - acc: 0.679 - ETA: 0s - loss: 1.3311 - acc: 0.628 - ETA: 0s - loss: 1.3400 - acc: 0.629 - ETA: 0s - loss: 1.3350 - acc: 0.630 - ETA: 0s - loss: 1.3380 - acc: 0.631 - ETA: 0s - loss: 1.3342 - acc: 0.631 - ETA: 0s - loss: 1.3403 - acc: 0.631 - ETA: 0s - loss: 1.3386 - acc: 0.631 - ETA: 0s - loss: 1.3419 - acc: 0.630 - ETA: 0s - loss: 1.3474 - acc: 0.628 - ETA: 0s - loss: 1.3465 - acc: 0.628 - ETA: 0s - loss: 1.3464 - acc: 0.627 - ETA: 0s - loss: 1.3455 - acc: 0.628 - ETA: 0s - loss: 1.3467 - acc: 0.627 - ETA: 0s - loss: 1.3523 - acc: 0.626 - ETA: 0s - loss: 1.3473 - acc: 0.626 - ETA: 0s - loss: 1.3498 - acc: 0.624 - ETA: 0s - loss: 1.3519 - acc: 0.624 - ETA: 0s - loss: 1.3494 - acc: 0.625 - ETA: 0s - loss: 1.3544 - acc: 0.623 - ETA: 0s - loss: 1.3586 - acc: 0.622 - 1s 31us/sample - loss: 1.3594 - acc: 0.6227 - val_loss: 1.7570 - val_acc: 0.5405\n",
      "Epoch 55/100\n",
      "40120/40120 [==============================] - ETA: 1s - loss: 1.1206 - acc: 0.652 - ETA: 1s - loss: 1.2919 - acc: 0.630 - ETA: 0s - loss: 1.2786 - acc: 0.641 - ETA: 0s - loss: 1.3042 - acc: 0.638 - ETA: 0s - loss: 1.2952 - acc: 0.639 - ETA: 0s - loss: 1.3125 - acc: 0.633 - ETA: 0s - loss: 1.3248 - acc: 0.629 - ETA: 0s - loss: 1.3229 - acc: 0.628 - ETA: 0s - loss: 1.3208 - acc: 0.629 - ETA: 0s - loss: 1.3245 - acc: 0.628 - ETA: 0s - loss: 1.3308 - acc: 0.627 - ETA: 0s - loss: 1.3408 - acc: 0.624 - ETA: 0s - loss: 1.3446 - acc: 0.623 - ETA: 0s - loss: 1.3449 - acc: 0.623 - ETA: 0s - loss: 1.3452 - acc: 0.624 - ETA: 0s - loss: 1.3454 - acc: 0.624 - ETA: 0s - loss: 1.3511 - acc: 0.623 - ETA: 0s - loss: 1.3518 - acc: 0.622 - ETA: 0s - loss: 1.3536 - acc: 0.622 - ETA: 0s - loss: 1.3537 - acc: 0.622 - ETA: 0s - loss: 1.3547 - acc: 0.622 - 1s 31us/sample - loss: 1.3549 - acc: 0.6224 - val_loss: 1.7673 - val_acc: 0.5414\n",
      "Epoch 56/100\n",
      "40120/40120 [==============================] - ETA: 1s - loss: 1.5496 - acc: 0.550 - ETA: 1s - loss: 1.3381 - acc: 0.625 - ETA: 1s - loss: 1.3576 - acc: 0.618 - ETA: 1s - loss: 1.3451 - acc: 0.623 - ETA: 0s - loss: 1.3320 - acc: 0.630 - ETA: 0s - loss: 1.3346 - acc: 0.630 - ETA: 0s - loss: 1.3431 - acc: 0.627 - ETA: 0s - loss: 1.3295 - acc: 0.630 - ETA: 0s - loss: 1.3366 - acc: 0.628 - ETA: 0s - loss: 1.3361 - acc: 0.629 - ETA: 0s - loss: 1.3421 - acc: 0.627 - ETA: 0s - loss: 1.3391 - acc: 0.626 - ETA: 0s - loss: 1.3443 - acc: 0.624 - ETA: 0s - loss: 1.3464 - acc: 0.625 - ETA: 0s - loss: 1.3445 - acc: 0.626 - ETA: 0s - loss: 1.3422 - acc: 0.626 - ETA: 0s - loss: 1.3448 - acc: 0.625 - ETA: 0s - loss: 1.3470 - acc: 0.624 - ETA: 0s - loss: 1.3488 - acc: 0.624 - ETA: 0s - loss: 1.3508 - acc: 0.623 - ETA: 0s - loss: 1.3524 - acc: 0.623 - 1s 31us/sample - loss: 1.3511 - acc: 0.6230 - val_loss: 1.7566 - val_acc: 0.5449\n",
      "Epoch 57/100\n"
     ]
    },
    {
     "name": "stdout",
     "output_type": "stream",
     "text": [
      "40120/40120 [==============================] - ETA: 1s - loss: 1.3137 - acc: 0.613 - ETA: 1s - loss: 1.2716 - acc: 0.651 - ETA: 1s - loss: 1.2632 - acc: 0.646 - ETA: 1s - loss: 1.2875 - acc: 0.640 - ETA: 0s - loss: 1.3135 - acc: 0.632 - ETA: 0s - loss: 1.3211 - acc: 0.632 - ETA: 0s - loss: 1.3266 - acc: 0.630 - ETA: 0s - loss: 1.3213 - acc: 0.630 - ETA: 0s - loss: 1.3266 - acc: 0.628 - ETA: 0s - loss: 1.3301 - acc: 0.628 - ETA: 0s - loss: 1.3295 - acc: 0.629 - ETA: 0s - loss: 1.3308 - acc: 0.629 - ETA: 0s - loss: 1.3333 - acc: 0.629 - ETA: 0s - loss: 1.3361 - acc: 0.628 - ETA: 0s - loss: 1.3413 - acc: 0.627 - ETA: 0s - loss: 1.3405 - acc: 0.627 - ETA: 0s - loss: 1.3381 - acc: 0.626 - ETA: 0s - loss: 1.3353 - acc: 0.627 - ETA: 0s - loss: 1.3393 - acc: 0.626 - ETA: 0s - loss: 1.3428 - acc: 0.625 - ETA: 0s - loss: 1.3431 - acc: 0.625 - 1s 30us/sample - loss: 1.3452 - acc: 0.6246 - val_loss: 1.7586 - val_acc: 0.5441\n",
      "Epoch 58/100\n",
      "40120/40120 [==============================] - ETA: 1s - loss: 1.4284 - acc: 0.625 - ETA: 1s - loss: 1.2995 - acc: 0.635 - ETA: 0s - loss: 1.2962 - acc: 0.634 - ETA: 0s - loss: 1.3238 - acc: 0.624 - ETA: 0s - loss: 1.3328 - acc: 0.626 - ETA: 0s - loss: 1.3308 - acc: 0.625 - ETA: 0s - loss: 1.3359 - acc: 0.624 - ETA: 0s - loss: 1.3394 - acc: 0.622 - ETA: 0s - loss: 1.3418 - acc: 0.622 - ETA: 0s - loss: 1.3464 - acc: 0.622 - ETA: 0s - loss: 1.3433 - acc: 0.623 - ETA: 0s - loss: 1.3440 - acc: 0.623 - ETA: 0s - loss: 1.3468 - acc: 0.623 - ETA: 0s - loss: 1.3489 - acc: 0.623 - ETA: 0s - loss: 1.3476 - acc: 0.623 - ETA: 0s - loss: 1.3467 - acc: 0.623 - ETA: 0s - loss: 1.3450 - acc: 0.624 - ETA: 0s - loss: 1.3432 - acc: 0.625 - ETA: 0s - loss: 1.3421 - acc: 0.625 - ETA: 0s - loss: 1.3409 - acc: 0.626 - 1s 29us/sample - loss: 1.3408 - acc: 0.6261 - val_loss: 1.7507 - val_acc: 0.5441\n",
      "Epoch 59/100\n",
      "40120/40120 [==============================] - ETA: 1s - loss: 1.2988 - acc: 0.621 - ETA: 1s - loss: 1.3241 - acc: 0.627 - ETA: 0s - loss: 1.3428 - acc: 0.621 - ETA: 0s - loss: 1.3552 - acc: 0.625 - ETA: 0s - loss: 1.3651 - acc: 0.622 - ETA: 0s - loss: 1.3550 - acc: 0.625 - ETA: 0s - loss: 1.3616 - acc: 0.624 - ETA: 0s - loss: 1.3487 - acc: 0.628 - ETA: 0s - loss: 1.3423 - acc: 0.629 - ETA: 0s - loss: 1.3467 - acc: 0.626 - ETA: 0s - loss: 1.3413 - acc: 0.627 - ETA: 0s - loss: 1.3424 - acc: 0.626 - ETA: 0s - loss: 1.3404 - acc: 0.627 - ETA: 0s - loss: 1.3352 - acc: 0.628 - ETA: 0s - loss: 1.3341 - acc: 0.629 - ETA: 0s - loss: 1.3357 - acc: 0.627 - ETA: 0s - loss: 1.3379 - acc: 0.626 - ETA: 0s - loss: 1.3401 - acc: 0.626 - ETA: 0s - loss: 1.3368 - acc: 0.627 - ETA: 0s - loss: 1.3349 - acc: 0.627 - 1s 28us/sample - loss: 1.3358 - acc: 0.6276 - val_loss: 1.7542 - val_acc: 0.5434\n",
      "Epoch 60/100\n",
      "40120/40120 [==============================] - ETA: 1s - loss: 1.3324 - acc: 0.597 - ETA: 0s - loss: 1.3312 - acc: 0.627 - ETA: 0s - loss: 1.3268 - acc: 0.625 - ETA: 0s - loss: 1.3094 - acc: 0.630 - ETA: 0s - loss: 1.3012 - acc: 0.634 - ETA: 0s - loss: 1.3149 - acc: 0.631 - ETA: 0s - loss: 1.3258 - acc: 0.629 - ETA: 0s - loss: 1.3161 - acc: 0.631 - ETA: 0s - loss: 1.3164 - acc: 0.632 - ETA: 0s - loss: 1.3215 - acc: 0.631 - ETA: 0s - loss: 1.3213 - acc: 0.630 - ETA: 0s - loss: 1.3233 - acc: 0.630 - ETA: 0s - loss: 1.3251 - acc: 0.631 - ETA: 0s - loss: 1.3241 - acc: 0.631 - ETA: 0s - loss: 1.3281 - acc: 0.630 - ETA: 0s - loss: 1.3283 - acc: 0.629 - ETA: 0s - loss: 1.3308 - acc: 0.629 - ETA: 0s - loss: 1.3330 - acc: 0.628 - ETA: 0s - loss: 1.3335 - acc: 0.629 - 1s 27us/sample - loss: 1.3309 - acc: 0.6291 - val_loss: 1.7709 - val_acc: 0.5421\n",
      "Epoch 61/100\n",
      "40120/40120 [==============================] - ETA: 1s - loss: 1.4217 - acc: 0.613 - ETA: 0s - loss: 1.3621 - acc: 0.623 - ETA: 0s - loss: 1.3639 - acc: 0.617 - ETA: 0s - loss: 1.3329 - acc: 0.627 - ETA: 0s - loss: 1.3300 - acc: 0.627 - ETA: 0s - loss: 1.3226 - acc: 0.628 - ETA: 0s - loss: 1.3231 - acc: 0.630 - ETA: 0s - loss: 1.3254 - acc: 0.629 - ETA: 0s - loss: 1.3284 - acc: 0.628 - ETA: 0s - loss: 1.3236 - acc: 0.630 - ETA: 0s - loss: 1.3258 - acc: 0.629 - ETA: 0s - loss: 1.3265 - acc: 0.629 - ETA: 0s - loss: 1.3219 - acc: 0.629 - ETA: 0s - loss: 1.3201 - acc: 0.630 - ETA: 0s - loss: 1.3230 - acc: 0.629 - ETA: 0s - loss: 1.3207 - acc: 0.629 - ETA: 0s - loss: 1.3216 - acc: 0.630 - ETA: 0s - loss: 1.3217 - acc: 0.629 - ETA: 0s - loss: 1.3282 - acc: 0.627 - 1s 28us/sample - loss: 1.3272 - acc: 0.6280 - val_loss: 1.7554 - val_acc: 0.5445\n",
      "Epoch 62/100\n",
      "40120/40120 [==============================] - ETA: 1s - loss: 1.2622 - acc: 0.621 - ETA: 1s - loss: 1.3540 - acc: 0.620 - ETA: 0s - loss: 1.3321 - acc: 0.631 - ETA: 0s - loss: 1.3427 - acc: 0.629 - ETA: 0s - loss: 1.3457 - acc: 0.627 - ETA: 0s - loss: 1.3386 - acc: 0.628 - ETA: 0s - loss: 1.3398 - acc: 0.628 - ETA: 0s - loss: 1.3368 - acc: 0.630 - ETA: 0s - loss: 1.3339 - acc: 0.629 - ETA: 0s - loss: 1.3342 - acc: 0.628 - ETA: 0s - loss: 1.3358 - acc: 0.628 - ETA: 0s - loss: 1.3295 - acc: 0.630 - ETA: 0s - loss: 1.3257 - acc: 0.631 - ETA: 0s - loss: 1.3289 - acc: 0.630 - ETA: 0s - loss: 1.3270 - acc: 0.629 - ETA: 0s - loss: 1.3232 - acc: 0.630 - ETA: 0s - loss: 1.3257 - acc: 0.630 - ETA: 0s - loss: 1.3230 - acc: 0.630 - ETA: 0s - loss: 1.3236 - acc: 0.631 - ETA: 0s - loss: 1.3239 - acc: 0.630 - 1s 29us/sample - loss: 1.3236 - acc: 0.6312 - val_loss: 1.7502 - val_acc: 0.5454\n",
      "Epoch 63/100\n",
      "40120/40120 [==============================] - ETA: 1s - loss: 1.4379 - acc: 0.609 - ETA: 0s - loss: 1.3187 - acc: 0.632 - ETA: 0s - loss: 1.3282 - acc: 0.634 - ETA: 0s - loss: 1.3299 - acc: 0.634 - ETA: 0s - loss: 1.3195 - acc: 0.637 - ETA: 0s - loss: 1.3162 - acc: 0.636 - ETA: 0s - loss: 1.3090 - acc: 0.636 - ETA: 0s - loss: 1.3041 - acc: 0.635 - ETA: 0s - loss: 1.3025 - acc: 0.636 - ETA: 0s - loss: 1.3025 - acc: 0.636 - ETA: 0s - loss: 1.3097 - acc: 0.634 - ETA: 0s - loss: 1.3105 - acc: 0.634 - ETA: 0s - loss: 1.3101 - acc: 0.633 - ETA: 0s - loss: 1.3102 - acc: 0.633 - ETA: 0s - loss: 1.3103 - acc: 0.633 - ETA: 0s - loss: 1.3087 - acc: 0.632 - ETA: 0s - loss: 1.3106 - acc: 0.632 - ETA: 0s - loss: 1.3124 - acc: 0.632 - ETA: 0s - loss: 1.3136 - acc: 0.632 - ETA: 0s - loss: 1.3165 - acc: 0.632 - 1s 29us/sample - loss: 1.3183 - acc: 0.6314 - val_loss: 1.7669 - val_acc: 0.5450\n",
      "Epoch 64/100\n",
      "40120/40120 [==============================] - ETA: 1s - loss: 1.1917 - acc: 0.687 - ETA: 1s - loss: 1.2321 - acc: 0.657 - ETA: 0s - loss: 1.2687 - acc: 0.649 - ETA: 0s - loss: 1.2750 - acc: 0.642 - ETA: 0s - loss: 1.2929 - acc: 0.640 - ETA: 0s - loss: 1.2892 - acc: 0.642 - ETA: 0s - loss: 1.3048 - acc: 0.639 - ETA: 0s - loss: 1.2988 - acc: 0.639 - ETA: 0s - loss: 1.2970 - acc: 0.638 - ETA: 0s - loss: 1.2961 - acc: 0.637 - ETA: 0s - loss: 1.2995 - acc: 0.635 - ETA: 0s - loss: 1.3028 - acc: 0.635 - ETA: 0s - loss: 1.3023 - acc: 0.634 - ETA: 0s - loss: 1.3045 - acc: 0.633 - ETA: 0s - loss: 1.3088 - acc: 0.633 - ETA: 0s - loss: 1.3068 - acc: 0.635 - ETA: 0s - loss: 1.3066 - acc: 0.635 - ETA: 0s - loss: 1.3086 - acc: 0.633 - ETA: 0s - loss: 1.3135 - acc: 0.631 - ETA: 0s - loss: 1.3126 - acc: 0.632 - 1s 30us/sample - loss: 1.3141 - acc: 0.6322 - val_loss: 1.7620 - val_acc: 0.5476\n",
      "Epoch 65/100\n",
      "40120/40120 [==============================] - ETA: 1s - loss: 1.0624 - acc: 0.722 - ETA: 1s - loss: 1.2971 - acc: 0.628 - ETA: 0s - loss: 1.3111 - acc: 0.628 - ETA: 0s - loss: 1.3181 - acc: 0.628 - ETA: 0s - loss: 1.3188 - acc: 0.626 - ETA: 0s - loss: 1.3261 - acc: 0.626 - ETA: 0s - loss: 1.3163 - acc: 0.630 - ETA: 0s - loss: 1.3168 - acc: 0.630 - ETA: 0s - loss: 1.3133 - acc: 0.632 - ETA: 0s - loss: 1.3117 - acc: 0.634 - ETA: 0s - loss: 1.3066 - acc: 0.635 - ETA: 0s - loss: 1.3052 - acc: 0.634 - ETA: 0s - loss: 1.3028 - acc: 0.634 - ETA: 0s - loss: 1.3060 - acc: 0.633 - ETA: 0s - loss: 1.3050 - acc: 0.634 - ETA: 0s - loss: 1.3052 - acc: 0.634 - ETA: 0s - loss: 1.3041 - acc: 0.634 - ETA: 0s - loss: 1.3069 - acc: 0.633 - ETA: 0s - loss: 1.3073 - acc: 0.634 - ETA: 0s - loss: 1.3090 - acc: 0.634 - ETA: 0s - loss: 1.3081 - acc: 0.634 - 1s 30us/sample - loss: 1.3097 - acc: 0.6341 - val_loss: 1.7609 - val_acc: 0.5434\n",
      "Epoch 66/100\n"
     ]
    },
    {
     "name": "stdout",
     "output_type": "stream",
     "text": [
      "40120/40120 [==============================] - ETA: 1s - loss: 1.3708 - acc: 0.632 - ETA: 0s - loss: 1.3151 - acc: 0.638 - ETA: 0s - loss: 1.2895 - acc: 0.641 - ETA: 0s - loss: 1.2629 - acc: 0.642 - ETA: 0s - loss: 1.2685 - acc: 0.643 - ETA: 0s - loss: 1.2723 - acc: 0.643 - ETA: 0s - loss: 1.2780 - acc: 0.640 - ETA: 0s - loss: 1.2823 - acc: 0.638 - ETA: 0s - loss: 1.2794 - acc: 0.638 - ETA: 0s - loss: 1.2798 - acc: 0.639 - ETA: 0s - loss: 1.2807 - acc: 0.638 - ETA: 0s - loss: 1.2882 - acc: 0.636 - ETA: 0s - loss: 1.2874 - acc: 0.637 - ETA: 0s - loss: 1.2911 - acc: 0.634 - ETA: 0s - loss: 1.2932 - acc: 0.634 - ETA: 0s - loss: 1.2992 - acc: 0.633 - ETA: 0s - loss: 1.3039 - acc: 0.633 - ETA: 0s - loss: 1.3060 - acc: 0.633 - ETA: 0s - loss: 1.3066 - acc: 0.633 - 1s 27us/sample - loss: 1.3057 - acc: 0.6342 - val_loss: 1.7460 - val_acc: 0.5501\n",
      "Epoch 67/100\n",
      "40120/40120 [==============================] - ETA: 1s - loss: 1.3434 - acc: 0.621 - ETA: 0s - loss: 1.2945 - acc: 0.628 - ETA: 0s - loss: 1.2984 - acc: 0.634 - ETA: 0s - loss: 1.2873 - acc: 0.639 - ETA: 0s - loss: 1.3014 - acc: 0.635 - ETA: 0s - loss: 1.2974 - acc: 0.636 - ETA: 0s - loss: 1.3037 - acc: 0.633 - ETA: 0s - loss: 1.3117 - acc: 0.630 - ETA: 0s - loss: 1.3101 - acc: 0.632 - ETA: 0s - loss: 1.3067 - acc: 0.633 - ETA: 0s - loss: 1.3061 - acc: 0.633 - ETA: 0s - loss: 1.3022 - acc: 0.634 - ETA: 0s - loss: 1.3002 - acc: 0.635 - ETA: 0s - loss: 1.2996 - acc: 0.635 - ETA: 0s - loss: 1.3000 - acc: 0.635 - ETA: 0s - loss: 1.3059 - acc: 0.634 - ETA: 0s - loss: 1.3056 - acc: 0.635 - ETA: 0s - loss: 1.3059 - acc: 0.634 - ETA: 0s - loss: 1.3034 - acc: 0.635 - 1s 27us/sample - loss: 1.3019 - acc: 0.6353 - val_loss: 1.7510 - val_acc: 0.5460\n",
      "Epoch 68/100\n",
      "40120/40120 [==============================] - ETA: 1s - loss: 1.3363 - acc: 0.668 - ETA: 0s - loss: 1.3054 - acc: 0.644 - ETA: 0s - loss: 1.2908 - acc: 0.642 - ETA: 0s - loss: 1.2925 - acc: 0.638 - ETA: 0s - loss: 1.2883 - acc: 0.638 - ETA: 0s - loss: 1.2932 - acc: 0.634 - ETA: 0s - loss: 1.3020 - acc: 0.633 - ETA: 0s - loss: 1.3005 - acc: 0.633 - ETA: 0s - loss: 1.2934 - acc: 0.634 - ETA: 0s - loss: 1.2916 - acc: 0.635 - ETA: 0s - loss: 1.2938 - acc: 0.635 - ETA: 0s - loss: 1.2946 - acc: 0.635 - ETA: 0s - loss: 1.2971 - acc: 0.635 - ETA: 0s - loss: 1.2945 - acc: 0.636 - ETA: 0s - loss: 1.2954 - acc: 0.636 - ETA: 0s - loss: 1.2949 - acc: 0.636 - ETA: 0s - loss: 1.2966 - acc: 0.636 - ETA: 0s - loss: 1.2982 - acc: 0.635 - ETA: 0s - loss: 1.2967 - acc: 0.636 - 1s 27us/sample - loss: 1.2984 - acc: 0.6352 - val_loss: 1.7564 - val_acc: 0.5480\n",
      "Epoch 69/100\n",
      "40120/40120 [==============================] - ETA: 1s - loss: 1.1304 - acc: 0.644 - ETA: 0s - loss: 1.2132 - acc: 0.645 - ETA: 0s - loss: 1.2547 - acc: 0.638 - ETA: 0s - loss: 1.2574 - acc: 0.641 - ETA: 0s - loss: 1.2717 - acc: 0.641 - ETA: 0s - loss: 1.2749 - acc: 0.639 - ETA: 0s - loss: 1.2649 - acc: 0.641 - ETA: 0s - loss: 1.2674 - acc: 0.641 - ETA: 0s - loss: 1.2771 - acc: 0.639 - ETA: 0s - loss: 1.2810 - acc: 0.640 - ETA: 0s - loss: 1.2839 - acc: 0.639 - ETA: 0s - loss: 1.2842 - acc: 0.640 - ETA: 0s - loss: 1.2859 - acc: 0.640 - ETA: 0s - loss: 1.2908 - acc: 0.639 - ETA: 0s - loss: 1.2931 - acc: 0.638 - ETA: 0s - loss: 1.2884 - acc: 0.638 - ETA: 0s - loss: 1.2909 - acc: 0.638 - ETA: 0s - loss: 1.2896 - acc: 0.638 - ETA: 0s - loss: 1.2915 - acc: 0.637 - 1s 27us/sample - loss: 1.2933 - acc: 0.6378 - val_loss: 1.7653 - val_acc: 0.5446\n",
      "Epoch 70/100\n",
      "40120/40120 [==============================] - ETA: 1s - loss: 1.4882 - acc: 0.562 - ETA: 0s - loss: 1.2898 - acc: 0.632 - ETA: 0s - loss: 1.2621 - acc: 0.641 - ETA: 0s - loss: 1.2603 - acc: 0.643 - ETA: 0s - loss: 1.2688 - acc: 0.640 - ETA: 0s - loss: 1.2612 - acc: 0.641 - ETA: 0s - loss: 1.2649 - acc: 0.641 - ETA: 0s - loss: 1.2795 - acc: 0.638 - ETA: 0s - loss: 1.2827 - acc: 0.639 - ETA: 0s - loss: 1.2808 - acc: 0.639 - ETA: 0s - loss: 1.2829 - acc: 0.638 - ETA: 0s - loss: 1.2799 - acc: 0.638 - ETA: 0s - loss: 1.2778 - acc: 0.638 - ETA: 0s - loss: 1.2762 - acc: 0.639 - ETA: 0s - loss: 1.2772 - acc: 0.640 - ETA: 0s - loss: 1.2810 - acc: 0.639 - ETA: 0s - loss: 1.2784 - acc: 0.639 - ETA: 0s - loss: 1.2811 - acc: 0.639 - ETA: 0s - loss: 1.2865 - acc: 0.638 - 1s 27us/sample - loss: 1.2893 - acc: 0.6376 - val_loss: 1.7648 - val_acc: 0.5429\n",
      "Epoch 71/100\n",
      "40120/40120 [==============================] - ETA: 1s - loss: 1.2493 - acc: 0.632 - ETA: 1s - loss: 1.2393 - acc: 0.651 - ETA: 0s - loss: 1.2519 - acc: 0.648 - ETA: 0s - loss: 1.2677 - acc: 0.643 - ETA: 0s - loss: 1.2536 - acc: 0.647 - ETA: 0s - loss: 1.2642 - acc: 0.646 - ETA: 0s - loss: 1.2641 - acc: 0.643 - ETA: 0s - loss: 1.2737 - acc: 0.643 - ETA: 0s - loss: 1.2730 - acc: 0.643 - ETA: 0s - loss: 1.2702 - acc: 0.643 - ETA: 0s - loss: 1.2726 - acc: 0.642 - ETA: 0s - loss: 1.2684 - acc: 0.643 - ETA: 0s - loss: 1.2708 - acc: 0.642 - ETA: 0s - loss: 1.2766 - acc: 0.641 - ETA: 0s - loss: 1.2840 - acc: 0.639 - ETA: 0s - loss: 1.2834 - acc: 0.639 - ETA: 0s - loss: 1.2868 - acc: 0.638 - ETA: 0s - loss: 1.2876 - acc: 0.638 - ETA: 0s - loss: 1.2858 - acc: 0.639 - 1s 28us/sample - loss: 1.2862 - acc: 0.6383 - val_loss: 1.7588 - val_acc: 0.5454\n",
      "Epoch 72/100\n",
      "40120/40120 [==============================] - ETA: 1s - loss: 1.1785 - acc: 0.628 - ETA: 0s - loss: 1.2727 - acc: 0.644 - ETA: 0s - loss: 1.2805 - acc: 0.644 - ETA: 0s - loss: 1.2737 - acc: 0.647 - ETA: 0s - loss: 1.2691 - acc: 0.650 - ETA: 0s - loss: 1.2709 - acc: 0.647 - ETA: 0s - loss: 1.2696 - acc: 0.645 - ETA: 0s - loss: 1.2677 - acc: 0.645 - ETA: 0s - loss: 1.2797 - acc: 0.644 - ETA: 0s - loss: 1.2821 - acc: 0.643 - ETA: 0s - loss: 1.2794 - acc: 0.643 - ETA: 0s - loss: 1.2839 - acc: 0.640 - ETA: 0s - loss: 1.2831 - acc: 0.641 - ETA: 0s - loss: 1.2835 - acc: 0.639 - ETA: 0s - loss: 1.2808 - acc: 0.639 - ETA: 0s - loss: 1.2816 - acc: 0.639 - ETA: 0s - loss: 1.2828 - acc: 0.639 - ETA: 0s - loss: 1.2820 - acc: 0.639 - ETA: 0s - loss: 1.2810 - acc: 0.639 - 1s 28us/sample - loss: 1.2821 - acc: 0.6394 - val_loss: 1.7619 - val_acc: 0.5455\n",
      "Epoch 73/100\n",
      "40120/40120 [==============================] - ETA: 1s - loss: 1.1966 - acc: 0.636 - ETA: 1s - loss: 1.2519 - acc: 0.641 - ETA: 1s - loss: 1.2483 - acc: 0.645 - ETA: 0s - loss: 1.2464 - acc: 0.646 - ETA: 0s - loss: 1.2403 - acc: 0.650 - ETA: 0s - loss: 1.2575 - acc: 0.645 - ETA: 0s - loss: 1.2556 - acc: 0.646 - ETA: 0s - loss: 1.2637 - acc: 0.643 - ETA: 0s - loss: 1.2661 - acc: 0.642 - ETA: 0s - loss: 1.2730 - acc: 0.642 - ETA: 0s - loss: 1.2747 - acc: 0.641 - ETA: 0s - loss: 1.2769 - acc: 0.640 - ETA: 0s - loss: 1.2748 - acc: 0.640 - ETA: 0s - loss: 1.2732 - acc: 0.641 - ETA: 0s - loss: 1.2728 - acc: 0.641 - ETA: 0s - loss: 1.2760 - acc: 0.640 - ETA: 0s - loss: 1.2771 - acc: 0.639 - ETA: 0s - loss: 1.2763 - acc: 0.640 - ETA: 0s - loss: 1.2776 - acc: 0.640 - ETA: 0s - loss: 1.2797 - acc: 0.640 - ETA: 0s - loss: 1.2799 - acc: 0.640 - 1s 30us/sample - loss: 1.2790 - acc: 0.6404 - val_loss: 1.7599 - val_acc: 0.5494\n",
      "Epoch 74/100\n",
      "40120/40120 [==============================] - ETA: 1s - loss: 1.1672 - acc: 0.636 - ETA: 0s - loss: 1.2265 - acc: 0.651 - ETA: 0s - loss: 1.2502 - acc: 0.642 - ETA: 0s - loss: 1.2676 - acc: 0.642 - ETA: 0s - loss: 1.2680 - acc: 0.642 - ETA: 0s - loss: 1.2747 - acc: 0.639 - ETA: 0s - loss: 1.2719 - acc: 0.639 - ETA: 0s - loss: 1.2708 - acc: 0.642 - ETA: 0s - loss: 1.2808 - acc: 0.640 - ETA: 0s - loss: 1.2777 - acc: 0.641 - ETA: 0s - loss: 1.2722 - acc: 0.641 - ETA: 0s - loss: 1.2700 - acc: 0.641 - ETA: 0s - loss: 1.2772 - acc: 0.640 - ETA: 0s - loss: 1.2760 - acc: 0.641 - ETA: 0s - loss: 1.2772 - acc: 0.640 - ETA: 0s - loss: 1.2766 - acc: 0.640 - ETA: 0s - loss: 1.2782 - acc: 0.639 - ETA: 0s - loss: 1.2779 - acc: 0.640 - ETA: 0s - loss: 1.2786 - acc: 0.639 - ETA: 0s - loss: 1.2759 - acc: 0.640 - ETA: 0s - loss: 1.2753 - acc: 0.641 - 1s 30us/sample - loss: 1.2744 - acc: 0.6417 - val_loss: 1.7600 - val_acc: 0.5515\n",
      "Epoch 75/100\n"
     ]
    },
    {
     "name": "stdout",
     "output_type": "stream",
     "text": [
      "40120/40120 [==============================] - ETA: 1s - loss: 1.2542 - acc: 0.632 - ETA: 0s - loss: 1.2265 - acc: 0.654 - ETA: 0s - loss: 1.2566 - acc: 0.647 - ETA: 0s - loss: 1.2631 - acc: 0.646 - ETA: 0s - loss: 1.2506 - acc: 0.650 - ETA: 0s - loss: 1.2520 - acc: 0.649 - ETA: 0s - loss: 1.2649 - acc: 0.647 - ETA: 0s - loss: 1.2708 - acc: 0.644 - ETA: 0s - loss: 1.2673 - acc: 0.644 - ETA: 0s - loss: 1.2692 - acc: 0.644 - ETA: 0s - loss: 1.2674 - acc: 0.644 - ETA: 0s - loss: 1.2633 - acc: 0.645 - ETA: 0s - loss: 1.2638 - acc: 0.644 - ETA: 0s - loss: 1.2613 - acc: 0.645 - ETA: 0s - loss: 1.2615 - acc: 0.645 - ETA: 0s - loss: 1.2672 - acc: 0.643 - ETA: 0s - loss: 1.2658 - acc: 0.643 - ETA: 0s - loss: 1.2681 - acc: 0.644 - ETA: 0s - loss: 1.2674 - acc: 0.644 - ETA: 0s - loss: 1.2700 - acc: 0.644 - 1s 28us/sample - loss: 1.2706 - acc: 0.6440 - val_loss: 1.7641 - val_acc: 0.5476\n",
      "Epoch 76/100\n",
      "40120/40120 [==============================] - ETA: 1s - loss: 1.2303 - acc: 0.644 - ETA: 0s - loss: 1.2132 - acc: 0.652 - ETA: 0s - loss: 1.2188 - acc: 0.656 - ETA: 0s - loss: 1.2437 - acc: 0.653 - ETA: 0s - loss: 1.2434 - acc: 0.650 - ETA: 0s - loss: 1.2482 - acc: 0.649 - ETA: 0s - loss: 1.2665 - acc: 0.646 - ETA: 0s - loss: 1.2746 - acc: 0.645 - ETA: 0s - loss: 1.2639 - acc: 0.646 - ETA: 0s - loss: 1.2619 - acc: 0.646 - ETA: 0s - loss: 1.2673 - acc: 0.646 - ETA: 0s - loss: 1.2670 - acc: 0.644 - ETA: 0s - loss: 1.2718 - acc: 0.642 - ETA: 0s - loss: 1.2722 - acc: 0.642 - ETA: 0s - loss: 1.2732 - acc: 0.642 - ETA: 0s - loss: 1.2702 - acc: 0.642 - ETA: 0s - loss: 1.2658 - acc: 0.643 - ETA: 0s - loss: 1.2651 - acc: 0.643 - ETA: 0s - loss: 1.2674 - acc: 0.643 - 1s 27us/sample - loss: 1.2667 - acc: 0.6433 - val_loss: 1.7645 - val_acc: 0.5450\n",
      "Epoch 77/100\n",
      "40120/40120 [==============================] - ETA: 1s - loss: 1.2294 - acc: 0.656 - ETA: 0s - loss: 1.2519 - acc: 0.649 - ETA: 0s - loss: 1.2529 - acc: 0.640 - ETA: 0s - loss: 1.2612 - acc: 0.638 - ETA: 0s - loss: 1.2652 - acc: 0.635 - ETA: 0s - loss: 1.2605 - acc: 0.637 - ETA: 0s - loss: 1.2594 - acc: 0.638 - ETA: 0s - loss: 1.2596 - acc: 0.637 - ETA: 0s - loss: 1.2563 - acc: 0.640 - ETA: 0s - loss: 1.2625 - acc: 0.639 - ETA: 0s - loss: 1.2637 - acc: 0.639 - ETA: 0s - loss: 1.2621 - acc: 0.639 - ETA: 0s - loss: 1.2688 - acc: 0.637 - ETA: 0s - loss: 1.2652 - acc: 0.638 - ETA: 0s - loss: 1.2656 - acc: 0.640 - ETA: 0s - loss: 1.2654 - acc: 0.639 - ETA: 0s - loss: 1.2638 - acc: 0.640 - ETA: 0s - loss: 1.2623 - acc: 0.640 - ETA: 0s - loss: 1.2623 - acc: 0.641 - 1s 27us/sample - loss: 1.2637 - acc: 0.6415 - val_loss: 1.7772 - val_acc: 0.5477\n",
      "Epoch 78/100\n",
      "40120/40120 [==============================] - ETA: 1s - loss: 1.3416 - acc: 0.589 - ETA: 0s - loss: 1.2447 - acc: 0.645 - ETA: 0s - loss: 1.2661 - acc: 0.644 - ETA: 0s - loss: 1.2641 - acc: 0.647 - ETA: 0s - loss: 1.2647 - acc: 0.646 - ETA: 0s - loss: 1.2676 - acc: 0.645 - ETA: 0s - loss: 1.2713 - acc: 0.643 - ETA: 0s - loss: 1.2654 - acc: 0.643 - ETA: 0s - loss: 1.2602 - acc: 0.643 - ETA: 0s - loss: 1.2560 - acc: 0.644 - ETA: 0s - loss: 1.2573 - acc: 0.643 - ETA: 0s - loss: 1.2589 - acc: 0.644 - ETA: 0s - loss: 1.2585 - acc: 0.645 - ETA: 0s - loss: 1.2603 - acc: 0.645 - ETA: 0s - loss: 1.2628 - acc: 0.644 - ETA: 0s - loss: 1.2623 - acc: 0.644 - ETA: 0s - loss: 1.2599 - acc: 0.644 - ETA: 0s - loss: 1.2590 - acc: 0.644 - ETA: 0s - loss: 1.2598 - acc: 0.645 - 1s 27us/sample - loss: 1.2600 - acc: 0.6452 - val_loss: 1.7701 - val_acc: 0.5455\n",
      "Epoch 79/100\n",
      "40120/40120 [==============================] - ETA: 1s - loss: 1.3350 - acc: 0.648 - ETA: 0s - loss: 1.2335 - acc: 0.638 - ETA: 0s - loss: 1.2276 - acc: 0.643 - ETA: 0s - loss: 1.2427 - acc: 0.641 - ETA: 0s - loss: 1.2581 - acc: 0.638 - ETA: 0s - loss: 1.2530 - acc: 0.640 - ETA: 0s - loss: 1.2482 - acc: 0.643 - ETA: 0s - loss: 1.2480 - acc: 0.644 - ETA: 0s - loss: 1.2508 - acc: 0.644 - ETA: 0s - loss: 1.2476 - acc: 0.645 - ETA: 0s - loss: 1.2496 - acc: 0.644 - ETA: 0s - loss: 1.2520 - acc: 0.644 - ETA: 0s - loss: 1.2509 - acc: 0.645 - ETA: 0s - loss: 1.2526 - acc: 0.645 - ETA: 0s - loss: 1.2481 - acc: 0.647 - ETA: 0s - loss: 1.2469 - acc: 0.648 - ETA: 0s - loss: 1.2465 - acc: 0.648 - ETA: 0s - loss: 1.2498 - acc: 0.647 - ETA: 0s - loss: 1.2516 - acc: 0.647 - ETA: 0s - loss: 1.2565 - acc: 0.646 - 1s 29us/sample - loss: 1.2558 - acc: 0.6463 - val_loss: 1.7675 - val_acc: 0.5483\n",
      "Epoch 80/100\n",
      "40120/40120 [==============================] - ETA: 1s - loss: 1.3718 - acc: 0.617 - ETA: 1s - loss: 1.2669 - acc: 0.645 - ETA: 0s - loss: 1.2384 - acc: 0.651 - ETA: 0s - loss: 1.2499 - acc: 0.649 - ETA: 0s - loss: 1.2535 - acc: 0.644 - ETA: 0s - loss: 1.2512 - acc: 0.647 - ETA: 0s - loss: 1.2444 - acc: 0.651 - ETA: 0s - loss: 1.2405 - acc: 0.652 - ETA: 0s - loss: 1.2337 - acc: 0.653 - ETA: 0s - loss: 1.2361 - acc: 0.653 - ETA: 0s - loss: 1.2432 - acc: 0.652 - ETA: 0s - loss: 1.2435 - acc: 0.651 - ETA: 0s - loss: 1.2421 - acc: 0.651 - ETA: 0s - loss: 1.2482 - acc: 0.649 - ETA: 0s - loss: 1.2512 - acc: 0.648 - ETA: 0s - loss: 1.2518 - acc: 0.648 - ETA: 0s - loss: 1.2522 - acc: 0.647 - ETA: 0s - loss: 1.2549 - acc: 0.646 - ETA: 0s - loss: 1.2549 - acc: 0.646 - ETA: 0s - loss: 1.2520 - acc: 0.647 - 1s 29us/sample - loss: 1.2523 - acc: 0.6472 - val_loss: 1.7675 - val_acc: 0.5479\n",
      "Epoch 81/100\n",
      "40120/40120 [==============================] - ETA: 1s - loss: 1.2942 - acc: 0.648 - ETA: 1s - loss: 1.2579 - acc: 0.633 - ETA: 0s - loss: 1.2520 - acc: 0.638 - ETA: 0s - loss: 1.2499 - acc: 0.645 - ETA: 0s - loss: 1.2620 - acc: 0.639 - ETA: 0s - loss: 1.2566 - acc: 0.642 - ETA: 0s - loss: 1.2462 - acc: 0.644 - ETA: 0s - loss: 1.2478 - acc: 0.645 - ETA: 0s - loss: 1.2452 - acc: 0.646 - ETA: 0s - loss: 1.2388 - acc: 0.648 - ETA: 0s - loss: 1.2395 - acc: 0.649 - ETA: 0s - loss: 1.2440 - acc: 0.648 - ETA: 0s - loss: 1.2426 - acc: 0.649 - ETA: 0s - loss: 1.2451 - acc: 0.649 - ETA: 0s - loss: 1.2453 - acc: 0.648 - ETA: 0s - loss: 1.2441 - acc: 0.649 - ETA: 0s - loss: 1.2458 - acc: 0.648 - ETA: 0s - loss: 1.2460 - acc: 0.649 - ETA: 0s - loss: 1.2457 - acc: 0.649 - ETA: 0s - loss: 1.2475 - acc: 0.648 - 1s 29us/sample - loss: 1.2483 - acc: 0.6483 - val_loss: 1.7620 - val_acc: 0.5449\n",
      "Epoch 82/100\n",
      "40120/40120 [==============================] - ETA: 1s - loss: 1.3874 - acc: 0.671 - ETA: 0s - loss: 1.2288 - acc: 0.650 - ETA: 0s - loss: 1.2396 - acc: 0.653 - ETA: 0s - loss: 1.2407 - acc: 0.650 - ETA: 0s - loss: 1.2433 - acc: 0.650 - ETA: 0s - loss: 1.2396 - acc: 0.649 - ETA: 0s - loss: 1.2285 - acc: 0.652 - ETA: 0s - loss: 1.2264 - acc: 0.653 - ETA: 0s - loss: 1.2355 - acc: 0.650 - ETA: 0s - loss: 1.2348 - acc: 0.650 - ETA: 0s - loss: 1.2350 - acc: 0.649 - ETA: 0s - loss: 1.2369 - acc: 0.649 - ETA: 0s - loss: 1.2386 - acc: 0.649 - ETA: 0s - loss: 1.2371 - acc: 0.648 - ETA: 0s - loss: 1.2383 - acc: 0.648 - ETA: 0s - loss: 1.2421 - acc: 0.647 - ETA: 0s - loss: 1.2450 - acc: 0.646 - ETA: 0s - loss: 1.2444 - acc: 0.647 - ETA: 0s - loss: 1.2459 - acc: 0.647 - ETA: 0s - loss: 1.2454 - acc: 0.647 - 1s 29us/sample - loss: 1.2452 - acc: 0.6474 - val_loss: 1.7679 - val_acc: 0.5486\n",
      "Epoch 83/100\n",
      "40120/40120 [==============================] - ETA: 1s - loss: 1.2321 - acc: 0.656 - ETA: 0s - loss: 1.1987 - acc: 0.667 - ETA: 0s - loss: 1.2276 - acc: 0.656 - ETA: 0s - loss: 1.2179 - acc: 0.657 - ETA: 0s - loss: 1.2132 - acc: 0.654 - ETA: 0s - loss: 1.2061 - acc: 0.655 - ETA: 0s - loss: 1.2030 - acc: 0.655 - ETA: 0s - loss: 1.2057 - acc: 0.655 - ETA: 0s - loss: 1.2100 - acc: 0.653 - ETA: 0s - loss: 1.2120 - acc: 0.654 - ETA: 0s - loss: 1.2148 - acc: 0.653 - ETA: 0s - loss: 1.2175 - acc: 0.653 - ETA: 0s - loss: 1.2174 - acc: 0.654 - ETA: 0s - loss: 1.2233 - acc: 0.653 - ETA: 0s - loss: 1.2313 - acc: 0.651 - ETA: 0s - loss: 1.2348 - acc: 0.650 - ETA: 0s - loss: 1.2383 - acc: 0.649 - ETA: 0s - loss: 1.2390 - acc: 0.649 - ETA: 0s - loss: 1.2398 - acc: 0.649 - ETA: 0s - loss: 1.2421 - acc: 0.649 - 1s 29us/sample - loss: 1.2418 - acc: 0.6494 - val_loss: 1.7677 - val_acc: 0.5452\n",
      "Epoch 84/100\n"
     ]
    },
    {
     "name": "stdout",
     "output_type": "stream",
     "text": [
      "40120/40120 [==============================] - ETA: 1s - loss: 1.2482 - acc: 0.644 - ETA: 0s - loss: 1.2332 - acc: 0.651 - ETA: 0s - loss: 1.2269 - acc: 0.654 - ETA: 0s - loss: 1.2304 - acc: 0.654 - ETA: 0s - loss: 1.2226 - acc: 0.652 - ETA: 0s - loss: 1.2275 - acc: 0.652 - ETA: 0s - loss: 1.2240 - acc: 0.653 - ETA: 0s - loss: 1.2189 - acc: 0.654 - ETA: 0s - loss: 1.2239 - acc: 0.653 - ETA: 0s - loss: 1.2255 - acc: 0.653 - ETA: 0s - loss: 1.2220 - acc: 0.653 - ETA: 0s - loss: 1.2235 - acc: 0.653 - ETA: 0s - loss: 1.2220 - acc: 0.654 - ETA: 0s - loss: 1.2243 - acc: 0.653 - ETA: 0s - loss: 1.2273 - acc: 0.652 - ETA: 0s - loss: 1.2252 - acc: 0.653 - ETA: 0s - loss: 1.2285 - acc: 0.652 - ETA: 0s - loss: 1.2296 - acc: 0.653 - ETA: 0s - loss: 1.2293 - acc: 0.652 - ETA: 0s - loss: 1.2288 - acc: 0.652 - ETA: 0s - loss: 1.2304 - acc: 0.651 - ETA: 0s - loss: 1.2361 - acc: 0.650 - ETA: 0s - loss: 1.2355 - acc: 0.650 - 1s 33us/sample - loss: 1.2374 - acc: 0.6501 - val_loss: 1.7664 - val_acc: 0.5451\n",
      "Epoch 85/100\n",
      "40120/40120 [==============================] - ETA: 1s - loss: 1.2572 - acc: 0.699 - ETA: 1s - loss: 1.2094 - acc: 0.661 - ETA: 1s - loss: 1.2334 - acc: 0.655 - ETA: 0s - loss: 1.2318 - acc: 0.654 - ETA: 0s - loss: 1.2514 - acc: 0.650 - ETA: 0s - loss: 1.2480 - acc: 0.652 - ETA: 0s - loss: 1.2422 - acc: 0.654 - ETA: 0s - loss: 1.2392 - acc: 0.656 - ETA: 0s - loss: 1.2380 - acc: 0.653 - ETA: 0s - loss: 1.2353 - acc: 0.653 - ETA: 0s - loss: 1.2308 - acc: 0.653 - ETA: 0s - loss: 1.2259 - acc: 0.653 - ETA: 0s - loss: 1.2241 - acc: 0.655 - ETA: 0s - loss: 1.2276 - acc: 0.653 - ETA: 0s - loss: 1.2286 - acc: 0.653 - ETA: 0s - loss: 1.2264 - acc: 0.654 - ETA: 0s - loss: 1.2300 - acc: 0.653 - ETA: 0s - loss: 1.2301 - acc: 0.653 - ETA: 0s - loss: 1.2309 - acc: 0.652 - ETA: 0s - loss: 1.2345 - acc: 0.651 - ETA: 0s - loss: 1.2348 - acc: 0.651 - 1s 30us/sample - loss: 1.2351 - acc: 0.6517 - val_loss: 1.7767 - val_acc: 0.5518\n",
      "Epoch 86/100\n",
      "40120/40120 [==============================] - ETA: 1s - loss: 1.1780 - acc: 0.613 - ETA: 1s - loss: 1.2077 - acc: 0.650 - ETA: 0s - loss: 1.2139 - acc: 0.651 - ETA: 0s - loss: 1.2222 - acc: 0.652 - ETA: 0s - loss: 1.2271 - acc: 0.647 - ETA: 0s - loss: 1.2250 - acc: 0.649 - ETA: 0s - loss: 1.2220 - acc: 0.649 - ETA: 0s - loss: 1.2253 - acc: 0.649 - ETA: 0s - loss: 1.2275 - acc: 0.649 - ETA: 0s - loss: 1.2267 - acc: 0.650 - ETA: 0s - loss: 1.2287 - acc: 0.650 - ETA: 0s - loss: 1.2285 - acc: 0.650 - ETA: 0s - loss: 1.2302 - acc: 0.650 - ETA: 0s - loss: 1.2321 - acc: 0.650 - ETA: 0s - loss: 1.2335 - acc: 0.650 - ETA: 0s - loss: 1.2298 - acc: 0.651 - ETA: 0s - loss: 1.2313 - acc: 0.650 - ETA: 0s - loss: 1.2320 - acc: 0.650 - ETA: 0s - loss: 1.2321 - acc: 0.650 - ETA: 0s - loss: 1.2313 - acc: 0.650 - ETA: 0s - loss: 1.2319 - acc: 0.651 - 1s 29us/sample - loss: 1.2320 - acc: 0.6510 - val_loss: 1.7667 - val_acc: 0.5477\n",
      "Epoch 87/100\n",
      "40120/40120 [==============================] - ETA: 1s - loss: 1.1858 - acc: 0.640 - ETA: 0s - loss: 1.1828 - acc: 0.668 - ETA: 0s - loss: 1.1721 - acc: 0.674 - ETA: 0s - loss: 1.1828 - acc: 0.670 - ETA: 0s - loss: 1.1764 - acc: 0.668 - ETA: 0s - loss: 1.1912 - acc: 0.664 - ETA: 0s - loss: 1.2039 - acc: 0.661 - ETA: 0s - loss: 1.1996 - acc: 0.662 - ETA: 0s - loss: 1.2074 - acc: 0.659 - ETA: 0s - loss: 1.2038 - acc: 0.661 - ETA: 0s - loss: 1.2051 - acc: 0.659 - ETA: 0s - loss: 1.2108 - acc: 0.656 - ETA: 0s - loss: 1.2198 - acc: 0.655 - ETA: 0s - loss: 1.2204 - acc: 0.654 - ETA: 0s - loss: 1.2251 - acc: 0.653 - ETA: 0s - loss: 1.2249 - acc: 0.653 - ETA: 0s - loss: 1.2286 - acc: 0.653 - ETA: 0s - loss: 1.2300 - acc: 0.653 - ETA: 0s - loss: 1.2268 - acc: 0.653 - ETA: 0s - loss: 1.2281 - acc: 0.653 - 1s 28us/sample - loss: 1.2284 - acc: 0.6536 - val_loss: 1.7833 - val_acc: 0.5447\n",
      "Epoch 88/100\n",
      "40120/40120 [==============================] - ETA: 1s - loss: 1.1784 - acc: 0.640 - ETA: 0s - loss: 1.2127 - acc: 0.668 - ETA: 0s - loss: 1.2104 - acc: 0.668 - ETA: 0s - loss: 1.2129 - acc: 0.663 - ETA: 0s - loss: 1.2217 - acc: 0.661 - ETA: 0s - loss: 1.2278 - acc: 0.659 - ETA: 0s - loss: 1.2242 - acc: 0.659 - ETA: 0s - loss: 1.2198 - acc: 0.660 - ETA: 0s - loss: 1.2220 - acc: 0.659 - ETA: 0s - loss: 1.2189 - acc: 0.659 - ETA: 0s - loss: 1.2196 - acc: 0.658 - ETA: 0s - loss: 1.2188 - acc: 0.658 - ETA: 0s - loss: 1.2189 - acc: 0.657 - ETA: 0s - loss: 1.2168 - acc: 0.657 - ETA: 0s - loss: 1.2164 - acc: 0.657 - ETA: 0s - loss: 1.2179 - acc: 0.656 - ETA: 0s - loss: 1.2200 - acc: 0.656 - ETA: 0s - loss: 1.2195 - acc: 0.656 - ETA: 0s - loss: 1.2226 - acc: 0.656 - ETA: 0s - loss: 1.2246 - acc: 0.656 - 1s 28us/sample - loss: 1.2247 - acc: 0.6563 - val_loss: 1.7719 - val_acc: 0.5472\n",
      "Epoch 89/100\n",
      "40120/40120 [==============================] - ETA: 1s - loss: 1.1728 - acc: 0.625 - ETA: 1s - loss: 1.2126 - acc: 0.636 - ETA: 1s - loss: 1.2201 - acc: 0.648 - ETA: 0s - loss: 1.2232 - acc: 0.650 - ETA: 0s - loss: 1.2171 - acc: 0.653 - ETA: 0s - loss: 1.2216 - acc: 0.647 - ETA: 0s - loss: 1.2091 - acc: 0.652 - ETA: 0s - loss: 1.2123 - acc: 0.651 - ETA: 0s - loss: 1.2156 - acc: 0.652 - ETA: 0s - loss: 1.2092 - acc: 0.653 - ETA: 0s - loss: 1.2084 - acc: 0.654 - ETA: 0s - loss: 1.2124 - acc: 0.654 - ETA: 0s - loss: 1.2172 - acc: 0.653 - ETA: 0s - loss: 1.2163 - acc: 0.654 - ETA: 0s - loss: 1.2147 - acc: 0.655 - ETA: 0s - loss: 1.2124 - acc: 0.655 - ETA: 0s - loss: 1.2157 - acc: 0.655 - ETA: 0s - loss: 1.2192 - acc: 0.654 - ETA: 0s - loss: 1.2222 - acc: 0.653 - ETA: 0s - loss: 1.2228 - acc: 0.653 - 1s 29us/sample - loss: 1.2227 - acc: 0.6535 - val_loss: 1.7703 - val_acc: 0.5481\n",
      "Epoch 90/100\n",
      "40120/40120 [==============================] - ETA: 1s - loss: 1.1717 - acc: 0.636 - ETA: 1s - loss: 1.2201 - acc: 0.645 - ETA: 1s - loss: 1.2243 - acc: 0.648 - ETA: 0s - loss: 1.2214 - acc: 0.649 - ETA: 0s - loss: 1.2268 - acc: 0.647 - ETA: 0s - loss: 1.2203 - acc: 0.651 - ETA: 0s - loss: 1.2085 - acc: 0.653 - ETA: 0s - loss: 1.2117 - acc: 0.653 - ETA: 0s - loss: 1.2135 - acc: 0.653 - ETA: 0s - loss: 1.2156 - acc: 0.653 - ETA: 0s - loss: 1.2094 - acc: 0.655 - ETA: 0s - loss: 1.2084 - acc: 0.654 - ETA: 0s - loss: 1.2137 - acc: 0.654 - ETA: 0s - loss: 1.2150 - acc: 0.654 - ETA: 0s - loss: 1.2156 - acc: 0.654 - ETA: 0s - loss: 1.2168 - acc: 0.653 - ETA: 0s - loss: 1.2178 - acc: 0.652 - ETA: 0s - loss: 1.2180 - acc: 0.653 - ETA: 0s - loss: 1.2193 - acc: 0.653 - ETA: 0s - loss: 1.2177 - acc: 0.653 - ETA: 0s - loss: 1.2186 - acc: 0.654 - 1s 30us/sample - loss: 1.2190 - acc: 0.6541 - val_loss: 1.7813 - val_acc: 0.5428\n",
      "Epoch 91/100\n",
      "40120/40120 [==============================] - ETA: 1s - loss: 1.2198 - acc: 0.675 - ETA: 0s - loss: 1.1869 - acc: 0.675 - ETA: 0s - loss: 1.1904 - acc: 0.667 - ETA: 0s - loss: 1.1965 - acc: 0.665 - ETA: 0s - loss: 1.1986 - acc: 0.664 - ETA: 0s - loss: 1.2046 - acc: 0.658 - ETA: 0s - loss: 1.2063 - acc: 0.657 - ETA: 0s - loss: 1.1997 - acc: 0.658 - ETA: 0s - loss: 1.1991 - acc: 0.657 - ETA: 0s - loss: 1.2041 - acc: 0.655 - ETA: 0s - loss: 1.2060 - acc: 0.655 - ETA: 0s - loss: 1.2116 - acc: 0.655 - ETA: 0s - loss: 1.2101 - acc: 0.656 - ETA: 0s - loss: 1.2128 - acc: 0.656 - ETA: 0s - loss: 1.2141 - acc: 0.656 - ETA: 0s - loss: 1.2116 - acc: 0.657 - ETA: 0s - loss: 1.2121 - acc: 0.657 - ETA: 0s - loss: 1.2150 - acc: 0.656 - ETA: 0s - loss: 1.2163 - acc: 0.656 - ETA: 0s - loss: 1.2163 - acc: 0.656 - 1s 29us/sample - loss: 1.2157 - acc: 0.6567 - val_loss: 1.7801 - val_acc: 0.5475\n",
      "Epoch 92/100\n"
     ]
    },
    {
     "name": "stdout",
     "output_type": "stream",
     "text": [
      "40120/40120 [==============================] - ETA: 1s - loss: 1.2448 - acc: 0.656 - ETA: 0s - loss: 1.2064 - acc: 0.661 - ETA: 0s - loss: 1.1953 - acc: 0.662 - ETA: 0s - loss: 1.2114 - acc: 0.658 - ETA: 0s - loss: 1.2017 - acc: 0.662 - ETA: 0s - loss: 1.2043 - acc: 0.659 - ETA: 0s - loss: 1.2077 - acc: 0.657 - ETA: 0s - loss: 1.2105 - acc: 0.657 - ETA: 0s - loss: 1.2152 - acc: 0.656 - ETA: 0s - loss: 1.2141 - acc: 0.657 - ETA: 0s - loss: 1.2105 - acc: 0.659 - ETA: 0s - loss: 1.2103 - acc: 0.658 - ETA: 0s - loss: 1.2106 - acc: 0.658 - ETA: 0s - loss: 1.2112 - acc: 0.657 - ETA: 0s - loss: 1.2145 - acc: 0.657 - ETA: 0s - loss: 1.2146 - acc: 0.657 - ETA: 0s - loss: 1.2172 - acc: 0.655 - ETA: 0s - loss: 1.2166 - acc: 0.655 - ETA: 0s - loss: 1.2160 - acc: 0.656 - ETA: 0s - loss: 1.2143 - acc: 0.656 - ETA: 0s - loss: 1.2104 - acc: 0.657 - ETA: 0s - loss: 1.2122 - acc: 0.657 - 1s 32us/sample - loss: 1.2119 - acc: 0.6575 - val_loss: 1.7766 - val_acc: 0.5454\n",
      "Epoch 93/100\n",
      "40120/40120 [==============================] - ETA: 1s - loss: 1.3316 - acc: 0.625 - ETA: 1s - loss: 1.2044 - acc: 0.650 - ETA: 0s - loss: 1.1917 - acc: 0.665 - ETA: 0s - loss: 1.2098 - acc: 0.664 - ETA: 0s - loss: 1.2033 - acc: 0.661 - ETA: 0s - loss: 1.1996 - acc: 0.661 - ETA: 0s - loss: 1.2021 - acc: 0.660 - ETA: 0s - loss: 1.2011 - acc: 0.660 - ETA: 0s - loss: 1.2009 - acc: 0.660 - ETA: 0s - loss: 1.2030 - acc: 0.659 - ETA: 0s - loss: 1.2023 - acc: 0.659 - ETA: 0s - loss: 1.2049 - acc: 0.658 - ETA: 0s - loss: 1.2089 - acc: 0.657 - ETA: 0s - loss: 1.2114 - acc: 0.657 - ETA: 0s - loss: 1.2118 - acc: 0.657 - ETA: 0s - loss: 1.2154 - acc: 0.655 - ETA: 0s - loss: 1.2132 - acc: 0.656 - ETA: 0s - loss: 1.2139 - acc: 0.656 - ETA: 0s - loss: 1.2100 - acc: 0.657 - ETA: 0s - loss: 1.2105 - acc: 0.657 - 1s 29us/sample - loss: 1.2090 - acc: 0.6574 - val_loss: 1.7832 - val_acc: 0.5445\n",
      "Epoch 94/100\n",
      "40120/40120 [==============================] - ETA: 1s - loss: 1.0790 - acc: 0.699 - ETA: 1s - loss: 1.2222 - acc: 0.646 - ETA: 1s - loss: 1.2109 - acc: 0.654 - ETA: 0s - loss: 1.2123 - acc: 0.653 - ETA: 0s - loss: 1.2143 - acc: 0.654 - ETA: 0s - loss: 1.2130 - acc: 0.655 - ETA: 0s - loss: 1.2097 - acc: 0.655 - ETA: 0s - loss: 1.2016 - acc: 0.658 - ETA: 0s - loss: 1.2089 - acc: 0.658 - ETA: 0s - loss: 1.2119 - acc: 0.659 - ETA: 0s - loss: 1.2082 - acc: 0.659 - ETA: 0s - loss: 1.2102 - acc: 0.660 - ETA: 0s - loss: 1.2100 - acc: 0.659 - ETA: 0s - loss: 1.2143 - acc: 0.657 - ETA: 0s - loss: 1.2156 - acc: 0.657 - ETA: 0s - loss: 1.2140 - acc: 0.658 - ETA: 0s - loss: 1.2087 - acc: 0.659 - ETA: 0s - loss: 1.2075 - acc: 0.659 - ETA: 0s - loss: 1.2059 - acc: 0.660 - ETA: 0s - loss: 1.2048 - acc: 0.660 - 1s 29us/sample - loss: 1.2067 - acc: 0.6594 - val_loss: 1.7815 - val_acc: 0.5447\n",
      "Epoch 95/100\n",
      "40120/40120 [==============================] - ETA: 1s - loss: 1.0911 - acc: 0.683 - ETA: 0s - loss: 1.2248 - acc: 0.670 - ETA: 0s - loss: 1.2064 - acc: 0.664 - ETA: 0s - loss: 1.2055 - acc: 0.664 - ETA: 0s - loss: 1.1941 - acc: 0.667 - ETA: 0s - loss: 1.2024 - acc: 0.662 - ETA: 0s - loss: 1.1978 - acc: 0.663 - ETA: 0s - loss: 1.1984 - acc: 0.661 - ETA: 0s - loss: 1.1971 - acc: 0.660 - ETA: 0s - loss: 1.1989 - acc: 0.661 - ETA: 0s - loss: 1.2048 - acc: 0.659 - ETA: 0s - loss: 1.2021 - acc: 0.660 - ETA: 0s - loss: 1.2032 - acc: 0.660 - ETA: 0s - loss: 1.2027 - acc: 0.661 - ETA: 0s - loss: 1.2045 - acc: 0.660 - ETA: 0s - loss: 1.2052 - acc: 0.660 - ETA: 0s - loss: 1.2044 - acc: 0.660 - ETA: 0s - loss: 1.2023 - acc: 0.659 - ETA: 0s - loss: 1.2023 - acc: 0.659 - ETA: 0s - loss: 1.2040 - acc: 0.659 - 1s 28us/sample - loss: 1.2037 - acc: 0.6589 - val_loss: 1.7752 - val_acc: 0.5455\n",
      "Epoch 96/100\n",
      "40120/40120 [==============================] - ETA: 1s - loss: 1.2992 - acc: 0.640 - ETA: 0s - loss: 1.1798 - acc: 0.654 - ETA: 0s - loss: 1.1726 - acc: 0.662 - ETA: 0s - loss: 1.1697 - acc: 0.665 - ETA: 0s - loss: 1.1659 - acc: 0.661 - ETA: 0s - loss: 1.1682 - acc: 0.661 - ETA: 0s - loss: 1.1783 - acc: 0.660 - ETA: 0s - loss: 1.1743 - acc: 0.662 - ETA: 0s - loss: 1.1747 - acc: 0.664 - ETA: 0s - loss: 1.1728 - acc: 0.664 - ETA: 0s - loss: 1.1802 - acc: 0.661 - ETA: 0s - loss: 1.1858 - acc: 0.659 - ETA: 0s - loss: 1.1873 - acc: 0.659 - ETA: 0s - loss: 1.1882 - acc: 0.658 - ETA: 0s - loss: 1.1898 - acc: 0.659 - ETA: 0s - loss: 1.1932 - acc: 0.658 - ETA: 0s - loss: 1.1930 - acc: 0.659 - ETA: 0s - loss: 1.1972 - acc: 0.658 - ETA: 0s - loss: 1.1991 - acc: 0.658 - ETA: 0s - loss: 1.1981 - acc: 0.658 - 1s 28us/sample - loss: 1.1991 - acc: 0.6582 - val_loss: 1.7850 - val_acc: 0.5484\n",
      "Epoch 97/100\n",
      "40120/40120 [==============================] - ETA: 1s - loss: 1.3080 - acc: 0.648 - ETA: 0s - loss: 1.2216 - acc: 0.660 - ETA: 0s - loss: 1.2096 - acc: 0.663 - ETA: 0s - loss: 1.2006 - acc: 0.661 - ETA: 0s - loss: 1.2020 - acc: 0.662 - ETA: 0s - loss: 1.1960 - acc: 0.663 - ETA: 0s - loss: 1.1991 - acc: 0.661 - ETA: 0s - loss: 1.1985 - acc: 0.661 - ETA: 0s - loss: 1.1966 - acc: 0.663 - ETA: 0s - loss: 1.1964 - acc: 0.663 - ETA: 0s - loss: 1.1985 - acc: 0.663 - ETA: 0s - loss: 1.1989 - acc: 0.663 - ETA: 0s - loss: 1.1983 - acc: 0.663 - ETA: 0s - loss: 1.1984 - acc: 0.662 - ETA: 0s - loss: 1.1989 - acc: 0.661 - ETA: 0s - loss: 1.1975 - acc: 0.660 - ETA: 0s - loss: 1.1990 - acc: 0.660 - ETA: 0s - loss: 1.1980 - acc: 0.659 - ETA: 0s - loss: 1.1972 - acc: 0.659 - 1s 28us/sample - loss: 1.1974 - acc: 0.6596 - val_loss: 1.7849 - val_acc: 0.5447\n",
      "Epoch 98/100\n",
      "40120/40120 [==============================] - ETA: 1s - loss: 1.0896 - acc: 0.683 - ETA: 1s - loss: 1.2033 - acc: 0.653 - ETA: 0s - loss: 1.1820 - acc: 0.663 - ETA: 0s - loss: 1.1692 - acc: 0.667 - ETA: 0s - loss: 1.1645 - acc: 0.667 - ETA: 0s - loss: 1.1758 - acc: 0.664 - ETA: 0s - loss: 1.1728 - acc: 0.665 - ETA: 0s - loss: 1.1688 - acc: 0.666 - ETA: 0s - loss: 1.1735 - acc: 0.664 - ETA: 0s - loss: 1.1764 - acc: 0.663 - ETA: 0s - loss: 1.1748 - acc: 0.663 - ETA: 0s - loss: 1.1720 - acc: 0.664 - ETA: 0s - loss: 1.1786 - acc: 0.663 - ETA: 0s - loss: 1.1857 - acc: 0.662 - ETA: 0s - loss: 1.1866 - acc: 0.662 - ETA: 0s - loss: 1.1885 - acc: 0.661 - ETA: 0s - loss: 1.1903 - acc: 0.660 - ETA: 0s - loss: 1.1906 - acc: 0.660 - ETA: 0s - loss: 1.1922 - acc: 0.659 - ETA: 0s - loss: 1.1933 - acc: 0.659 - 1s 29us/sample - loss: 1.1949 - acc: 0.6592 - val_loss: 1.7999 - val_acc: 0.5452\n",
      "Epoch 99/100\n",
      "40120/40120 [==============================] - ETA: 1s - loss: 1.1917 - acc: 0.675 - ETA: 0s - loss: 1.1329 - acc: 0.668 - ETA: 0s - loss: 1.1875 - acc: 0.663 - ETA: 0s - loss: 1.1825 - acc: 0.664 - ETA: 0s - loss: 1.1700 - acc: 0.666 - ETA: 0s - loss: 1.1739 - acc: 0.665 - ETA: 0s - loss: 1.1737 - acc: 0.663 - ETA: 0s - loss: 1.1789 - acc: 0.662 - ETA: 0s - loss: 1.1798 - acc: 0.662 - ETA: 0s - loss: 1.1785 - acc: 0.664 - ETA: 0s - loss: 1.1818 - acc: 0.663 - ETA: 0s - loss: 1.1861 - acc: 0.661 - ETA: 0s - loss: 1.1851 - acc: 0.660 - ETA: 0s - loss: 1.1887 - acc: 0.659 - ETA: 0s - loss: 1.1875 - acc: 0.660 - ETA: 0s - loss: 1.1879 - acc: 0.660 - ETA: 0s - loss: 1.1873 - acc: 0.661 - ETA: 0s - loss: 1.1891 - acc: 0.661 - ETA: 0s - loss: 1.1883 - acc: 0.662 - ETA: 0s - loss: 1.1887 - acc: 0.662 - 1s 29us/sample - loss: 1.1914 - acc: 0.6618 - val_loss: 1.7846 - val_acc: 0.5450\n",
      "Epoch 100/100\n",
      "40120/40120 [==============================] - ETA: 1s - loss: 1.1030 - acc: 0.687 - ETA: 0s - loss: 1.2073 - acc: 0.652 - ETA: 0s - loss: 1.2103 - acc: 0.657 - ETA: 0s - loss: 1.1969 - acc: 0.658 - ETA: 0s - loss: 1.1857 - acc: 0.662 - ETA: 0s - loss: 1.1883 - acc: 0.664 - ETA: 0s - loss: 1.1748 - acc: 0.670 - ETA: 0s - loss: 1.1715 - acc: 0.669 - ETA: 0s - loss: 1.1751 - acc: 0.667 - ETA: 0s - loss: 1.1715 - acc: 0.667 - ETA: 0s - loss: 1.1841 - acc: 0.664 - ETA: 0s - loss: 1.1821 - acc: 0.665 - ETA: 0s - loss: 1.1824 - acc: 0.664 - ETA: 0s - loss: 1.1803 - acc: 0.663 - ETA: 0s - loss: 1.1805 - acc: 0.665 - ETA: 0s - loss: 1.1802 - acc: 0.665 - ETA: 0s - loss: 1.1793 - acc: 0.666 - ETA: 0s - loss: 1.1793 - acc: 0.665 - ETA: 0s - loss: 1.1831 - acc: 0.664 - ETA: 0s - loss: 1.1867 - acc: 0.662 - 1s 29us/sample - loss: 1.1868 - acc: 0.6630 - val_loss: 1.7871 - val_acc: 0.5477\n"
     ]
    }
   ],
   "source": [
    "history = model.fit(\n",
    "            partial_x_train,\n",
    "            partial_y_train,\n",
    "            epochs=100,\n",
    "            batch_size=256,\n",
    "            validation_data=(x_val, y_val)\n",
    "          )"
   ]
  },
  {
   "cell_type": "code",
   "execution_count": 24,
   "metadata": {},
   "outputs": [
    {
     "data": {
      "image/png": "[encoded data removed]",
      "text/plain": [
       "<Figure size 432x288 with 1 Axes>"
      ]
     },
     "metadata": {
      "needs_background": "light"
     },
     "output_type": "display_data"
    }
   ],
   "source": [
    "%matplotlib inline\n",
    "import matplotlib.pyplot as plt\n",
    "loss = history.history['loss']\n",
    "val_loss = history.history['val_loss']\n",
    "epochs = range(1, len(loss) + 1)\n",
    "plt.plot(epochs, loss, 'bo', label='Training loss')\n",
    "plt.plot(epochs, val_loss, 'b', label='Validation loss')\n",
    "plt.title('Training and validation loss')\n",
    "plt.xlabel('Epochs')\n",
    "plt.ylabel('Loss')\n",
    "plt.legend()\n",
    "plt.show()"
   ]
  },
  {
   "cell_type": "code",
   "execution_count": 25,
   "metadata": {
    "scrolled": true
   },
   "outputs": [
    {
     "data": {
      "image/png": "[encoded data removed]",
      "text/plain": [
       "<Figure size 432x288 with 1 Axes>"
      ]
     },
     "metadata": {
      "needs_background": "light"
     },
     "output_type": "display_data"
    }
   ],
   "source": [
    "plt.clf()\n",
    "acc = history.history['acc']\n",
    "val_acc = history.history['val_acc']\n",
    "plt.plot(epochs, acc, 'bo', label='Training acc')\n",
    "plt.plot(epochs, val_acc, 'b', label='Validation acc')\n",
    "plt.title('Training and validation accuracy')\n",
    "plt.xlabel('Epochs')\n",
    "plt.ylabel('Accuracy')\n",
    "plt.legend()\n",
    "plt.show()"
   ]
  },
  {
   "cell_type": "code",
   "execution_count": 26,
   "metadata": {},
   "outputs": [
    {
     "name": "stdout",
     "output_type": "stream",
     "text": [
      "16147/16147 [==============================] - ETA: 1s - loss: 3.9950 - acc: 0.312 - ETA: 0s - loss: 2.2086 - acc: 0.477 - ETA: 0s - loss: 1.8660 - acc: 0.528 - ETA: 0s - loss: 1.4445 - acc: 0.631 - ETA: 0s - loss: 1.3646 - acc: 0.623 - ETA: 0s - loss: 1.4500 - acc: 0.606 - ETA: 0s - loss: 1.5692 - acc: 0.586 - ETA: 0s - loss: 1.5633 - acc: 0.588 - ETA: 0s - loss: 1.6827 - acc: 0.567 - ETA: 0s - loss: 1.7436 - acc: 0.558 - ETA: 0s - loss: 1.7765 - acc: 0.551 - ETA: 0s - loss: 1.7511 - acc: 0.555 - 1s 36us/sample - loss: 1.7717 - acc: 0.5516\n"
     ]
    },
    {
     "data": {
      "text/plain": [
       "[1.7717103467324558, 0.55161947]"
      ]
     },
     "execution_count": 26,
     "metadata": {},
     "output_type": "execute_result"
    }
   ],
   "source": [
    "results = model.evaluate(x_test, one_hot_test_labels)\n",
    "results"
   ]
  },
  {
   "cell_type": "code",
   "execution_count": 36,
   "metadata": {},
   "outputs": [
    {
     "name": "stdout",
     "output_type": "stream",
     "text": [
      "(16147, 188)\n",
      "(16147,)\n",
      "[114 125   0  89   0]\n"
     ]
    }
   ],
   "source": [
    "y_pred_one_hot = model.predict(x_test)\n",
    "print(y_pred_one_hot.shape)\n",
    "y_pred = np.argmax(y_pred_one_hot, axis=1)\n",
    "print(y_pred.shape)\n",
    "print(y_pred[:5])"
   ]
  },
  {
   "cell_type": "code",
   "execution_count": 37,
   "metadata": {},
   "outputs": [
    {
     "name": "stdout",
     "output_type": "stream",
     "text": [
      "              precision    recall  f1-score   support\n",
      "\n",
      "           0       0.24      0.28      0.26        78\n",
      "           1       0.38      0.39      0.38       182\n",
      "           2       0.21      0.10      0.13        73\n",
      "           3       0.58      0.74      0.65        19\n",
      "           4       0.58      0.32      0.41        22\n",
      "           5       0.57      0.48      0.52        25\n",
      "           6       0.45      0.33      0.38        15\n",
      "           7       0.60      0.73      0.66       161\n",
      "           8       0.57      0.52      0.54        33\n",
      "           9       0.44      0.17      0.24        24\n",
      "          10       0.25      0.09      0.13        22\n",
      "          11       0.44      0.67      0.53        82\n",
      "          12       0.31      0.22      0.26        23\n",
      "          13       0.57      0.88      0.69        34\n",
      "          14       0.35      0.29      0.32        55\n",
      "          15       0.27      0.19      0.22        16\n",
      "          16       0.66      0.50      0.57       109\n",
      "          17       0.65      0.75      0.70       118\n",
      "          18       0.36      0.41      0.39        76\n",
      "          19       0.47      0.64      0.54        36\n",
      "          20       0.44      0.53      0.48        53\n",
      "          21       0.27      0.22      0.24        74\n",
      "          22       0.44      0.51      0.47        88\n",
      "          23       0.42      0.54      0.47        48\n",
      "          24       0.53      0.58      0.55        93\n",
      "          25       0.72      0.73      0.73       130\n",
      "          26       0.51      0.39      0.44        51\n",
      "          27       0.44      0.46      0.45        24\n",
      "          28       0.52      0.44      0.48       336\n",
      "          29       0.63      0.64      0.63       201\n",
      "          30       0.56      0.51      0.53        67\n",
      "          31       0.31      0.27      0.29        30\n",
      "          32       0.44      0.19      0.26        43\n",
      "          33       0.25      0.07      0.11        14\n",
      "          34       0.78      0.85      0.81      1694\n",
      "          35       0.07      0.05      0.06        19\n",
      "          36       0.45      0.35      0.39        60\n",
      "          37       0.16      0.22      0.18        36\n",
      "          38       0.53      0.59      0.56       256\n",
      "          39       0.69      0.75      0.72       795\n",
      "          40       0.12      0.10      0.11        21\n",
      "          41       0.35      0.26      0.29       141\n",
      "          42       0.55      0.36      0.44       318\n",
      "          43       0.27      0.22      0.24        18\n",
      "          44       0.63      0.76      0.69       218\n",
      "          45       0.26      0.33      0.29        43\n",
      "          46       0.13      0.11      0.12        18\n",
      "          47       0.47      0.50      0.48        30\n",
      "          48       0.55      0.30      0.39        20\n",
      "          49       0.58      0.38      0.46        29\n",
      "          50       0.45      0.51      0.48       117\n",
      "          51       0.07      0.01      0.02        70\n",
      "          52       0.62      0.51      0.56        51\n",
      "          53       0.64      0.66      0.65        35\n",
      "          54       0.64      0.56      0.60        25\n",
      "          55       0.75      0.91      0.82        44\n",
      "          56       0.19      0.10      0.13        31\n",
      "          57       0.69      0.65      0.67        17\n",
      "          58       0.80      0.79      0.80        67\n",
      "          59       0.17      0.05      0.08        20\n",
      "          60       0.72      0.79      0.76        53\n",
      "          61       0.45      0.38      0.41        81\n",
      "          62       0.50      0.63      0.56        19\n",
      "          63       0.55      0.32      0.40        19\n",
      "          64       0.68      0.61      0.64        31\n",
      "          65       0.44      0.63      0.52        92\n",
      "          66       0.93      0.85      0.89        65\n",
      "          67       0.59      0.58      0.58        71\n",
      "          68       0.67      0.67      0.67       309\n",
      "          69       0.31      0.11      0.17        35\n",
      "          70       0.58      0.50      0.54        14\n",
      "          71       0.67      0.51      0.58        35\n",
      "          72       0.54      0.64      0.58       288\n",
      "          73       0.60      0.47      0.53       173\n",
      "          74       0.67      0.65      0.66        37\n",
      "          75       0.47      0.45      0.46        55\n",
      "          76       0.57      0.64      0.60        99\n",
      "          77       0.48      0.39      0.43        28\n",
      "          78       0.48      0.35      0.41        40\n",
      "          79       0.35      0.29      0.32        38\n",
      "          80       0.21      0.14      0.17        22\n",
      "          81       0.50      0.33      0.40        18\n",
      "          82       0.33      0.21      0.26        14\n",
      "          83       0.40      0.25      0.31        16\n",
      "          84       0.23      0.17      0.20        47\n",
      "          85       0.33      0.20      0.25        15\n",
      "          86       0.72      0.62      0.67        21\n",
      "          87       0.46      0.23      0.31        47\n",
      "          88       0.25      0.09      0.13        22\n",
      "          89       0.43      0.47      0.45        19\n",
      "          90       0.39      0.27      0.32        41\n",
      "          91       0.25      0.13      0.17        15\n",
      "          92       0.25      0.05      0.08        21\n",
      "          93       0.71      0.57      0.63        30\n",
      "          94       0.36      0.59      0.45       193\n",
      "          95       0.28      0.37      0.32        46\n",
      "          96       0.67      0.53      0.59        19\n",
      "          97       0.22      0.12      0.16        16\n",
      "          98       0.19      0.25      0.22        51\n",
      "          99       0.32      0.48      0.38        92\n",
      "         100       0.08      0.13      0.10        15\n",
      "         101       0.46      0.58      0.51        60\n",
      "         102       0.18      0.17      0.17        24\n",
      "         103       0.32      0.31      0.32        58\n",
      "         104       0.57      0.75      0.65       580\n",
      "         105       0.68      0.65      0.66        83\n",
      "         106       0.53      0.47      0.50        19\n",
      "         107       0.20      0.09      0.12        23\n",
      "         108       0.14      0.04      0.07        23\n",
      "         109       0.53      0.61      0.57       166\n",
      "         110       0.67      0.45      0.54        22\n",
      "         111       0.50      0.32      0.39        31\n",
      "         112       0.21      0.15      0.17        27\n",
      "         113       0.18      0.13      0.15        23\n",
      "         114       0.49      0.64      0.56       301\n",
      "         115       0.10      0.04      0.06        23\n",
      "         116       0.38      0.21      0.27        14\n",
      "         117       0.82      0.67      0.74        42\n",
      "         118       0.12      0.03      0.05        30\n",
      "         119       0.37      0.41      0.39       134\n",
      "         120       0.50      0.40      0.44        20\n",
      "         121       0.19      0.17      0.18        36\n",
      "         122       0.33      0.19      0.24        37\n",
      "         123       0.37      0.29      0.33        34\n",
      "         124       0.27      0.23      0.25        35\n",
      "         125       0.42      0.47      0.44        68\n",
      "         126       0.29      0.25      0.27        16\n",
      "         127       0.25      0.10      0.14        31\n",
      "         128       0.33      0.28      0.30        18\n",
      "         129       0.42      0.42      0.42        36\n",
      "         130       0.55      0.55      0.55        22\n",
      "         131       0.00      0.00      0.00        29\n",
      "         132       0.08      0.03      0.04        37\n",
      "         133       0.58      0.40      0.48        47\n",
      "         134       0.54      0.50      0.52        26\n",
      "         135       0.59      0.69      0.64       212\n",
      "         136       0.63      0.67      0.65        36\n",
      "         137       0.59      0.61      0.60       504\n",
      "         138       0.80      0.42      0.55        19\n",
      "         139       0.27      0.26      0.27       268\n",
      "         140       0.62      0.64      0.63        36\n",
      "         141       0.41      0.51      0.45        53\n",
      "         142       0.11      0.02      0.04        42\n",
      "         143       0.00      0.00      0.00        17\n",
      "         144       0.27      0.25      0.26        48\n",
      "         145       0.33      0.27      0.30        15\n",
      "         146       0.71      0.62      0.67        40\n",
      "         147       0.00      0.00      0.00        22\n",
      "         148       0.13      0.07      0.09        28\n",
      "         149       0.68      0.62      0.65        52\n",
      "         150       0.54      0.60      0.57       181\n",
      "         151       0.30      0.20      0.24        35\n",
      "         152       0.52      0.69      0.60       316\n",
      "         153       0.62      0.54      0.58        46\n",
      "         154       0.47      0.41      0.44        70\n",
      "         155       0.55      0.40      0.46        30\n",
      "         156       0.35      0.31      0.33        65\n",
      "         157       0.75      0.17      0.27        18\n",
      "         158       0.57      0.27      0.37        44\n",
      "         159       0.32      0.18      0.23        34\n",
      "         160       0.42      0.24      0.30        42\n",
      "         161       0.60      0.65      0.62        71\n",
      "         162       0.84      0.69      0.76       123\n",
      "         163       0.42      0.18      0.25       132\n",
      "         164       0.39      0.28      0.33        39\n",
      "         165       0.58      0.76      0.66        25\n",
      "         166       0.43      0.51      0.47        39\n",
      "         167       0.55      0.60      0.57        20\n",
      "         168       0.59      0.60      0.59       115\n",
      "         169       0.33      0.26      0.29        19\n",
      "         170       0.46      0.32      0.37        19\n",
      "         171       0.33      0.12      0.18        16\n",
      "         172       0.56      0.43      0.49       123\n",
      "         173       0.26      0.27      0.27       121\n",
      "         174       0.43      0.17      0.24        18\n",
      "         175       0.58      0.50      0.54       332\n",
      "         176       0.63      0.47      0.53        58\n",
      "         177       0.36      0.19      0.25        26\n",
      "         178       0.31      0.33      0.32        54\n",
      "         179       0.37      0.23      0.29        30\n",
      "         180       0.63      0.75      0.69       926\n",
      "         181       0.42      0.29      0.35        48\n",
      "         182       0.50      0.24      0.32        21\n",
      "         183       0.50      0.33      0.40        18\n",
      "         184       0.38      0.26      0.31        66\n",
      "         185       0.48      0.40      0.43       161\n",
      "         186       0.35      0.14      0.20        49\n",
      "         187       0.33      0.30      0.32        20\n",
      "\n",
      "   micro avg       0.55      0.55      0.55     16147\n",
      "   macro avg       0.44      0.39      0.40     16147\n",
      "weighted avg       0.54      0.55      0.54     16147\n"
     ]
    },
    {
     "name": "stdout",
     "output_type": "stream",
     "text": [
      "\n"
     ]
    }
   ],
   "source": [
    "from sklearn.metrics import classification_report\n",
    "\n",
    "print(classification_report(y_test_idx, y_pred))"
   ]
  },
  {
   "cell_type": "code",
   "execution_count": null,
   "metadata": {},
   "outputs": [],
   "source": []
  }
 ],
 "metadata": {
  "kernelspec": {
   "display_name": "nlp",
   "language": "python",
   "name": "nlp"
  },
  "language_info": {
   "codemirror_mode": {
    "name": "ipython",
    "version": 3
   },
   "file_extension": ".py",
   "mimetype": "text/x-python",
   "name": "python",
   "nbconvert_exporter": "python",
   "pygments_lexer": "ipython3",
   "version": "3.6.8"
  }
 },
 "nbformat": 4,
 "nbformat_minor": 2
}

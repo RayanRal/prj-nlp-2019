{
 "cells": [
  {
   "cell_type": "code",
   "execution_count": 1,
   "metadata": {},
   "outputs": [],
   "source": [
    "from utils_1551 import Corpus, load_train_and_test, text2tokens\n",
    "\n",
    "from bpemb import BPEmb\n",
    "from uk_stopwords import STOP_WORDS\n",
    "from typing import List, Dict\n",
    "import numpy as np\n",
    "import random"
   ]
  },
  {
   "cell_type": "code",
   "execution_count": 2,
   "metadata": {},
   "outputs": [],
   "source": [
    "train, test = load_train_and_test()"
   ]
  },
  {
   "cell_type": "code",
   "execution_count": 3,
   "metadata": {},
   "outputs": [],
   "source": [
    "dim = 300\n",
    "bpemb_ua = BPEmb(lang=\"uk\", dim=dim)"
   ]
  },
  {
   "cell_type": "code",
   "execution_count": 4,
   "metadata": {},
   "outputs": [
    {
     "name": "stdout",
     "output_type": "stream",
     "text": [
      "(3, 300)\n",
      "['▁що', 'сь', '▁там']\n"
     ]
    }
   ],
   "source": [
    "print(bpemb_ua.embed('щось там').shape)\n",
    "print(bpemb_ua.encode('щось там'))"
   ]
  },
  {
   "cell_type": "code",
   "execution_count": 5,
   "metadata": {},
   "outputs": [
    {
     "name": "stdout",
     "output_type": "stream",
     "text": [
      "['Ваша', 'відповідь', 'Повідомляємо', 'що', 'відповідно', 'до', 'п', '5', '7', 'Державного', 'стандарту', 'України', '4123', '2006', 'Пристрій', 'примусового', 'зниження', 'швидкості', 'дорожньо', 'транспортної', 'техніки', 'на', 'вулицях', 'і', 'дорогах', 'Загальні', 'технічні', 'вимоги', 'заборонено', 'встановлювати', 'пристрої', 'примусового', 'зниження', 'швидкості', 'руху', 'транспортних', 'засобів', 'на', 'магістральних', 'вулицях', 'а', 'просп', 'Григоренка', 'має', 'категорію', 'магістральної', 'вулиці', 'районного', 'значення']\n"
     ]
    }
   ],
   "source": [
    "s = \"Ваша відповідь:  Повідомляємо, що відповідно до п. 5.7 Державного стандарту України 4123-2006 «Пристрій примусового зниження швидкості дорожньо-транспортної техніки на вулицях і дорогах. Загальні технічні вимоги» заборонено встановлювати пристрої примусового зниження швидкості руху транспортних засобів на магістральних вулицях, а просп. Григоренка має категорію магістральної вулиці районного значення.\"\n",
    "print(text2tokens(s))"
   ]
  },
  {
   "cell_type": "code",
   "execution_count": 6,
   "metadata": {},
   "outputs": [
    {
     "name": "stdout",
     "output_type": "stream",
     "text": [
      "(300,)\n"
     ]
    }
   ],
   "source": [
    "def text2vec(text: str):\n",
    "    res = np.zeros(dim)\n",
    "    words = text2tokens(text.lower())\n",
    "    for w in words:\n",
    "        if w in STOP_WORDS:\n",
    "            continue\n",
    "        for v in bpemb_ua.embed(w):\n",
    "            res += v\n",
    "    res /= max(np.linalg.norm(res), 1e-6)\n",
    "    return res\n",
    "\n",
    "print(text2vec(s).shape)"
   ]
  },
  {
   "cell_type": "code",
   "execution_count": 7,
   "metadata": {},
   "outputs": [],
   "source": [
    "def corpus2xy(corpus: Corpus)->(np.array, np.array):\n",
    "    x, y = [], []\n",
    "    for name, messages in corpus.items():\n",
    "        for id_, text in messages:\n",
    "            vec = text2vec(text)\n",
    "            x.append(vec)\n",
    "            y.append(name)\n",
    "    return np.array(x), np.array(y)\n",
    "\n",
    "def extract_labels(corpus: Corpus)->Dict[str, int]:\n",
    "    res = {name:i for i, name in enumerate(corpus.keys())}\n",
    "    return res\n",
    "\n",
    "labels_dict = extract_labels(train)\n",
    "def labels_to_ind(y: np.array)->np.array:\n",
    "    return np.array([labels_dict[name] for name in y])\n",
    "\n",
    "def shuffle_xy(x: np.array, y:np.array)->(np.array, np.array):\n",
    "    assert len(x) == len(y)\n",
    "    p = np.random.permutation(len(x))\n",
    "    return x[p], y[p]"
   ]
  },
  {
   "cell_type": "code",
   "execution_count": 8,
   "metadata": {},
   "outputs": [
    {
     "name": "stdout",
     "output_type": "stream",
     "text": [
      "['Інші-Подяки' 'Інші-Подяки' 'Інші-Подяки']\n"
     ]
    }
   ],
   "source": [
    "x_train, y_train = corpus2xy(train)\n",
    "\n",
    "#print(x_train[:3])\n",
    "print(y_train[:3])"
   ]
  },
  {
   "cell_type": "code",
   "execution_count": 9,
   "metadata": {},
   "outputs": [
    {
     "name": "stdout",
     "output_type": "stream",
     "text": [
      "['Про-розгляд-звернень-громадян' 'Незадовільний-стан-опори-для-освітлення'\n",
      " 'Обслуговування-та-технічний-стан-каналізаційних-колодязів']\n"
     ]
    }
   ],
   "source": [
    "x_train, y_train = shuffle_xy(x_train, y_train)\n",
    "#print(x_train[:3])\n",
    "print(y_train[:3])"
   ]
  },
  {
   "cell_type": "code",
   "execution_count": 10,
   "metadata": {},
   "outputs": [],
   "source": [
    "y_train_idx = labels_to_ind(y_train)"
   ]
  },
  {
   "cell_type": "code",
   "execution_count": 11,
   "metadata": {},
   "outputs": [
    {
     "name": "stdout",
     "output_type": "stream",
     "text": [
      "(48120, 300) float64\n",
      "(48120,) int32\n"
     ]
    }
   ],
   "source": [
    "print(x_train.shape, x_train.dtype)\n",
    "print(y_train_idx.shape, y_train_idx.dtype)"
   ]
  },
  {
   "cell_type": "code",
   "execution_count": 12,
   "metadata": {},
   "outputs": [],
   "source": [
    "x_test, y_test = corpus2xy(test)\n",
    "y_test_idx = labels_to_ind(y_test)"
   ]
  },
  {
   "cell_type": "code",
   "execution_count": 13,
   "metadata": {},
   "outputs": [
    {
     "name": "stderr",
     "output_type": "stream",
     "text": [
      "[Parallel(n_jobs=4)]: Using backend ThreadingBackend with 4 concurrent workers.\n",
      "[Parallel(n_jobs=4)]: Done  42 tasks      | elapsed:  1.2min\n",
      "[Parallel(n_jobs=4)]: Done 100 out of 100 | elapsed:  2.7min finished\n"
     ]
    },
    {
     "data": {
      "text/plain": [
       "RandomForestClassifier(bootstrap=True, class_weight=None, criterion='gini',\n",
       "            max_depth=None, max_features='auto', max_leaf_nodes=None,\n",
       "            min_impurity_decrease=0.0, min_impurity_split=None,\n",
       "            min_samples_leaf=1, min_samples_split=2,\n",
       "            min_weight_fraction_leaf=0.0, n_estimators=100, n_jobs=4,\n",
       "            oob_score=False, random_state=None, verbose=1,\n",
       "            warm_start=False)"
      ]
     },
     "execution_count": 13,
     "metadata": {},
     "output_type": "execute_result"
    }
   ],
   "source": [
    "#from lightgbm import LGBMClassifier\n",
    "from sklearn.ensemble import RandomForestClassifier\n",
    "#clf = LGBMClassifier(objective='multiclass', random_state=1974, min_child_samples=5)\n",
    "#clf = LGBMClassifier(random_state=1974, num_leaves=512, min_child_samples=5)\n",
    "clf = RandomForestClassifier(verbose=1, n_estimators=100, n_jobs=4)\n",
    "clf.fit(x_train, y_train_idx)"
   ]
  },
  {
   "cell_type": "code",
   "execution_count": 14,
   "metadata": {
    "scrolled": true
   },
   "outputs": [
    {
     "name": "stderr",
     "output_type": "stream",
     "text": [
      "[Parallel(n_jobs=4)]: Using backend ThreadingBackend with 4 concurrent workers.\n",
      "[Parallel(n_jobs=4)]: Done  42 tasks      | elapsed:    0.6s\n",
      "[Parallel(n_jobs=4)]: Done 100 out of 100 | elapsed:    1.6s finished\n"
     ]
    }
   ],
   "source": [
    "y_pred = clf.predict(x_test)"
   ]
  },
  {
   "cell_type": "code",
   "execution_count": 15,
   "metadata": {},
   "outputs": [
    {
     "name": "stderr",
     "output_type": "stream",
     "text": [
      "C:\\Users\\ssotn\\Anaconda3\\envs\\nlp\\lib\\site-packages\\sklearn\\metrics\\classification.py:1143: UndefinedMetricWarning: Precision and F-score are ill-defined and being set to 0.0 in labels with no predicted samples.\n",
      "  'precision', 'predicted', average, warn_for)\n"
     ]
    },
    {
     "name": "stdout",
     "output_type": "stream",
     "text": [
      "              precision    recall  f1-score   support\n",
      "\n",
      "           0       0.78      0.09      0.16        78\n",
      "           1       0.34      0.36      0.35       182\n",
      "           2       0.55      0.08      0.14        73\n",
      "           3       1.00      0.32      0.48        19\n",
      "           4       1.00      0.18      0.31        22\n",
      "           5       1.00      0.16      0.28        25\n",
      "           6       0.50      0.07      0.12        15\n",
      "           7       0.46      0.78      0.58       161\n",
      "           8       0.93      0.42      0.58        33\n",
      "           9       0.83      0.21      0.33        24\n",
      "          10       0.67      0.09      0.16        22\n",
      "          11       0.62      0.22      0.32        82\n",
      "          12       1.00      0.04      0.08        23\n",
      "          13       1.00      0.38      0.55        34\n",
      "          14       0.76      0.24      0.36        55\n",
      "          15       0.50      0.12      0.20        16\n",
      "          16       0.72      0.42      0.53       109\n",
      "          17       0.63      0.34      0.44       118\n",
      "          18       0.56      0.13      0.21        76\n",
      "          19       0.67      0.06      0.10        36\n",
      "          20       0.69      0.17      0.27        53\n",
      "          21       0.71      0.16      0.26        74\n",
      "          22       0.64      0.18      0.28        88\n",
      "          23       0.83      0.10      0.19        48\n",
      "          24       0.64      0.27      0.38        93\n",
      "          25       0.67      0.38      0.49       130\n",
      "          26       0.62      0.20      0.30        51\n",
      "          27       0.67      0.17      0.27        24\n",
      "          28       0.36      0.25      0.29       336\n",
      "          29       0.96      0.27      0.43       201\n",
      "          30       0.95      0.27      0.42        67\n",
      "          31       0.75      0.20      0.32        30\n",
      "          32       0.86      0.14      0.24        43\n",
      "          33       1.00      0.21      0.35        14\n",
      "          34       0.46      0.95      0.62      1694\n",
      "          35       0.83      0.26      0.40        19\n",
      "          36       0.88      0.12      0.21        60\n",
      "          37       1.00      0.14      0.24        36\n",
      "          38       0.48      0.26      0.34       256\n",
      "          39       0.45      0.75      0.57       795\n",
      "          40       1.00      0.10      0.17        21\n",
      "          41       0.47      0.30      0.37       141\n",
      "          42       0.45      0.65      0.53       318\n",
      "          43       0.00      0.00      0.00        18\n",
      "          44       0.54      0.52      0.53       218\n",
      "          45       1.00      0.16      0.28        43\n",
      "          46       1.00      0.17      0.29        18\n",
      "          47       0.79      0.37      0.50        30\n",
      "          48       1.00      0.10      0.18        20\n",
      "          49       0.75      0.10      0.18        29\n",
      "          50       0.60      0.48      0.53       117\n",
      "          51       0.88      0.10      0.18        70\n",
      "          52       1.00      0.16      0.27        51\n",
      "          53       1.00      0.14      0.25        35\n",
      "          54       0.83      0.20      0.32        25\n",
      "          55       0.81      0.57      0.67        44\n",
      "          56       0.70      0.23      0.34        31\n",
      "          57       0.50      0.18      0.26        17\n",
      "          58       0.92      0.72      0.81        67\n",
      "          59       1.00      0.10      0.18        20\n",
      "          60       0.94      0.28      0.43        53\n",
      "          61       0.52      0.14      0.22        81\n",
      "          62       1.00      0.16      0.27        19\n",
      "          63       1.00      0.16      0.27        19\n",
      "          64       0.87      0.42      0.57        31\n",
      "          65       0.56      0.26      0.36        92\n",
      "          66       0.97      0.49      0.65        65\n",
      "          67       0.74      0.35      0.48        71\n",
      "          68       0.49      0.74      0.59       309\n",
      "          69       1.00      0.11      0.21        35\n",
      "          70       0.80      0.29      0.42        14\n",
      "          71       1.00      0.14      0.25        35\n",
      "          72       0.66      0.30      0.41       288\n",
      "          73       0.63      0.31      0.41       173\n",
      "          74       1.00      0.14      0.24        37\n",
      "          75       0.65      0.20      0.31        55\n",
      "          76       0.68      0.51      0.58        99\n",
      "          77       0.67      0.07      0.13        28\n",
      "          78       0.88      0.17      0.29        40\n",
      "          79       1.00      0.08      0.15        38\n",
      "          80       0.83      0.23      0.36        22\n",
      "          81       1.00      0.11      0.20        18\n",
      "          82       1.00      0.14      0.25        14\n",
      "          83       1.00      0.12      0.22        16\n",
      "          84       0.91      0.21      0.34        47\n",
      "          85       0.00      0.00      0.00        15\n",
      "          86       1.00      0.05      0.09        21\n",
      "          87       0.67      0.13      0.21        47\n",
      "          88       1.00      0.14      0.24        22\n",
      "          89       1.00      0.16      0.27        19\n",
      "          90       0.89      0.20      0.32        41\n",
      "          91       1.00      0.20      0.33        15\n",
      "          92       0.60      0.14      0.23        21\n",
      "          93       1.00      0.23      0.38        30\n",
      "          94       0.49      0.25      0.33       193\n",
      "          95       0.86      0.13      0.23        46\n",
      "          96       0.71      0.26      0.38        19\n",
      "          97       0.50      0.06      0.11        16\n",
      "          98       0.86      0.12      0.21        51\n",
      "          99       0.57      0.26      0.36        92\n",
      "         100       1.00      0.07      0.12        15\n",
      "         101       0.82      0.15      0.25        60\n",
      "         102       0.75      0.12      0.21        24\n",
      "         103       0.82      0.16      0.26        58\n",
      "         104       0.25      0.75      0.37       580\n",
      "         105       0.89      0.29      0.44        83\n",
      "         106       1.00      0.21      0.35        19\n",
      "         107       1.00      0.04      0.08        23\n",
      "         108       1.00      0.26      0.41        23\n",
      "         109       0.47      0.40      0.43       166\n",
      "         110       0.75      0.14      0.23        22\n",
      "         111       1.00      0.13      0.23        31\n",
      "         112       0.67      0.07      0.13        27\n",
      "         113       0.67      0.09      0.15        23\n",
      "         114       0.42      0.54      0.47       301\n",
      "         115       0.50      0.04      0.08        23\n",
      "         116       1.00      0.21      0.35        14\n",
      "         117       1.00      0.52      0.69        42\n",
      "         118       1.00      0.17      0.29        30\n",
      "         119       0.59      0.24      0.34       134\n",
      "         120       1.00      0.05      0.10        20\n",
      "         121       1.00      0.06      0.11        36\n",
      "         122       1.00      0.14      0.24        37\n",
      "         123       0.80      0.12      0.21        34\n",
      "         124       1.00      0.11      0.21        35\n",
      "         125       0.58      0.10      0.18        68\n",
      "         126       0.67      0.12      0.21        16\n",
      "         127       1.00      0.16      0.28        31\n",
      "         128       0.56      0.28      0.37        18\n",
      "         129       0.43      0.08      0.14        36\n",
      "         130       1.00      0.05      0.09        22\n",
      "         131       1.00      0.07      0.13        29\n",
      "         132       1.00      0.11      0.20        37\n",
      "         133       0.75      0.13      0.22        47\n",
      "         134       1.00      0.54      0.70        26\n",
      "         135       0.53      0.51      0.52       212\n",
      "         136       1.00      0.36      0.53        36\n",
      "         137       0.38      0.65      0.48       504\n",
      "         138       1.00      0.42      0.59        19\n",
      "         139       0.32      0.33      0.32       268\n",
      "         140       1.00      0.17      0.29        36\n",
      "         141       1.00      0.19      0.32        53\n",
      "         142       0.83      0.24      0.37        42\n",
      "         143       1.00      0.29      0.45        17\n",
      "         144       0.80      0.17      0.28        48\n",
      "         145       1.00      0.20      0.33        15\n",
      "         146       0.52      0.33      0.40        40\n",
      "         147       1.00      0.18      0.31        22\n",
      "         148       1.00      0.04      0.07        28\n",
      "         149       0.97      0.56      0.71        52\n",
      "         150       0.55      0.33      0.41       181\n",
      "         151       0.75      0.09      0.15        35\n",
      "         152       0.42      0.57      0.48       316\n",
      "         153       1.00      0.30      0.47        46\n",
      "         154       0.89      0.34      0.49        70\n",
      "         155       1.00      0.33      0.50        30\n",
      "         156       0.79      0.17      0.28        65\n",
      "         157       1.00      0.50      0.67        18\n",
      "         158       0.95      0.43      0.59        44\n",
      "         159       0.90      0.26      0.41        34\n",
      "         160       0.83      0.24      0.37        42\n",
      "         161       0.89      0.23      0.36        71\n",
      "         162       0.71      0.66      0.68       123\n",
      "         163       0.94      0.13      0.23       132\n",
      "         164       1.00      0.13      0.23        39\n",
      "         165       1.00      0.12      0.21        25\n",
      "         166       1.00      0.13      0.23        39\n",
      "         167       1.00      0.50      0.67        20\n",
      "         168       0.74      0.22      0.34       115\n",
      "         169       1.00      0.05      0.10        19\n",
      "         170       1.00      0.11      0.19        19\n",
      "         171       0.67      0.12      0.21        16\n",
      "         172       0.66      0.27      0.38       123\n",
      "         173       0.59      0.08      0.14       121\n",
      "         174       1.00      0.22      0.36        18\n",
      "         175       0.45      0.33      0.38       332\n",
      "         176       0.93      0.24      0.38        58\n",
      "         177       0.75      0.12      0.20        26\n",
      "         178       0.90      0.17      0.28        54\n",
      "         179       1.00      0.20      0.33        30\n",
      "         180       0.33      0.85      0.48       926\n",
      "         181       1.00      0.17      0.29        48\n",
      "         182       1.00      0.05      0.09        21\n",
      "         183       1.00      0.17      0.29        18\n",
      "         184       0.90      0.14      0.24        66\n",
      "         185       0.42      0.16      0.23       161\n",
      "         186       1.00      0.12      0.22        49\n",
      "         187       0.57      0.20      0.30        20\n",
      "\n",
      "   micro avg       0.45      0.45      0.45     16147\n",
      "   macro avg       0.79      0.24      0.32     16147\n",
      "weighted avg       0.60      0.45      0.41     16147\n"
     ]
    },
    {
     "name": "stdout",
     "output_type": "stream",
     "text": [
      "\n"
     ]
    }
   ],
   "source": [
    "from sklearn.metrics import classification_report\n",
    "\n",
    "print(classification_report(y_test_idx, y_pred))"
   ]
  },
  {
   "cell_type": "code",
   "execution_count": null,
   "metadata": {},
   "outputs": [],
   "source": []
  }
 ],
 "metadata": {
  "kernelspec": {
   "display_name": "nlp",
   "language": "python",
   "name": "nlp"
  },
  "language_info": {
   "codemirror_mode": {
    "name": "ipython",
    "version": 3
   },
   "file_extension": ".py",
   "mimetype": "text/x-python",
   "name": "python",
   "nbconvert_exporter": "python",
   "pygments_lexer": "ipython3",
   "version": "3.6.8"
  }
 },
 "nbformat": 4,
 "nbformat_minor": 2
}

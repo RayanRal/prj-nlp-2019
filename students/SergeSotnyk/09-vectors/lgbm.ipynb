{
 "cells": [
  {
   "cell_type": "code",
   "execution_count": 1,
   "metadata": {},
   "outputs": [],
   "source": [
    "from utils_1551 import Corpus, load_train_and_test\n",
    "\n",
    "from bpemb import BPEmb\n",
    "from uk_stopwords import STOP_WORDS\n",
    "from typing import List, Dict\n",
    "import numpy as np"
   ]
  },
  {
   "cell_type": "code",
   "execution_count": 2,
   "metadata": {},
   "outputs": [],
   "source": [
    "train, test = load_train_and_test()"
   ]
  },
  {
   "cell_type": "code",
   "execution_count": 3,
   "metadata": {},
   "outputs": [],
   "source": [
    "dim = 300\n",
    "bpemb_ua = BPEmb(lang=\"uk\", dim=dim)"
   ]
  },
  {
   "cell_type": "code",
   "execution_count": 4,
   "metadata": {},
   "outputs": [
    {
     "name": "stdout",
     "output_type": "stream",
     "text": [
      "(3, 300)\n",
      "['▁що', 'сь', '▁там']\n"
     ]
    }
   ],
   "source": [
    "print(bpemb_ua.embed('щось там').shape)\n",
    "print(bpemb_ua.encode('щось там'))"
   ]
  },
  {
   "cell_type": "code",
   "execution_count": 5,
   "metadata": {},
   "outputs": [
    {
     "name": "stdout",
     "output_type": "stream",
     "text": [
      "['Ваша', 'відповідь', 'Повідомляємо', 'що', 'відповідно', 'до', 'п', '5', '7', 'Державного', 'стандарту', 'України', '4123', '2006', 'Пристрій', 'примусового', 'зниження', 'швидкості', 'дорожньо', 'транспортної', 'техніки', 'на', 'вулицях', 'і', 'дорогах', 'Загальні', 'технічні', 'вимоги', 'заборонено', 'встановлювати', 'пристрої', 'примусового', 'зниження', 'швидкості', 'руху', 'транспортних', 'засобів', 'на', 'магістральних', 'вулицях', 'а', 'просп', 'Григоренка', 'має', 'категорію', 'магістральної', 'вулиці', 'районного', 'значення']\n"
     ]
    }
   ],
   "source": [
    "import re\n",
    "re_tokens = re.compile(\"([\\w][\\w]*'?\\w?)\")\n",
    "\n",
    "def text2tokens(text: str)->List[str]:\n",
    "    return re_tokens.findall(text)\n",
    "\n",
    "s = \"Ваша відповідь:  Повідомляємо, що відповідно до п. 5.7 Державного стандарту України 4123-2006 «Пристрій примусового зниження швидкості дорожньо-транспортної техніки на вулицях і дорогах. Загальні технічні вимоги» заборонено встановлювати пристрої примусового зниження швидкості руху транспортних засобів на магістральних вулицях, а просп. Григоренка має категорію магістральної вулиці районного значення.\"\n",
    "print(text2tokens(s))"
   ]
  },
  {
   "cell_type": "code",
   "execution_count": 6,
   "metadata": {},
   "outputs": [
    {
     "name": "stdout",
     "output_type": "stream",
     "text": [
      "(300,)\n"
     ]
    }
   ],
   "source": [
    "def text2vec(text: str):\n",
    "    res = np.zeros(dim)\n",
    "    words = text2tokens(text.lower())\n",
    "    for w in words:\n",
    "        if w in STOP_WORDS:\n",
    "            continue\n",
    "        for v in bpemb_ua.embed(w):\n",
    "            res += v\n",
    "    res /= max(np.linalg.norm(res), 1e-6)\n",
    "    return res\n",
    "\n",
    "print(text2vec(s).shape)"
   ]
  },
  {
   "cell_type": "code",
   "execution_count": 13,
   "metadata": {},
   "outputs": [],
   "source": [
    "def corpus2xy(corpus: Corpus)->(np.array, np.array):\n",
    "    x, y = [], []\n",
    "    for name, messages in corpus.items():\n",
    "        for id_, text in messages:\n",
    "            vec = text2vec(text)\n",
    "            x.append(vec)\n",
    "            y.append(name)\n",
    "    return np.array(x), np.array(y)\n",
    "\n",
    "def extract_labels(corpus: Corpus)->Dict[str, int]:\n",
    "    res = {name:i for i, name in enumerate(corpus.keys())}\n",
    "    return res\n",
    "\n",
    "labels_dict = extract_labels(train)\n",
    "def labels_to_ind(y: np.array)->np.array:\n",
    "    return np.array([labels_dict[name] for name in y])"
   ]
  },
  {
   "cell_type": "code",
   "execution_count": 16,
   "metadata": {},
   "outputs": [],
   "source": [
    "x_train, y_train = corpus2xy(train)"
   ]
  },
  {
   "cell_type": "code",
   "execution_count": 15,
   "metadata": {},
   "outputs": [],
   "source": [
    "y_train_idx = labels_to_ind(y_train)"
   ]
  },
  {
   "cell_type": "code",
   "execution_count": 17,
   "metadata": {},
   "outputs": [
    {
     "name": "stdout",
     "output_type": "stream",
     "text": [
      "(48120, 300) float64\n",
      "(48120,) int32\n"
     ]
    }
   ],
   "source": [
    "print(x_train.shape, x_train.dtype)\n",
    "print(y_train_idx.shape, y_train_idx.dtype)"
   ]
  },
  {
   "cell_type": "code",
   "execution_count": 18,
   "metadata": {},
   "outputs": [],
   "source": [
    "x_test, y_test = corpus2xy(test)\n",
    "y_test_idx = labels_to_ind(y_test)"
   ]
  },
  {
   "cell_type": "code",
   "execution_count": 25,
   "metadata": {},
   "outputs": [
    {
     "data": {
      "text/plain": [
       "LGBMClassifier(boosting_type='gbdt', class_weight=None, colsample_bytree=1.0,\n",
       "        importance_type='split', learning_rate=0.1, max_depth=-1,\n",
       "        min_child_samples=5, min_child_weight=0.001, min_split_gain=0.0,\n",
       "        n_estimators=100, n_jobs=-1, num_leaves=31, objective='multiclass',\n",
       "        random_state=1974, reg_alpha=0.0, reg_lambda=0.0, silent=True,\n",
       "        subsample=1.0, subsample_for_bin=200000, subsample_freq=0)"
      ]
     },
     "execution_count": 25,
     "metadata": {},
     "output_type": "execute_result"
    }
   ],
   "source": [
    "from lightgbm import LGBMClassifier\n",
    "clf = LGBMClassifier(objective='multiclass', random_state=1974, min_child_samples=5)\n",
    "clf.fit(x_train, y_train_idx)"
   ]
  },
  {
   "cell_type": "code",
   "execution_count": 26,
   "metadata": {},
   "outputs": [],
   "source": [
    "y_pred = clf.predict(x_test)"
   ]
  },
  {
   "cell_type": "code",
   "execution_count": 27,
   "metadata": {},
   "outputs": [
    {
     "name": "stderr",
     "output_type": "stream",
     "text": [
      "C:\\Users\\ssotn\\Anaconda3\\envs\\nlp\\lib\\site-packages\\sklearn\\metrics\\classification.py:1143: UndefinedMetricWarning: Precision and F-score are ill-defined and being set to 0.0 in labels with no predicted samples.\n",
      "  'precision', 'predicted', average, warn_for)\n"
     ]
    },
    {
     "name": "stdout",
     "output_type": "stream",
     "text": [
      "              precision    recall  f1-score   support\n",
      "\n",
      "           0       0.00      0.00      0.00        78\n",
      "           1       0.00      0.00      0.00       182\n",
      "           2       0.00      0.00      0.00        73\n",
      "           3       0.00      0.00      0.00        19\n",
      "           4       0.00      0.00      0.00        22\n",
      "           5       0.00      0.00      0.00        25\n",
      "           6       0.00      0.00      0.00        15\n",
      "           7       0.00      0.00      0.00       161\n",
      "           8       0.00      0.00      0.00        33\n",
      "           9       0.00      0.00      0.00        24\n",
      "          10       0.00      0.00      0.00        22\n",
      "          11       0.00      0.00      0.00        82\n",
      "          12       0.00      0.00      0.00        23\n",
      "          13       0.00      0.00      0.00        34\n",
      "          14       0.00      0.00      0.00        55\n",
      "          15       0.00      0.00      0.00        16\n",
      "          16       0.00      0.00      0.00       109\n",
      "          17       0.00      0.00      0.00       118\n",
      "          18       0.00      0.00      0.00        76\n",
      "          19       0.00      0.00      0.00        36\n",
      "          20       0.00      0.00      0.00        53\n",
      "          21       0.00      0.00      0.00        74\n",
      "          22       0.00      0.00      0.00        88\n",
      "          23       0.00      0.00      0.00        48\n",
      "          24       0.00      0.00      0.00        93\n",
      "          25       0.00      0.00      0.00       130\n",
      "          26       0.00      0.00      0.00        51\n",
      "          27       0.00      0.00      0.00        24\n",
      "          28       0.00      0.00      0.00       336\n",
      "          29       0.00      0.00      0.00       201\n",
      "          30       0.00      0.00      0.00        67\n",
      "          31       0.00      0.00      0.00        30\n",
      "          32       0.00      0.00      0.00        43\n",
      "          33       0.00      0.00      0.00        14\n",
      "          34       0.49      0.20      0.28      1694\n",
      "          35       0.00      0.00      0.00        19\n",
      "          36       0.00      0.00      0.00        60\n",
      "          37       0.00      0.00      0.00        36\n",
      "          38       0.38      0.01      0.02       256\n",
      "          39       0.27      0.00      0.01       795\n",
      "          40       0.00      0.00      0.00        21\n",
      "          41       0.00      0.00      0.00       141\n",
      "          42       0.00      0.00      0.00       318\n",
      "          43       0.00      0.00      0.00        18\n",
      "          44       0.14      0.00      0.01       218\n",
      "          45       0.00      0.00      0.00        43\n",
      "          46       0.00      0.00      0.00        18\n",
      "          47       0.00      0.00      0.00        30\n",
      "          48       0.00      0.00      0.00        20\n",
      "          49       0.00      0.00      0.00        29\n",
      "          50       0.00      0.00      0.00       117\n",
      "          51       0.00      0.00      0.00        70\n",
      "          52       0.00      0.00      0.00        51\n",
      "          53       0.00      0.00      0.00        35\n",
      "          54       0.00      0.00      0.00        25\n",
      "          55       0.00      0.00      0.00        44\n",
      "          56       0.00      0.00      0.00        31\n",
      "          57       0.00      0.00      0.00        17\n",
      "          58       0.00      0.00      0.00        67\n",
      "          59       0.00      0.00      0.00        20\n",
      "          60       0.60      0.06      0.10        53\n",
      "          61       0.00      0.00      0.00        81\n",
      "          62       0.00      0.00      0.00        19\n",
      "          63       0.00      0.00      0.00        19\n",
      "          64       0.00      0.00      0.00        31\n",
      "          65       0.00      0.00      0.00        92\n",
      "          66       0.00      0.00      0.00        65\n",
      "          67       0.00      0.00      0.00        71\n",
      "          68       0.15      0.03      0.04       309\n",
      "          69       0.00      0.00      0.00        35\n",
      "          70       0.00      0.00      0.00        14\n",
      "          71       0.00      0.00      0.00        35\n",
      "          72       0.00      0.00      0.00       288\n",
      "          73       0.14      0.01      0.02       173\n",
      "          74       0.00      0.00      0.00        37\n",
      "          75       0.00      0.00      0.00        55\n",
      "          76       0.00      0.00      0.00        99\n",
      "          77       0.00      0.00      0.00        28\n",
      "          78       0.00      0.00      0.00        40\n",
      "          79       0.00      0.00      0.00        38\n",
      "          80       0.00      0.00      0.00        22\n",
      "          81       0.00      0.00      0.00        18\n",
      "          82       0.00      0.00      0.00        14\n",
      "          83       0.00      0.00      0.00        16\n",
      "          84       0.00      0.00      0.00        47\n",
      "          85       0.00      0.00      0.00        15\n",
      "          86       0.00      0.00      0.00        21\n",
      "          87       0.00      0.00      0.00        47\n",
      "          88       0.00      0.00      0.00        22\n",
      "          89       0.00      0.00      0.00        19\n",
      "          90       0.00      0.00      0.00        41\n",
      "          91       0.00      0.00      0.00        15\n",
      "          92       0.00      0.00      0.00        21\n",
      "          93       0.00      0.00      0.00        30\n",
      "          94       0.17      0.01      0.01       193\n",
      "          95       0.00      0.00      0.00        46\n",
      "          96       0.00      0.00      0.00        19\n",
      "          97       0.00      0.00      0.00        16\n",
      "          98       0.00      0.00      0.00        51\n",
      "          99       0.00      0.00      0.00        92\n",
      "         100       0.00      0.00      0.00        15\n",
      "         101       0.00      0.00      0.00        60\n",
      "         102       0.00      0.00      0.00        24\n",
      "         103       0.00      0.00      0.00        58\n",
      "         104       0.02      0.01      0.01       580\n",
      "         105       0.00      0.00      0.00        83\n",
      "         106       0.00      0.00      0.00        19\n",
      "         107       0.00      0.00      0.00        23\n",
      "         108       0.00      0.00      0.00        23\n",
      "         109       0.00      0.00      0.00       166\n",
      "         110       0.00      0.00      0.00        22\n",
      "         111       0.00      0.00      0.00        31\n",
      "         112       0.00      0.00      0.00        27\n",
      "         113       0.00      0.00      0.00        23\n",
      "         114       0.02      0.95      0.04       301\n",
      "         115       0.00      0.00      0.00        23\n",
      "         116       0.00      0.00      0.00        14\n",
      "         117       0.00      0.00      0.00        42\n",
      "         118       0.00      0.00      0.00        30\n",
      "         119       0.00      0.00      0.00       134\n",
      "         120       0.00      0.00      0.00        20\n",
      "         121       0.00      0.00      0.00        36\n",
      "         122       0.00      0.00      0.00        37\n",
      "         123       0.00      0.00      0.00        34\n",
      "         124       0.00      0.00      0.00        35\n",
      "         125       0.00      0.00      0.00        68\n",
      "         126       0.00      0.00      0.00        16\n",
      "         127       0.00      0.00      0.00        31\n",
      "         128       0.00      0.00      0.00        18\n",
      "         129       0.00      0.00      0.00        36\n",
      "         130       0.00      0.00      0.00        22\n",
      "         131       0.00      0.00      0.00        29\n",
      "         132       0.00      0.00      0.00        37\n",
      "         133       0.00      0.00      0.00        47\n",
      "         134       0.00      0.00      0.00        26\n",
      "         135       0.22      0.01      0.02       212\n",
      "         136       0.00      0.00      0.00        36\n",
      "         137       0.11      0.00      0.01       504\n",
      "         138       0.00      0.00      0.00        19\n",
      "         139       0.00      0.00      0.00       268\n",
      "         140       0.00      0.00      0.00        36\n",
      "         141       0.00      0.00      0.00        53\n",
      "         142       0.00      0.00      0.00        42\n",
      "         143       0.00      0.00      0.00        17\n",
      "         144       0.00      0.00      0.00        48\n",
      "         145       0.00      0.00      0.00        15\n",
      "         146       0.00      0.00      0.00        40\n",
      "         147       0.00      0.00      0.00        22\n",
      "         148       0.00      0.00      0.00        28\n",
      "         149       0.00      0.00      0.00        52\n",
      "         150       0.00      0.00      0.00       181\n",
      "         151       0.00      0.00      0.00        35\n",
      "         152       0.00      0.00      0.00       316\n",
      "         153       0.00      0.00      0.00        46\n",
      "         154       0.00      0.00      0.00        70\n",
      "         155       0.00      0.00      0.00        30\n",
      "         156       0.00      0.00      0.00        65\n",
      "         157       0.00      0.00      0.00        18\n",
      "         158       0.00      0.00      0.00        44\n",
      "         159       0.00      0.00      0.00        34\n",
      "         160       0.00      0.00      0.00        42\n",
      "         161       0.00      0.00      0.00        71\n",
      "         162       0.00      0.00      0.00       123\n",
      "         163       0.00      0.00      0.00       132\n",
      "         164       0.00      0.00      0.00        39\n",
      "         165       0.00      0.00      0.00        25\n",
      "         166       0.00      0.00      0.00        39\n",
      "         167       0.00      0.00      0.00        20\n",
      "         168       0.09      0.01      0.02       115\n",
      "         169       0.00      0.00      0.00        19\n",
      "         170       0.00      0.00      0.00        19\n",
      "         171       0.00      0.00      0.00        16\n",
      "         172       0.00      0.00      0.00       123\n",
      "         173       0.00      0.00      0.00       121\n",
      "         174       0.00      0.00      0.00        18\n",
      "         175       0.08      0.00      0.01       332\n",
      "         176       0.17      0.02      0.03        58\n",
      "         177       0.00      0.00      0.00        26\n",
      "         178       0.00      0.00      0.00        54\n",
      "         179       0.00      0.00      0.00        30\n",
      "         180       0.11      0.00      0.00       926\n",
      "         181       0.00      0.00      0.00        48\n",
      "         182       0.00      0.00      0.00        21\n",
      "         183       0.00      0.00      0.00        18\n",
      "         184       0.00      0.00      0.00        66\n",
      "         185       0.00      0.00      0.00       161\n",
      "         186       0.00      0.00      0.00        49\n",
      "         187       0.00      0.00      0.00        20\n",
      "\n",
      "   micro avg       0.04      0.04      0.04     16147\n",
      "   macro avg       0.02      0.01      0.00     16147\n",
      "weighted avg       0.10      0.04      0.03     16147\n"
     ]
    },
    {
     "name": "stdout",
     "output_type": "stream",
     "text": [
      "\n"
     ]
    }
   ],
   "source": [
    "from sklearn.metrics import classification_report\n",
    "\n",
    "print(classification_report(y_test_idx, y_pred))"
   ]
  },
  {
   "cell_type": "code",
   "execution_count": null,
   "metadata": {},
   "outputs": [],
   "source": []
  }
 ],
 "metadata": {
  "kernelspec": {
   "display_name": "nlp",
   "language": "python",
   "name": "nlp"
  },
  "language_info": {
   "codemirror_mode": {
    "name": "ipython",
    "version": 3
   },
   "file_extension": ".py",
   "mimetype": "text/x-python",
   "name": "python",
   "nbconvert_exporter": "python",
   "pygments_lexer": "ipython3",
   "version": "3.6.8"
  }
 },
 "nbformat": 4,
 "nbformat_minor": 2
}

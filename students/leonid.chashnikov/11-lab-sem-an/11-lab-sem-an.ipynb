{
 "cells": [
  {
   "cell_type": "code",
   "execution_count": 132,
   "metadata": {
    "collapsed": false
   },
   "outputs": [],
   "source": [
    "from gensim.models import KeyedVectors\n",
    "from keras import metrics\n",
    "from keras.models import Sequential\n",
    "from keras.layers import Dense, Embedding, Dropout, LSTM, TimeDistributed, Activation\n",
    "import keras_metrics\n",
    "\n",
    "import numpy as np\n",
    "\n",
    "from sklearn.preprocessing import LabelEncoder, OneHotEncoder"
   ]
  },
  {
   "cell_type": "code",
   "execution_count": 136,
   "metadata": {
    "collapsed": true
   },
   "outputs": [],
   "source": [
    "from keras import backend as K\n",
    "\n",
    "def f1(y_true, y_pred):\n",
    "    def recall(y_true, y_pred):\n",
    "        \"\"\"Recall metric.\n",
    "\n",
    "        Only computes a batch-wise average of recall.\n",
    "\n",
    "        Computes the recall, a metric for multi-label classification of\n",
    "        how many relevant items are selected.\n",
    "        \"\"\"\n",
    "        true_positives = K.sum(K.round(K.clip(y_true * y_pred, 0, 1)))\n",
    "        possible_positives = K.sum(K.round(K.clip(y_true, 0, 1)))\n",
    "        recall = true_positives / (possible_positives + K.epsilon())\n",
    "        return recall\n",
    "\n",
    "    def precision(y_true, y_pred):\n",
    "        \"\"\"Precision metric.\n",
    "\n",
    "        Only computes a batch-wise average of precision.\n",
    "\n",
    "        Computes the precision, a metric for multi-label classification of\n",
    "        how many selected items are relevant.\n",
    "        \"\"\"\n",
    "        true_positives = K.sum(K.round(K.clip(y_true * y_pred, 0, 1)))\n",
    "        predicted_positives = K.sum(K.round(K.clip(y_pred, 0, 1)))\n",
    "        precision = true_positives / (predicted_positives + K.epsilon())\n",
    "        return precision\n",
    "    precision = precision(y_true, y_pred)\n",
    "    recall = recall(y_true, y_pred)\n",
    "    return 2*((precision*recall)/(precision+recall+K.epsilon()))"
   ]
  },
  {
   "cell_type": "code",
   "execution_count": 269,
   "metadata": {
    "collapsed": false
   },
   "outputs": [],
   "source": [
    "def precision(y_true, y_pred):\n",
    "    true_positives = K.sum(K.round(K.clip(y_true * y_pred, 0, 1)))\n",
    "    predicted_positives = K.sum(K.round(K.clip(y_pred, 0, 1)))\n",
    "    precision = true_positives / (predicted_positives + K.epsilon())\n",
    "    return precision\n",
    "\n",
    "\n",
    "def recall(y_true, y_pred):\n",
    "    true_positives = K.sum(K.round(K.clip(y_true * y_pred, 0, 1)))\n",
    "    possible_positives = K.sum(K.round(K.clip(y_true, 0, 1)))\n",
    "    recall = true_positives / (possible_positives + K.epsilon())\n",
    "    return recall"
   ]
  },
  {
   "cell_type": "code",
   "execution_count": 17,
   "metadata": {
    "collapsed": true
   },
   "outputs": [],
   "source": [
    "cn_file = './data/numberbatch-en-17.06.txt'\n",
    "\n",
    "cn_vectors = KeyedVectors.load_word2vec_format(cn_file, binary=False)"
   ]
  },
  {
   "cell_type": "code",
   "execution_count": 6,
   "metadata": {
    "collapsed": false
   },
   "outputs": [],
   "source": [
    "def split_tags(string):\n",
    "    return [tuple(i.split(\"/\")) for i in string.split()]\n",
    "\n",
    "def readTrainData(filename):\n",
    "    data = []\n",
    "    for line in open(filename):\n",
    "        line = line.strip()\n",
    "        #read in training or dev data with labels\n",
    "        if len(line.split('\\t')) == 7:\n",
    "            (trendid, trendname, origsent, candsent, judge, origsenttag, candsenttag) = \\\n",
    "            line.split('\\t')\n",
    "        else:\n",
    "            continue\n",
    "        # ignoring the training data that has middle label \n",
    "        nYes = eval(judge)[0]            \n",
    "        if nYes >= 3:\n",
    "            amt_label = True\n",
    "            data.append((split_tags(origsenttag), split_tags(candsenttag), amt_label))\n",
    "        elif nYes <= 1:\n",
    "            amt_label = False\n",
    "            data.append((split_tags(origsenttag), split_tags(candsenttag), amt_label))\n",
    "    return data\n",
    "\n",
    "def readTestData(filename):\n",
    "    data = []\n",
    "    for line in open(filename):\n",
    "        line = line.strip()\n",
    "        #read in training or dev data with labels\n",
    "        if len(line.split('\\t')) == 7:\n",
    "            (trendid, trendname, origsent, candsent, judge, origsenttag, candsenttag) = \\\n",
    "            line.split('\\t')\n",
    "        else:\n",
    "            continue\n",
    "        # ignoring the training data that has middle label \n",
    "        nYes = int(judge[0])\n",
    "        if nYes >= 4:\n",
    "            expert_label = True\n",
    "        elif nYes <= 2:\n",
    "            expert_label = False\n",
    "        else:\n",
    "            expert_label = None\n",
    "        data.append((split_tags(origsenttag), split_tags(candsenttag), expert_label))\n",
    "    return data"
   ]
  },
  {
   "cell_type": "code",
   "execution_count": 16,
   "metadata": {
    "collapsed": false
   },
   "outputs": [
    {
     "data": {
      "text/plain": [
       "11530"
      ]
     },
     "execution_count": 16,
     "metadata": {},
     "output_type": "execute_result"
    }
   ],
   "source": [
    "dev_data = readTrainData(\"./data/data/dev.data\")\n",
    "train_data = readTrainData(\"./data/data/train.data\")\n",
    "test_data = readTestData(\"./data/data/test.data\")\n",
    "\n",
    "len(dev_data)  #4142\n",
    "len(test_data)  #972\n",
    "len(train_data)  #11530"
   ]
  },
  {
   "cell_type": "code",
   "execution_count": 323,
   "metadata": {
    "collapsed": false
   },
   "outputs": [],
   "source": [
    "def getTweetEmbedding(tweet):\n",
    "    word_vectors = []\n",
    "    exceptions = 0\n",
    "    for word in tweet:\n",
    "        try:\n",
    "            word_vector = cn_vectors.get_vector(word[0].lower())\n",
    "        except:\n",
    "            continue\n",
    "        word_vectors.append(word_vector)\n",
    "        \n",
    "        \n",
    "    return np.mean(np.array(word_vectors), axis=0), exceptions\n",
    "\n",
    "\n",
    "def getLabel(label):\n",
    "    if label == True:\n",
    "        return 1\n",
    "    if label == False:\n",
    "        return 0\n",
    "    else:\n",
    "        return None\n",
    "    \n",
    "\n",
    "def getLabelsFeatures(data):\n",
    "    labels, features = [], []\n",
    "    for row in data:\n",
    "        lbl = getLabel(row[2])\n",
    "        if lbl is not None:\n",
    "            labels.append(lbl)\n",
    "            embedding, _ = getTweetEmbedding(row[1])\n",
    "            features.append(embedding)\n",
    "    return labels, features\n",
    "    \n",
    "    \n",
    "dev_labels, dev_features = getLabelsFeatures(dev_data)\n",
    "test_labels, test_features = getLabelsFeatures(test_data)\n",
    "train_labels, train_features = getLabelsFeatures(train_data)\n",
    "\n",
    "\n",
    "dev_features = np.array(dev_features)\n",
    "dev_labels = np.array(dev_labels)\n",
    "\n",
    "test_features = np.array(test_features)\n",
    "test_labels = np.array(test_labels)\n",
    "\n",
    "train_features = np.array(train_features)\n",
    "train_labels = np.array(train_labels)"
   ]
  },
  {
   "cell_type": "markdown",
   "metadata": {},
   "source": [
    "*** KERAS model"
   ]
  },
  {
   "cell_type": "code",
   "execution_count": 359,
   "metadata": {
    "collapsed": false
   },
   "outputs": [],
   "source": [
    "model = Sequential()\n",
    "\n",
    "model.add(Dense(512, activation='relu', input_dim=300))\n",
    "model.add(Dropout(0.3))\n",
    "model.add(Dense(256))\n",
    "model.add(Dropout(0.3))\n",
    "model.add(Dense(1, activation='sigmoid'))\n",
    "\n",
    "model.compile(optimizer='adam',\n",
    "              loss='binary_crossentropy',\n",
    "              metrics=[precision, recall, f1])"
   ]
  },
  {
   "cell_type": "code",
   "execution_count": 360,
   "metadata": {
    "collapsed": false
   },
   "outputs": [
    {
     "name": "stdout",
     "output_type": "stream",
     "text": [
      "Epoch 1/10\n",
      "11530/11530 [==============================] - 5s 397us/step - loss: 0.5536 - precision: 0.6072 - recall: 0.3807 - f1: 0.4396\n",
      "Epoch 2/10\n",
      "11530/11530 [==============================] - 2s 154us/step - loss: 0.4771 - precision: 0.7489 - recall: 0.5721 - f1: 0.6354\n",
      "Epoch 3/10\n",
      "11530/11530 [==============================] - 2s 159us/step - loss: 0.4387 - precision: 0.7963 - recall: 0.6308 - f1: 0.6892\n",
      "Epoch 4/10\n",
      "11530/11530 [==============================] - 2s 159us/step - loss: 0.4012 - precision: 0.8074 - recall: 0.6642 - f1: 0.7188\n",
      "Epoch 5/10\n",
      "11530/11530 [==============================] - 2s 179us/step - loss: 0.3770 - precision: 0.8166 - recall: 0.6937 - f1: 0.7402\n",
      "Epoch 6/10\n",
      "11530/11530 [==============================] - 2s 204us/step - loss: 0.3508 - precision: 0.8339 - recall: 0.7160 - f1: 0.7627\n",
      "Epoch 7/10\n",
      "11530/11530 [==============================] - 2s 216us/step - loss: 0.3321 - precision: 0.8391 - recall: 0.7417 - f1: 0.7800\n",
      "Epoch 8/10\n",
      "11530/11530 [==============================] - 3s 247us/step - loss: 0.3077 - precision: 0.8501 - recall: 0.7693 - f1: 0.8001\n",
      "Epoch 9/10\n",
      "11530/11530 [==============================] - 2s 206us/step - loss: 0.2925 - precision: 0.8597 - recall: 0.7788 - f1: 0.8096\n",
      "Epoch 10/10\n",
      "11530/11530 [==============================] - 2s 170us/step - loss: 0.2780 - precision: 0.8674 - recall: 0.7852 - f1: 0.8176\n",
      "['loss', 'precision', 'recall', 'f1']\n",
      "<keras.callbacks.History object at 0x17414e898>\n"
     ]
    }
   ],
   "source": [
    "loss_and_metrics = model.fit(train_features, train_labels, epochs=10, batch_size=50)\n",
    "\n",
    "print(model.metrics_names)\n",
    "print(loss_and_metrics)"
   ]
  },
  {
   "cell_type": "code",
   "execution_count": 361,
   "metadata": {
    "collapsed": false
   },
   "outputs": [
    {
     "name": "stdout",
     "output_type": "stream",
     "text": [
      "838/838 [==============================] - 1s 1ms/step\n",
      "['loss', 'precision', 'recall', 'f1']\n",
      "[0.7009349179082952, 0.21241437910493632, 0.1699266110620237, 0.13016103533472254]\n"
     ]
    }
   ],
   "source": [
    "loss_and_metrics = model.evaluate(test_features, test_labels, batch_size=50)\n",
    "\n",
    "print(model.metrics_names)\n",
    "print(loss_and_metrics)\n",
    "\n",
    "# ['loss', 'precision', 'recall', 'f1']\n",
    "# [0.7009349179082952, 0.21241437910493632, 0.1699266110620237, 0.13016103533472254]"
   ]
  },
  {
   "cell_type": "code",
   "execution_count": 297,
   "metadata": {
    "collapsed": false
   },
   "outputs": [],
   "source": [
    "predictions = model.predict(test_features)"
   ]
  },
  {
   "cell_type": "code",
   "execution_count": null,
   "metadata": {
    "collapsed": false,
    "scrolled": true
   },
   "outputs": [],
   "source": [
    "for prediction in predictions:\n",
    "    if prediction >= 0.5:\n",
    "        print('true\\t' + \"{0:.4f}\".format(prediction[0]))\n",
    "    else:\n",
    "        print('false\\t' + \"{0:.4f}\".format(prediction[0]))"
   ]
  },
  {
   "cell_type": "markdown",
   "metadata": {},
   "source": [
    "*** Simple classifier"
   ]
  },
  {
   "cell_type": "code",
   "execution_count": null,
   "metadata": {
    "collapsed": false
   },
   "outputs": [],
   "source": [
    "from sklearn.svm import SVC\n",
    "from sklearn.model_selection import cross_validate\n",
    "\n",
    "from sklearn.tree import DecisionTreeClassifier\n",
    "from sklearn.ensemble import RandomForestClassifier\n",
    "\n",
    "# clf = DecisionTreeClassifier(max_depth=10)\n",
    "# 'test_f1_macro': array([0.54490802, 0.56093429, 0.56139427])\n",
    "\n",
    "# clf = RandomForestClassifier(max_depth=10, n_estimators=10, max_features=5)\n",
    "#'test_f1_macro': array([0.51949302, 0.51380182, 0.53575825])\n",
    "\n",
    "# clf = SVC(gamma='auto', random_state=42)\n",
    "# 'test_f1_macro': array([0.39521712, 0.39518414, 0.39518414]),\n",
    "\n",
    "cross_validate(clf, train_features, train_labels, scoring=['recall_macro', 'precision_macro', 'f1_macro'], cv=3, verbose=True)"
   ]
  },
  {
   "cell_type": "code",
   "execution_count": 248,
   "metadata": {
    "collapsed": false
   },
   "outputs": [
    {
     "data": {
      "text/plain": [
       "0.7386831275720165"
      ]
     },
     "execution_count": 248,
     "metadata": {},
     "output_type": "execute_result"
    }
   ],
   "source": [
    "clf = DecisionTreeClassifier(max_depth=10)\n",
    "clf.fit(train_features, train_labels)\n",
    "clf.score(test_features, test_labels)"
   ]
  },
  {
   "cell_type": "code",
   "execution_count": null,
   "metadata": {
    "collapsed": true
   },
   "outputs": [],
   "source": []
  }
 ],
 "metadata": {
  "anaconda-cloud": {},
  "kernelspec": {
   "display_name": "Python (myenv)",
   "language": "python",
   "name": "myenv"
  },
  "language_info": {
   "codemirror_mode": {
    "name": "ipython",
    "version": 3
   },
   "file_extension": ".py",
   "mimetype": "text/x-python",
   "name": "python",
   "nbconvert_exporter": "python",
   "pygments_lexer": "ipython3",
   "version": "3.6.8"
  }
 },
 "nbformat": 4,
 "nbformat_minor": 0
}

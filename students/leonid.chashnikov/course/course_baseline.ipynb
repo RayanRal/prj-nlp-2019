{
 "cells": [
  {
   "cell_type": "code",
   "execution_count": 1,
   "metadata": {},
   "outputs": [],
   "source": [
    "import sys\n",
    "import io\n",
    "import os\n",
    "\n",
    "import numpy as np\n",
    "from random import randint\n",
    "from random import random\n",
    "\n",
    "from collections import *\n",
    "\n",
    "import re\n",
    "\n",
    "from os import listdir\n",
    "from os.path import isfile, join"
   ]
  },
  {
   "cell_type": "code",
   "execution_count": 2,
   "metadata": {},
   "outputs": [],
   "source": [
    "def clean_text(text):\n",
    "    '''Clean text by removing unnecessary characters and altering the format of words.'''\n",
    "\n",
    "    text = text.lower()\n",
    "    \n",
    "    text = re.sub(r\"i'm\", \"i am\", text)\n",
    "    text = re.sub(r\"he's\", \"he is\", text)\n",
    "    text = re.sub(r\"she's\", \"she is\", text)\n",
    "    text = re.sub(r\"it's\", \"it is\", text)\n",
    "    text = re.sub(r\"'s\", \" is\", text)\n",
    "    text = re.sub(r\"that's\", \"that is\", text)\n",
    "    text = re.sub(r\"what's\", \"that is\", text)\n",
    "    text = re.sub(r\"where's\", \"where is\", text)\n",
    "    text = re.sub(r\"how's\", \"how is\", text)\n",
    "    text = re.sub(r\"\\'ll\", \" will\", text)\n",
    "    text = re.sub(r\"\\'ve\", \" have\", text)\n",
    "    text = re.sub(r\"\\'re\", \" are\", text)\n",
    "    text = re.sub(r\"\\'d\", \" would\", text)\n",
    "    text = re.sub(r\"\\'re\", \" are\", text)\n",
    "    text = re.sub(r\"won't\", \"will not\", text)\n",
    "    text = re.sub(r\"can't\", \"cannot\", text)\n",
    "    text = re.sub(r\"n't\", \" not\", text)\n",
    "    text = re.sub(r\"n'\", \"ng\", text)\n",
    "    text = re.sub(r\"'bout\", \"about\", text)\n",
    "    text = re.sub(r\"'til\", \"until\", text)\n",
    "    text = re.sub(r\"[”“’‘'-()\\\"#/@;:<>{}`+=~|!?]\", \"\", text)\n",
    "    \n",
    "    return text"
   ]
  },
  {
   "cell_type": "code",
   "execution_count": 3,
   "metadata": {},
   "outputs": [
    {
     "name": "stdout",
     "output_type": "stream",
     "text": [
      "5\n",
      "9609400\n",
      "9534701\n"
     ]
    }
   ],
   "source": [
    "### Read/process inputs\n",
    "input_path = './raw_data/'\n",
    "all_data_sents = []\n",
    "\n",
    "files = [join(input_path, f) for f in listdir(input_path) if isfile(join(input_path, f))]\n",
    "for filename in files:\n",
    "    if filename.endswith('.txt'):\n",
    "        with open(filename, encoding='utf-8', errors='ignore') as f:\n",
    "            text = f.read().lower()\n",
    "            text = text.replace('\\n\\n', '\\n')\\\n",
    "                .replace('\"', '')\\\n",
    "                .replace('-', ' - ')\\\n",
    "                .replace(\"\\\"\", '')\\\n",
    "                .replace(\"...\", \"\")\\\n",
    "                .replace(\"…\", \"\")\\\n",
    "                .replace(\"—\", \"\")\\\n",
    "                .replace(\". \", \" . \")\\\n",
    "                .replace(\", \", \" , \")\n",
    "            text = ' '.join(text.split(\"\\n\"))\n",
    "            all_data_sents.append(text)\n",
    "    \n",
    "print(len(all_data_sents))\n",
    "\n",
    "all_data_string = ' '.join(all_data_sents)\n",
    "print(len(all_data_string))\n",
    "\n",
    "all_data_string = clean_text(all_data_string)\n",
    "print(len(all_data_string))"
   ]
  },
  {
   "cell_type": "code",
   "execution_count": 4,
   "metadata": {},
   "outputs": [],
   "source": [
    "# Prepare test set\n",
    "TEST_SET_SIZE = 20\n",
    "\n",
    "sents = [sent for sent in all_data_string.split('.') if sent.strip() != '' or sent == '\\n']\n",
    "train_set, test_set = sents, []\n",
    "\n",
    "for x in range(TEST_SET_SIZE):\n",
    "    index = randint(0, len(sents))\n",
    "    test_set.append(train_set.pop(index).strip())\n",
    "    \n",
    "train_set = '.'.join(train_set)"
   ]
  },
  {
   "cell_type": "code",
   "execution_count": 5,
   "metadata": {},
   "outputs": [],
   "source": [
    "def xrange(x):\n",
    "    return iter(range(x))\n",
    "\n",
    "def train_char_lm(data, order=4):\n",
    "    lm = defaultdict(Counter)\n",
    "    pad = \"~\" * order\n",
    "    data = pad + data\n",
    "    for i in xrange(len(data)-order):\n",
    "        history, char = data[i:i+order], data[i+order]\n",
    "        lm[history][char]+=1\n",
    "    def normalize(counter):\n",
    "        s = float(sum(counter.values()))\n",
    "        return [(c,cnt/s) for c,cnt in counter.items()]\n",
    "    outlm = {hist:normalize(chars) for hist, chars in lm.items()}\n",
    "    return outlm"
   ]
  },
  {
   "cell_type": "code",
   "execution_count": 6,
   "metadata": {},
   "outputs": [],
   "source": [
    "def generate_letter(lm, history, order):\n",
    "        history = history[-order:]\n",
    "        dist = lm[history]\n",
    "        x = random()\n",
    "        for c,v in dist:\n",
    "            x = x - v\n",
    "            if x <= 0: return c"
   ]
  },
  {
   "cell_type": "code",
   "execution_count": 7,
   "metadata": {},
   "outputs": [],
   "source": [
    "def generate_text(lm, order, history=None, nletters=1000):\n",
    "    if history is None:\n",
    "        history = \"~\" * order\n",
    "    else:\n",
    "        history = history[0:order]\n",
    "        if len(history) < order:\n",
    "            history = (\"~\" * (order - len(history))) + history\n",
    "    out = []\n",
    "    for i in xrange(nletters):\n",
    "        c = generate_letter(lm, history, order)\n",
    "        history = history[-order:] + c\n",
    "        out.append(c)\n",
    "    return \"\".join(out)"
   ]
  },
  {
   "cell_type": "code",
   "execution_count": 8,
   "metadata": {},
   "outputs": [],
   "source": [
    "ORDER = 20\n",
    "\n",
    "lm = train_char_lm(all_data_string, ORDER)"
   ]
  },
  {
   "cell_type": "code",
   "execution_count": 9,
   "metadata": {},
   "outputs": [
    {
     "name": "stdout",
     "output_type": "stream",
     "text": [
      "TEST INPUT:\n",
      "metal screamed on metal as the spearhead slid off the mountain is chest , slicing through the surcoat and leaving a long bright scratch on the steel beneath\n",
      "\n",
      "GENERATED TEXT:\n",
      "\n",
      "tal as the spearhead slid off the mountain is chest , slicing through the grey - green waters on billowing purple wings . arya could hear the rush of water and the creak of the mill is great wooden waterwheel . there was a smell of rain in the dawn air , but no drops were falling yet . flaming arrows flew through the morning mists , trailing pale ribbons of fire , and thudded into the wood , one two three , as he flung it down on top of his king . robin flint was ringed by freys , their daggers rising and falling in perfect time . ser rodrik held the rail and looked out over the half - mile swath of cleared land that lay between the wall and the edge of the forest they had raised their tents of hide and fur , even a crude longhall of logs and woven branches there were horselines to the east , mammoths to the west , and men everywhere , sharpening their swords , putting points on crude spears , donning makeshift armor of hide and horn and bone . for every man that he could see , jon kne\n"
     ]
    }
   ],
   "source": [
    "test_index = randint(0, TEST_SET_SIZE)\n",
    "test_input = test_set[test_index]\n",
    "print(\"TEST INPUT:\\n{}\\n\".format(test_input))\n",
    "print(\"GENERATED TEXT:\\n\")\n",
    "print(generate_text(lm, ORDER, test_input))"
   ]
  },
  {
   "cell_type": "code",
   "execution_count": 11,
   "metadata": {},
   "outputs": [
    {
     "name": "stdout",
     "output_type": "stream",
     "text": [
      "is window seat , where he sat drinking and watching the sea while the sun darkened over pyke . i have no place here , sam thought anxiously , when her red eyes fell upon him . someone had to help maester aemon up the steps . do not look at me , ever since that time i lost my horse . as if that could be helped . he was white and it was snowing , what did they expect the wind took that one , said grenn , another friend of lord snow is . try to hold the bow steady , sam. it is heavy , the fat boy complained , but he pulled the second arrow all the same . this one went high , sailing through the branches overhead , across the starry sky. snow, the moon murmured . the wolf made no answer . snow crunched beneath his feet . as  as you say , mlady. roose is not pleased . tell your bastard that. he is not my bastard , he wanted to say . who in seven hells do you think goes there did the others take your eyes he rode between the gateposts , one bearing a ram is skull and the other the skull of a\n"
     ]
    }
   ],
   "source": [
    "print(generate_text(lm, ORDER, 'tyrion drank it in his window seat,'))"
   ]
  },
  {
   "cell_type": "code",
   "execution_count": null,
   "metadata": {},
   "outputs": [],
   "source": []
  }
 ],
 "metadata": {
  "anaconda-cloud": {},
  "kernelspec": {
   "display_name": "Python 3",
   "language": "python",
   "name": "python3"
  },
  "language_info": {
   "codemirror_mode": {
    "name": "ipython",
    "version": 3
   },
   "file_extension": ".py",
   "mimetype": "text/x-python",
   "name": "python",
   "nbconvert_exporter": "python",
   "pygments_lexer": "ipython3",
   "version": "3.7.0"
  }
 },
 "nbformat": 4,
 "nbformat_minor": 1
}

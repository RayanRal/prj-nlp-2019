{
 "cells": [
  {
   "cell_type": "code",
   "execution_count": 1,
   "metadata": {},
   "outputs": [],
   "source": [
    "import sys\n",
    "import io\n",
    "import os\n",
    "\n",
    "import numpy as np\n",
    "from random import randint\n",
    "from random import random\n",
    "\n",
    "from collections import *\n",
    "\n",
    "import re\n",
    "\n",
    "from os import listdir\n",
    "from os.path import isfile, join"
   ]
  },
  {
   "cell_type": "code",
   "execution_count": 2,
   "metadata": {},
   "outputs": [],
   "source": [
    "def clean_text(text):\n",
    "    '''Clean text by removing unnecessary characters and altering the format of words.'''\n",
    "\n",
    "    text = text.lower()\n",
    "    \n",
    "    text = re.sub(r\"i'm\", \"i am\", text)\n",
    "    text = re.sub(r\"he's\", \"he is\", text)\n",
    "    text = re.sub(r\"she's\", \"she is\", text)\n",
    "    text = re.sub(r\"it's\", \"it is\", text)\n",
    "    text = re.sub(r\"'s\", \" is\", text)\n",
    "    text = re.sub(r\"that's\", \"that is\", text)\n",
    "    text = re.sub(r\"what's\", \"that is\", text)\n",
    "    text = re.sub(r\"where's\", \"where is\", text)\n",
    "    text = re.sub(r\"how's\", \"how is\", text)\n",
    "    text = re.sub(r\"\\'ll\", \" will\", text)\n",
    "    text = re.sub(r\"\\'ve\", \" have\", text)\n",
    "    text = re.sub(r\"\\'re\", \" are\", text)\n",
    "    text = re.sub(r\"\\'d\", \" would\", text)\n",
    "    text = re.sub(r\"\\'re\", \" are\", text)\n",
    "    text = re.sub(r\"won't\", \"will not\", text)\n",
    "    text = re.sub(r\"can't\", \"cannot\", text)\n",
    "    text = re.sub(r\"n't\", \" not\", text)\n",
    "    text = re.sub(r\"n'\", \"ng\", text)\n",
    "    text = re.sub(r\"'bout\", \"about\", text)\n",
    "    text = re.sub(r\"'til\", \"until\", text)\n",
    "    text = re.sub(r\"[”“’‘'-()\\\"#/@;:<>{}`+=~|!?]\", \"\", text)\n",
    "    \n",
    "    return text"
   ]
  },
  {
   "cell_type": "code",
   "execution_count": 3,
   "metadata": {},
   "outputs": [
    {
     "name": "stdout",
     "output_type": "stream",
     "text": [
      "5\n",
      "9609400\n",
      "9534701\n"
     ]
    }
   ],
   "source": [
    "### Read/process inputs\n",
    "input_path = './raw_data/'\n",
    "all_data_sents = []\n",
    "\n",
    "files = [join(input_path, f) for f in listdir(input_path) if isfile(join(input_path, f))]\n",
    "for filename in files:\n",
    "    if filename.endswith('.txt'):\n",
    "        with open(filename, encoding='utf-8', errors='ignore') as f:\n",
    "            text = f.read().lower()\n",
    "            text = text.replace('\\n\\n', '\\n')\\\n",
    "                .replace('\"', '')\\\n",
    "                .replace('-', ' - ')\\\n",
    "                .replace(\"\\\"\", '')\\\n",
    "                .replace(\"...\", \"\")\\\n",
    "                .replace(\"…\", \"\")\\\n",
    "                .replace(\"—\", \"\")\\\n",
    "                .replace(\". \", \" . \")\\\n",
    "                .replace(\", \", \" , \")\n",
    "            text = ' '.join(text.split(\"\\n\"))\n",
    "            all_data_sents.append(text)\n",
    "    \n",
    "print(len(all_data_sents))\n",
    "\n",
    "all_data_string = ' '.join(all_data_sents)\n",
    "print(len(all_data_string))\n",
    "\n",
    "all_data_string = clean_text(all_data_string)\n",
    "print(len(all_data_string))"
   ]
  },
  {
   "cell_type": "code",
   "execution_count": 4,
   "metadata": {},
   "outputs": [],
   "source": [
    "TEST_SET_SIZE = 20\n",
    "\n",
    "sents = [sent for sent in all_data_string.split('.') if sent.strip() != '' or sent == '\\n']\n",
    "train_set, test_set = sents, []\n",
    "\n",
    "for x in range(TEST_SET_SIZE):\n",
    "    index = randint(0, len(sents))\n",
    "    test_set.append(train_set.pop(index).strip())\n",
    "    \n",
    "train_set = '.'.join(train_set)"
   ]
  },
  {
   "cell_type": "code",
   "execution_count": 5,
   "metadata": {},
   "outputs": [],
   "source": [
    "def xrange(x):\n",
    "    return iter(range(x))\n",
    "\n",
    "def train_char_lm(data, order=4):\n",
    "    lm = defaultdict(Counter)\n",
    "    pad = \"~\" * order\n",
    "    data = pad + data\n",
    "    for i in xrange(len(data)-order):\n",
    "        history, char = data[i:i+order], data[i+order]\n",
    "        lm[history][char]+=1\n",
    "    def normalize(counter):\n",
    "        s = float(sum(counter.values()))\n",
    "        return [(c,cnt/s) for c,cnt in counter.items()]\n",
    "    outlm = {hist:normalize(chars) for hist, chars in lm.items()}\n",
    "    return outlm"
   ]
  },
  {
   "cell_type": "code",
   "execution_count": 6,
   "metadata": {},
   "outputs": [],
   "source": [
    "def generate_letter(lm, history, order):\n",
    "        history = history[-order:]\n",
    "        dist = lm[history]\n",
    "        x = random()\n",
    "        for c,v in dist:\n",
    "            x = x - v\n",
    "            if x <= 0: return c"
   ]
  },
  {
   "cell_type": "code",
   "execution_count": 14,
   "metadata": {},
   "outputs": [],
   "source": [
    "def generate_text(lm, order, history=None, nletters=1000):\n",
    "    if history is None:\n",
    "        history = \"~\" * order\n",
    "    else:\n",
    "        history = history[0:order]\n",
    "        if len(history) < order:\n",
    "            history = (\"~\" * (order - len(history))) + history\n",
    "    out = []\n",
    "    for i in xrange(nletters):\n",
    "        c = generate_letter(lm, history, order)\n",
    "        history = history[-order:] + c\n",
    "        out.append(c)\n",
    "    return \"\".join(out)"
   ]
  },
  {
   "cell_type": "code",
   "execution_count": 10,
   "metadata": {},
   "outputs": [],
   "source": [
    "ORDER = 20\n",
    "\n",
    "lm = train_char_lm(all_data_string, ORDER)"
   ]
  },
  {
   "cell_type": "code",
   "execution_count": 24,
   "metadata": {},
   "outputs": [
    {
     "name": "stdout",
     "output_type": "stream",
     "text": [
      "TEST INPUT:\n",
      "it was the best counsel he had for her , though he wished it sounded wiser\n",
      "\n",
      "GENERATED TEXT:\n",
      "\n",
      "sel he had for her , though he wished it sounded wiser. he had written to each of his three surviving sons as well , to help them remember the father who had sent him to the wall , insisting that he had to tell him something , but oft as not he would have forgotten what he meant to say by the time that sam arrived . even when he did recall , his talk was all a jumble . he spoke of dreams and never named the dreamer , of a glass candle that could not be helped , he told his nephew . our fleet was doomed in any case. even from atop the merlonhe had been too short to see over the ramparts , so hed had them boost him upthe flames and smoke and chaos of battle made it impossible for tyrion to see what was happening , riders were pouring over the ditch banks and galloping through the woods and picking flowers, cersei said . i have a kingdom to rule. only one , your grace who rules the other six margaery laughed a merry little laugh . you will forgive me , my lords. she gave them no choice le\n"
     ]
    }
   ],
   "source": [
    "test_index = randint(0, TEST_SET_SIZE)\n",
    "test_input = test_set[test_index]\n",
    "print(\"TEST INPUT:\\n{}\\n\".format(test_input))\n",
    "print(\"GENERATED TEXT:\\n\")\n",
    "print(generate_text(lm, ORDER, test_input))"
   ]
  },
  {
   "cell_type": "code",
   "execution_count": 23,
   "metadata": {},
   "outputs": [
    {
     "name": "stdout",
     "output_type": "stream",
     "text": [
      ". in a year i shall be in westeros , said dany when she had heard the translation . only then did she stop to shake the water from his coat and bare his teeth at the rain . when at last robb gave jeyne one final kiss , dispatched a dozen men to take her back to riverrun , and he was rid of the big homely wench as well . i could not have named them all myself . that was a lie , but if joffrey is the lawful king and robb a traitor . among the brotherhood of the failed and the fallen , the disgraced and the disinherited . this is my army . this is our best hope. he turned to harry strickland. homeless harry looked little like a warrior . portly , with a big round head , mild grey eyes , and thinning hair that he brushed sideways to conceal a bald spot , strickland sat in a camp chair soaking his feet in a tub of salt water . you will pardon me if i do not weep for shae . i confess , i do not understand . words he had never meant to speak came tumbling out of her . yes . i will . i would l\n"
     ]
    }
   ],
   "source": [
    "print(generate_text(lm, ORDER, 'another two thousand'))"
   ]
  },
  {
   "cell_type": "code",
   "execution_count": null,
   "metadata": {},
   "outputs": [],
   "source": []
  }
 ],
 "metadata": {
  "anaconda-cloud": {},
  "kernelspec": {
   "display_name": "Python 3",
   "language": "python",
   "name": "python3"
  },
  "language_info": {
   "codemirror_mode": {
    "name": "ipython",
    "version": 3
   },
   "file_extension": ".py",
   "mimetype": "text/x-python",
   "name": "python",
   "nbconvert_exporter": "python",
   "pygments_lexer": "ipython3",
   "version": "3.7.0"
  }
 },
 "nbformat": 4,
 "nbformat_minor": 1
}

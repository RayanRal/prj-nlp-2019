{
 "cells": [
  {
   "cell_type": "code",
   "execution_count": 1,
   "metadata": {},
   "outputs": [],
   "source": [
    "import json\n",
    "from sklearn.pipeline import Pipeline\n",
    "from sklearn.preprocessing import StandardScaler\n",
    "from sklearn.metrics import classification_report\n",
    "from sklearn.linear_model import LogisticRegression\n",
    "from sklearn.model_selection import train_test_split\n",
    "from sklearn.feature_extraction import DictVectorizer\n",
    "\n",
    "from prepare_data import prepare_data"
   ]
  },
  {
   "cell_type": "code",
   "execution_count": 2,
   "metadata": {},
   "outputs": [],
   "source": [
    "with open('../../../tasks/02-structural-linguistics/blog2008.txt', 'r') as contents:\n",
    "    lines = [line.strip() for line in contents.readlines() if line[0].isalpha()]\n",
    "    train_sentences = [line for line in lines if line.endswith('.')][:100000]\n",
    "#     sentences = '\\n'.join(sentences)"
   ]
  },
  {
   "cell_type": "code",
   "execution_count": null,
   "metadata": {},
   "outputs": [],
   "source": [
    "with open('../../../tasks/07-language-as-sequence/run-on-test.json') as json_file:  \n",
    "    data = json.load(json_file)[18:19]\n",
    "    test_labels = []\n",
    "    test_sentences = []\n",
    "    sentences_len = len(data)\n",
    "    for i, sentence in enumerate(data):\n",
    "        temp_sentence = []\n",
    "        temp_labels = []\n",
    "        sentence_len = len(sentence)\n",
    "        for j, token in enumerate(sentence):\n",
    "            temp_sentence.append(token[0])\n",
    "            if not (j == sentence_len - 1 and i == sentences_len - 1):\n",
    "                temp_labels.append(token[1])\n",
    "        test_sentences.append(' '.join(temp_sentence))\n",
    "        test_labels.extend(temp_labels)"
   ]
  },
  {
   "cell_type": "code",
   "execution_count": 3,
   "metadata": {},
   "outputs": [],
   "source": [
    "def extract(data):\n",
    "    batch_size = 5000\n",
    "    labels, features = [], []\n",
    "    for i in range(0, len(data), batch_size):\n",
    "        lab, feat = prepare_data(' '.join(data[i:i + batch_size]))\n",
    "\n",
    "        labels.extend(lab)\n",
    "        features.extend(feat)\n",
    "    return labels, features"
   ]
  },
  {
   "cell_type": "code",
   "execution_count": 4,
   "metadata": {},
   "outputs": [],
   "source": [
    "train_labels, train_features = extract(train_sentences)\n",
    "x_train, x_test, y_train, y_test = train_test_split(train_features, train_labels, test_size=0.3, random_state=1)"
   ]
  },
  {
   "cell_type": "code",
   "execution_count": 5,
   "metadata": {},
   "outputs": [],
   "source": [
    "clf = Pipeline([\n",
    "    ('vectorizer', DictVectorizer()),\n",
    "    ('scaler', StandardScaler(with_mean=False)),\n",
    "    ('logistregress', LogisticRegression(solver='sag'))\n",
    "])"
   ]
  },
  {
   "cell_type": "code",
   "execution_count": 7,
   "metadata": {},
   "outputs": [
    {
     "name": "stdout",
     "output_type": "stream",
     "text": [
      "              precision    recall  f1-score   support\n",
      "\n",
      "       False       1.00      1.00      1.00    717237\n",
      "        True       0.97      0.91      0.94     34245\n",
      "\n",
      "   micro avg       0.99      0.99      0.99    751482\n",
      "   macro avg       0.98      0.95      0.97    751482\n",
      "weighted avg       0.99      0.99      0.99    751482\n",
      "\n"
     ]
    }
   ],
   "source": [
    "clf.fit(x_train, y_train)\n",
    "predicted = clf.predict(x_test)\n",
    "print(classification_report(y_test, predicted))"
   ]
  }
 ],
 "metadata": {
  "kernelspec": {
   "display_name": "Python 3",
   "language": "python",
   "name": "python3"
  },
  "language_info": {
   "codemirror_mode": {
    "name": "ipython",
    "version": 3
   },
   "file_extension": ".py",
   "mimetype": "text/x-python",
   "name": "python",
   "nbconvert_exporter": "python",
   "pygments_lexer": "ipython3",
   "version": "3.6.8"
  }
 },
 "nbformat": 4,
 "nbformat_minor": 2
}
